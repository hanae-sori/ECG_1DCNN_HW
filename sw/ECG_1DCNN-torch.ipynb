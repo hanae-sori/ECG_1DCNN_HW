{
 "cells": [
  {
   "cell_type": "markdown",
   "id": "83d5e935-d7a4-493b-8f9b-56723dde35d9",
   "metadata": {},
   "source": [
    "# Preferences"
   ]
  },
  {
   "cell_type": "code",
   "execution_count": 1,
   "id": "ddbf4e61-49e9-44dc-8e3c-d7e7f4530622",
   "metadata": {},
   "outputs": [
    {
     "name": "stdout",
     "output_type": "stream",
     "text": [
      "2.3.1\n"
     ]
    }
   ],
   "source": [
    "import torch\n",
    "import torch.nn as nn\n",
    "import torch.optim as optim\n",
    "from torch.utils.data import DataLoader\n",
    "from torchsummary import summary\n",
    "from torchviz import make_dot\n",
    "print(torch.__version__)\n",
    "\n",
    "import sys\n",
    "\n",
    "import numpy as np\n",
    "import pandas as pd\n",
    "import matplotlib.pyplot as plt\n",
    "from tqdm.auto import tqdm\n",
    "from IPython.display import Image"
   ]
  },
  {
   "cell_type": "code",
   "execution_count": 2,
   "id": "368138e9-5ada-49c6-87a5-cfd841a9c7bb",
   "metadata": {},
   "outputs": [
    {
     "name": "stdout",
     "output_type": "stream",
     "text": [
      "Available GPUs: 1\n",
      "GPU 0: NVIDIA GeForce GTX 1080\n"
     ]
    }
   ],
   "source": [
    "import os\n",
    "os.environ[\"CUDA_VISIBLE_DEVICES\"]=\"0\"\n",
    "\n",
    "device = torch.device(\"cuda:0\" if torch.cuda.is_available() else \"cpu\")\n",
    "\n",
    "if torch.cuda.is_available():\n",
    "    print(\"Available GPUs:\", torch.cuda.device_count())\n",
    "    for i in range(torch.cuda.device_count()):\n",
    "        print(f\"GPU {i}: {torch.cuda.get_device_name(i)}\")\n",
    "else:\n",
    "    print(\"No GPUs available, CPU {} \".format(device))"
   ]
  },
  {
   "cell_type": "markdown",
   "id": "d447eeef-5ee3-4372-9d2c-36ce8bdae6f0",
   "metadata": {},
   "source": [
    "# Data Preprocessing"
   ]
  },
  {
   "cell_type": "markdown",
   "id": "98b8cbb6-60ff-4429-bc7d-102a6e44a378",
   "metadata": {},
   "source": [
    "def my_DataLoader(train_root,test_root,batch_size = 100, val_split_factor = 0.2):\r\n",
    "\r\n",
    "    train_df = pd.read_csv(train_root, header=None)\r\n",
    "    test_df = pd.read_csv(test_root, header=None)\r\n",
    "\r\n",
    "    train_data = train_df.to_numpy()\r\n",
    "    test_data = test_df.to_numpy()\r\n",
    "\r\n",
    "    train_dataset = torch.utils.data.TensorDataset(torch.from_numpy(train_data[:, :-1]).float(),\r\n",
    "                                                   torch.from_numpy(train_data[:, -1]).long(),)\r\n",
    "    test_dataset = torch.utils.data.TensorDataset(torch.from_numpy(test_data[:, :-1]).float(),\r\n",
    "                                                  torch.from_numpy(test_data[:, -1]).long())\r\n",
    "\r\n",
    "    train_len = train_data.shape[0]\r\n",
    "    val_len = int(train_len * val_split_factor)\r\n",
    "    train_len -= val_len\r\n",
    "\r\n",
    "    train_dataset, val_dataset = torch.utils.data.random_split(train_dataset, [train_len, val_len])\r\n",
    "\r\n",
    "    train_loader = DataLoader(train_dataset, batch_size=batch_size, shuffle=True)\r\n",
    "    val_loader = DataLoader(val_dataset, batch_size=batch_size, shuffle=True)\r\n",
    "    test_loader = DataLoader(test_dataset, batch_size=batch_size, shuffle=True)\r\n",
    "\r\n",
    "    return train_loader, val_loader, test_loader"
   ]
  },
  {
   "cell_type": "code",
   "execution_count": 3,
   "id": "77e100d7-daed-486f-a663-4c46a631f1df",
   "metadata": {},
   "outputs": [
    {
     "data": {
      "text/html": [
       "<div>\n",
       "<style scoped>\n",
       "    .dataframe tbody tr th:only-of-type {\n",
       "        vertical-align: middle;\n",
       "    }\n",
       "\n",
       "    .dataframe tbody tr th {\n",
       "        vertical-align: top;\n",
       "    }\n",
       "\n",
       "    .dataframe thead th {\n",
       "        text-align: right;\n",
       "    }\n",
       "</style>\n",
       "<table border=\"1\" class=\"dataframe\">\n",
       "  <thead>\n",
       "    <tr style=\"text-align: right;\">\n",
       "      <th></th>\n",
       "      <th>0</th>\n",
       "      <th>1</th>\n",
       "      <th>2</th>\n",
       "      <th>3</th>\n",
       "      <th>4</th>\n",
       "      <th>5</th>\n",
       "      <th>6</th>\n",
       "      <th>7</th>\n",
       "      <th>8</th>\n",
       "      <th>9</th>\n",
       "      <th>...</th>\n",
       "      <th>178</th>\n",
       "      <th>179</th>\n",
       "      <th>180</th>\n",
       "      <th>181</th>\n",
       "      <th>182</th>\n",
       "      <th>183</th>\n",
       "      <th>184</th>\n",
       "      <th>185</th>\n",
       "      <th>186</th>\n",
       "      <th>187</th>\n",
       "    </tr>\n",
       "  </thead>\n",
       "  <tbody>\n",
       "    <tr>\n",
       "      <th>0</th>\n",
       "      <td>0.977941</td>\n",
       "      <td>0.926471</td>\n",
       "      <td>0.681373</td>\n",
       "      <td>0.245098</td>\n",
       "      <td>0.154412</td>\n",
       "      <td>0.191176</td>\n",
       "      <td>0.151961</td>\n",
       "      <td>0.085784</td>\n",
       "      <td>0.058824</td>\n",
       "      <td>0.049020</td>\n",
       "      <td>...</td>\n",
       "      <td>0.0</td>\n",
       "      <td>0.0</td>\n",
       "      <td>0.0</td>\n",
       "      <td>0.0</td>\n",
       "      <td>0.0</td>\n",
       "      <td>0.0</td>\n",
       "      <td>0.0</td>\n",
       "      <td>0.0</td>\n",
       "      <td>0.0</td>\n",
       "      <td>0.0</td>\n",
       "    </tr>\n",
       "    <tr>\n",
       "      <th>1</th>\n",
       "      <td>0.960114</td>\n",
       "      <td>0.863248</td>\n",
       "      <td>0.461538</td>\n",
       "      <td>0.196581</td>\n",
       "      <td>0.094017</td>\n",
       "      <td>0.125356</td>\n",
       "      <td>0.099715</td>\n",
       "      <td>0.088319</td>\n",
       "      <td>0.074074</td>\n",
       "      <td>0.082621</td>\n",
       "      <td>...</td>\n",
       "      <td>0.0</td>\n",
       "      <td>0.0</td>\n",
       "      <td>0.0</td>\n",
       "      <td>0.0</td>\n",
       "      <td>0.0</td>\n",
       "      <td>0.0</td>\n",
       "      <td>0.0</td>\n",
       "      <td>0.0</td>\n",
       "      <td>0.0</td>\n",
       "      <td>0.0</td>\n",
       "    </tr>\n",
       "    <tr>\n",
       "      <th>2</th>\n",
       "      <td>1.000000</td>\n",
       "      <td>0.659459</td>\n",
       "      <td>0.186486</td>\n",
       "      <td>0.070270</td>\n",
       "      <td>0.070270</td>\n",
       "      <td>0.059459</td>\n",
       "      <td>0.056757</td>\n",
       "      <td>0.043243</td>\n",
       "      <td>0.054054</td>\n",
       "      <td>0.045946</td>\n",
       "      <td>...</td>\n",
       "      <td>0.0</td>\n",
       "      <td>0.0</td>\n",
       "      <td>0.0</td>\n",
       "      <td>0.0</td>\n",
       "      <td>0.0</td>\n",
       "      <td>0.0</td>\n",
       "      <td>0.0</td>\n",
       "      <td>0.0</td>\n",
       "      <td>0.0</td>\n",
       "      <td>0.0</td>\n",
       "    </tr>\n",
       "    <tr>\n",
       "      <th>3</th>\n",
       "      <td>0.925414</td>\n",
       "      <td>0.665746</td>\n",
       "      <td>0.541436</td>\n",
       "      <td>0.276243</td>\n",
       "      <td>0.196133</td>\n",
       "      <td>0.077348</td>\n",
       "      <td>0.071823</td>\n",
       "      <td>0.060773</td>\n",
       "      <td>0.066298</td>\n",
       "      <td>0.058011</td>\n",
       "      <td>...</td>\n",
       "      <td>0.0</td>\n",
       "      <td>0.0</td>\n",
       "      <td>0.0</td>\n",
       "      <td>0.0</td>\n",
       "      <td>0.0</td>\n",
       "      <td>0.0</td>\n",
       "      <td>0.0</td>\n",
       "      <td>0.0</td>\n",
       "      <td>0.0</td>\n",
       "      <td>0.0</td>\n",
       "    </tr>\n",
       "    <tr>\n",
       "      <th>4</th>\n",
       "      <td>0.967136</td>\n",
       "      <td>1.000000</td>\n",
       "      <td>0.830986</td>\n",
       "      <td>0.586854</td>\n",
       "      <td>0.356808</td>\n",
       "      <td>0.248826</td>\n",
       "      <td>0.145540</td>\n",
       "      <td>0.089202</td>\n",
       "      <td>0.117371</td>\n",
       "      <td>0.150235</td>\n",
       "      <td>...</td>\n",
       "      <td>0.0</td>\n",
       "      <td>0.0</td>\n",
       "      <td>0.0</td>\n",
       "      <td>0.0</td>\n",
       "      <td>0.0</td>\n",
       "      <td>0.0</td>\n",
       "      <td>0.0</td>\n",
       "      <td>0.0</td>\n",
       "      <td>0.0</td>\n",
       "      <td>0.0</td>\n",
       "    </tr>\n",
       "  </tbody>\n",
       "</table>\n",
       "<p>5 rows × 188 columns</p>\n",
       "</div>"
      ],
      "text/plain": [
       "        0         1         2         3         4         5         6    \\\n",
       "0  0.977941  0.926471  0.681373  0.245098  0.154412  0.191176  0.151961   \n",
       "1  0.960114  0.863248  0.461538  0.196581  0.094017  0.125356  0.099715   \n",
       "2  1.000000  0.659459  0.186486  0.070270  0.070270  0.059459  0.056757   \n",
       "3  0.925414  0.665746  0.541436  0.276243  0.196133  0.077348  0.071823   \n",
       "4  0.967136  1.000000  0.830986  0.586854  0.356808  0.248826  0.145540   \n",
       "\n",
       "        7         8         9    ...  178  179  180  181  182  183  184  185  \\\n",
       "0  0.085784  0.058824  0.049020  ...  0.0  0.0  0.0  0.0  0.0  0.0  0.0  0.0   \n",
       "1  0.088319  0.074074  0.082621  ...  0.0  0.0  0.0  0.0  0.0  0.0  0.0  0.0   \n",
       "2  0.043243  0.054054  0.045946  ...  0.0  0.0  0.0  0.0  0.0  0.0  0.0  0.0   \n",
       "3  0.060773  0.066298  0.058011  ...  0.0  0.0  0.0  0.0  0.0  0.0  0.0  0.0   \n",
       "4  0.089202  0.117371  0.150235  ...  0.0  0.0  0.0  0.0  0.0  0.0  0.0  0.0   \n",
       "\n",
       "   186  187  \n",
       "0  0.0  0.0  \n",
       "1  0.0  0.0  \n",
       "2  0.0  0.0  \n",
       "3  0.0  0.0  \n",
       "4  0.0  0.0  \n",
       "\n",
       "[5 rows x 188 columns]"
      ]
     },
     "execution_count": 3,
     "metadata": {},
     "output_type": "execute_result"
    }
   ],
   "source": [
    "train_pd = pd.read_csv(\"/home/hanaesori/workspace/jupyter_notebook/Neural_Network/csv/mitbih_train.csv\", header=None)\n",
    "train_pd.head()"
   ]
  },
  {
   "cell_type": "code",
   "execution_count": 4,
   "id": "c9eb95d1-e849-4c9a-9861-4a5b2e063914",
   "metadata": {},
   "outputs": [
    {
     "name": "stdout",
     "output_type": "stream",
     "text": [
      "Data Set(Sample, Features) : 87554 187\n",
      "Number of Categories : 5\n",
      "Classes[Normal = 0, Supra-ventricular = 1, Ventricular escape = 2, Fusion of ventricular = 3, Unclassifiable = 4] :\n",
      "Label 0 count: 72471\n",
      "Label 1 count: 2223\n",
      "Label 2 count: 5788\n",
      "Label 3 count: 641\n",
      "Label 4 count: 6431\n"
     ]
    }
   ],
   "source": [
    "train_np = train_pd.to_numpy()\n",
    "train_data = torch.utils.data.TensorDataset(torch.from_numpy(train_np[:, :-1]).float(), torch.from_numpy(train_np[:, -1]).long(),)\n",
    "train_loader = DataLoader(train_data, batch_size=1000, shuffle=True)\n",
    "\n",
    "X_train = train_data.tensors[0]\n",
    "Y_train = train_data.tensors[1]\n",
    "\n",
    "print('Data Set(Sample, Features) :', len(train_data), X_train.shape[1]) #=> X shape : (87553, 187)\n",
    "print('Number of Categories :', len(Y_train.unique()))\n",
    "print('Classes[Normal = 0, Supra-ventricular = 1, Ventricular escape = 2, Fusion of ventricular = 3, Unclassifiable = 4] :')\n",
    "for i in range(len(Y_train.unique())):\n",
    "    print(f'Label {Y_train.unique()[i].item()} count: {torch.sum(Y_train == Y_train.unique()[i])}')"
   ]
  },
  {
   "cell_type": "code",
   "execution_count": 5,
   "id": "9d047c52-16cf-4d9e-b7d6-6f3be7e1e947",
   "metadata": {},
   "outputs": [],
   "source": [
    "val_split_factor = 0.2\n",
    "batch_size = 100\n",
    "\n",
    "train_len = train_np.shape[0]\n",
    "val_len = int(train_len * val_split_factor)\n",
    "train_len -= val_len\n",
    "\n",
    "train_data, val_data = torch.utils.data.random_split(train_data, [train_len, val_len])\n",
    "val_loader = DataLoader(val_data, batch_size=batch_size, shuffle=True)"
   ]
  },
  {
   "cell_type": "markdown",
   "id": "cd4fad2d-7134-4f17-8c73-5d5c6474e459",
   "metadata": {},
   "source": [
    "x_train, x_test, y_train, y_test = train_test_split(X,Y,test_size=0.2,random_state=7, stratify=Y)\n",
    "print('Train shape :',x_train.shape) #=> Train shape : (3998, 140)\n",
    "print('Test shape :',x_test.shape) #=> Test shape : (1000, 140)"
   ]
  },
  {
   "cell_type": "code",
   "execution_count": 6,
   "id": "41b8e208-41cf-4e6b-a2ee-a96064bf2740",
   "metadata": {},
   "outputs": [
    {
     "data": {
      "image/png": "[encoded data removed]",
      "text/plain": [
       "<Figure size 900x600 with 6 Axes>"
      ]
     },
     "metadata": {},
     "output_type": "display_data"
    }
   ],
   "source": [
    "normal_X_train = X_train[Y_train == 0]\n",
    "\n",
    "fig, ax = plt.subplots(ncols=3, nrows=2, figsize=(9,6))\n",
    "fig.suptitle(\"Normal ECG\")\n",
    "ax = ax.ravel()\n",
    "for idx, ax in enumerate(ax):\n",
    "    ax.grid()\n",
    "    ax.plot(np.arange(len(normal_X_train[idx])), normal_X_train[idx])\n",
    "plt.show()"
   ]
  },
  {
   "cell_type": "code",
   "execution_count": 7,
   "id": "e3618b08-48fd-4087-a087-42b8d912bdf5",
   "metadata": {},
   "outputs": [
    {
     "data": {
      "image/png": "[encoded data removed]",
      "text/plain": [
       "<Figure size 900x600 with 6 Axes>"
      ]
     },
     "metadata": {},
     "output_type": "display_data"
    }
   ],
   "source": [
    "anomalous_X_train = X_train[Y_train!=0]\n",
    "\n",
    "fig, ax = plt.subplots(ncols=3, nrows=2, figsize=(9,6))\n",
    "fig.suptitle(\"Anomalous ECG\")\n",
    "ax = ax.ravel()\n",
    "for idx, ax in enumerate(ax):\n",
    "    ax.grid()\n",
    "    ax.plot(np.arange(len(anomalous_X_train[idx])), anomalous_X_train[idx])\n",
    "plt.show()"
   ]
  },
  {
   "cell_type": "markdown",
   "id": "79c013fc-0b15-4896-840e-69780e07be62",
   "metadata": {},
   "source": [
    "# 1D-CNN Modeling"
   ]
  },
  {
   "cell_type": "code",
   "execution_count": 8,
   "id": "e52f4e4d-9c99-4fd8-a9f9-9e578c02a8a3",
   "metadata": {},
   "outputs": [],
   "source": [
    "class ConvNet1D(nn.Module):\n",
    "    def __init__(self, num_of_class):\n",
    "        super(ConvNet1D, self).__init__()\n",
    "        self.layer1 = nn.Sequential(\n",
    "            nn.Conv1d(1, 16, kernel_size=3, stride=1, padding=1),\n",
    "            nn.MaxPool1d(2)\n",
    "        )\n",
    "        self.layer2 = nn.Sequential(\n",
    "            nn.Conv1d(16, 64, kernel_size=3, stride=1, padding=1),\n",
    "            nn.MaxPool1d(2)\n",
    "        )\n",
    "        self.layer3 = nn.Sequential(\n",
    "            nn.Conv1d(64, 128, kernel_size=3, stride=1, padding=1),\n",
    "            nn.MaxPool1d(2)\n",
    "        )\n",
    "        self.fc = nn.Sequential(\n",
    "            nn.Linear(2944,500),\n",
    "            nn.LeakyReLU(inplace=True),\n",
    "            nn.Linear(500, num_of_class),\n",
    "        )\n",
    "\n",
    "    def forward(self,x):\n",
    "        if x.dim() == 2:  # [batch_size, length]\n",
    "            x = x.unsqueeze(1)\n",
    "        x = self.layer1(x)\n",
    "        x = self.layer2(x)\n",
    "        x = self.layer3(x)\n",
    "        # print(x.shape)\n",
    "        x = x.view(x.size(0), -1)\n",
    "        #x [b, 2944]\n",
    "        # print(x.shape)\n",
    "        x = self.fc(x)\n",
    "\n",
    "        return x"
   ]
  },
  {
   "cell_type": "markdown",
   "id": "bd142f0d-fb84-4031-a9c9-979e25e0df9c",
   "metadata": {},
   "source": [
    "class ConvNet1D(nn.Module):\n",
    "    def __init__(self):\n",
    "        super(ConvNet1D, self).__init__()\n",
    "        self.layer1 = nn.Sequential(\n",
    "            nn.Conv1d(1, 36, kernel_size=5, stride=1, padding=2),\n",
    "            nn.BatchNorm1d(36),\n",
    "            nn.ReLU(),\n",
    "            nn.MaxPool1d(kernel_size=5, stride=2, padding=0)\n",
    "        )\n",
    "        self.layer2 = nn.Sequential(\n",
    "            nn.Conv1d(36, 48, kernel_size=5, stride=1, padding=2),\n",
    "            nn.BatchNorm1d(48),\n",
    "            nn.ReLU(),\n",
    "            nn.MaxPool1d(kernel_size=5, stride=2, padding=0)\n",
    "        )\n",
    "        self.layer3 = nn.Sequential(\n",
    "            nn.Conv1d(48, 64, kernel_size=5, stride=1, padding=2),\n",
    "            nn.BatchNorm1d(64),\n",
    "            nn.ReLU(),\n",
    "            nn.MaxPool1d(kernel_size=5, stride=2, padding=0)\n",
    "        )\n",
    "        self.fc = nn.Sequential(\n",
    "            nn.Dropout(p=0.5),\n",
    "            nn.Linear(1280, 128),\n",
    "            nn.BatchNorm1d(128),\n",
    "            nn.ReLU(),\n",
    "            nn.Dropout(p=0.5),\n",
    "            nn.Linear(128, 64),\n",
    "            nn.BatchNorm1d(64),\n",
    "            nn.ReLU(),\n",
    "            nn.Dropout(p=0.5),\n",
    "            nn.Linear(64, 5)\n",
    "        )\n",
    "\n",
    "    def forward(self, x):\n",
    "        x = self.layer1(x)\n",
    "        x = self.layer2(x)\n",
    "        x = self.layer3(x)\n",
    "        x = x.view(x.size(0), -1)\n",
    "        x = self.fc(x)\n",
    "        return x"
   ]
  },
  {
   "cell_type": "markdown",
   "id": "e6abf411-9bc1-4c90-90a3-c79c27449aa1",
   "metadata": {},
   "source": [
    "# define the model using pytorch\n",
    "class ConvNet1D(nn.Module):\n",
    "    def __init__(self, conv_dim):\n",
    "        super(ConvNet1D, self).__init__()\n",
    "        \n",
    "        self.layer1 = nn.Sequential(\n",
    "            nn.Conv1d(in_channels=3,\n",
    "                      out_channels=conv_dim,\n",
    "                      kernel_size=4,\n",
    "                      stride=1,\n",
    "                      padding=0,\n",
    "                      dilation=1,\n",
    "                      groups=1,\n",
    "                      bias=True,\n",
    "                      padding_mode='zeros'), \n",
    "            nn.BatchNorm1d(num_features, \n",
    "                           eps=1e-05, \n",
    "                           momentum=0.1, \n",
    "                           affine=True, \n",
    "                           track_running_stats=True), \n",
    "            nn.ReLU(inplace=False), \n",
    "            nn.MaxPool1d(kernel_size=2, \n",
    "                         stride=2, \n",
    "                         padding=0,\n",
    "                         dilation=1,\n",
    "                         ceil_mode=False)\n",
    "        )\n",
    "            \n",
    "        self.layer2 = nn.Sequential(\n",
    "            nn.Conv1d(in_channels=3,\n",
    "                      out_channels=conv_dim,\n",
    "                      kernel_size=4,\n",
    "                      stride=1,\n",
    "                      padding=0,\n",
    "                      dilation=1,\n",
    "                      groups=1,\n",
    "                      bias=True,\n",
    "                      padding_mode='zeros'), \n",
    "            nn.BatchNorm1d(num_features, \n",
    "                           eps=1e-05, \n",
    "                           momentum=0.1, \n",
    "                           affine=True, \n",
    "                           track_running_stats=True), \n",
    "            nn.ReLU(inplace=False), \n",
    "            nn.MaxPool1d(kernel_size=2, \n",
    "                         stride=2, \n",
    "                         padding=0,\n",
    "                         dilation=1,\n",
    "                         ceil_mode=False)\n",
    "        )\n",
    "            \n",
    "        self.layer3 = nn.Sequential(\n",
    "            nn.Conv1d(in_channels=3,\n",
    "                      out_channels=conv_dim,\n",
    "                      kernel_size=4,\n",
    "                      stride=1,\n",
    "                      padding=0,\n",
    "                      dilation=1,\n",
    "                      groups=1,\n",
    "                      bias=True,\n",
    "                      padding_mode='zeros'), \n",
    "            nn.BatchNorm1d(num_features, \n",
    "                           eps=1e-05, \n",
    "                           momentum=0.1, \n",
    "                           affine=True, \n",
    "                           track_running_stats=True), \n",
    "            nn.ReLU(inplace=False), \n",
    "            nn.MaxPool1d(kernel_size=2, \n",
    "                         stride=2, \n",
    "                         padding=0,\n",
    "                         dilation=1,\n",
    "                         ceil_mode=False)\n",
    "        )\n",
    "            \n",
    "        self.fc = nn.Sequential(\n",
    "            nn.Dropout(p=drop_prob), \n",
    "            nn.Linear(in_features=10,\n",
    "                      out_features=20,\n",
    "                      bias=True), \n",
    "            nn.BatchNorm1d(num_features, \n",
    "                           eps=1e-05, \n",
    "                           momentum=0.1, \n",
    "                           affine=True, \n",
    "                           track_running_stats=True), \n",
    "            nn.ReLU(inplace=False), \n",
    "            nn.Dropout(p=drop_prob), \n",
    "            nn.Linear(in_features=10,\n",
    "                      out_features=20,\n",
    "                      bias=True), \n",
    "            nn.BatchNorm1d(num_features, \n",
    "                           eps=1e-05, \n",
    "                           momentum=0.1, \n",
    "                           affine=True, \n",
    "                           track_running_stats=True), \n",
    "            nn.ReLU(inplace=False), \n",
    "            nn.Dropout(p=drop_prob), \n",
    "            nn.Linear(in_features=10,\n",
    "                      out_features=20,\n",
    "                      bias=True)\n",
    "        )\n",
    "\n",
    "    def forward(self, x):\n",
    "        x = F.relu(self.layer1(x))\n",
    "        x = F.relu(self.layer2(x))\n",
    "        x = F.relu(self.layer3(x))\n",
    "            \n",
    "        # Flatten\n",
    "        x = x.view(-1, self.conv_dim*4*4*4)\n",
    "        out = self.fc(x)\n",
    "            \n",
    "        return out "
   ]
  },
  {
   "cell_type": "code",
   "execution_count": 9,
   "id": "d87a5515-305b-4e9f-b66d-6076769aadcf",
   "metadata": {},
   "outputs": [],
   "source": [
    "def evalute(model, loader, crit):\n",
    "    model.eval()\n",
    "\n",
    "    correct = 0\n",
    "    total = len(loader.dataset)\n",
    "    val_bar = tqdm(loader, file=sys.stdout)\n",
    "    cur_loss=[]\n",
    "    for x, y in val_bar:\n",
    "        x, y = x.to(device), y.to(device)\n",
    "        with torch.no_grad():\n",
    "            logits = model(x)\n",
    "            pred = logits.argmax(dim=1)\n",
    "            cur_loss.append(crit(logits, y))\n",
    "        correct += torch.eq(pred, y).sum().float().item()\n",
    "\n",
    "    return correct / total, sum(cur_loss)/len(cur_loss)"
   ]
  },
  {
   "cell_type": "code",
   "execution_count": 10,
   "id": "50696687-2589-4c91-b1a3-0822d336597e",
   "metadata": {},
   "outputs": [],
   "source": [
    "model = ConvNet1D(len(Y_train.unique())).to(device)\n",
    "compiled_model = torch.compile(model).cuda"
   ]
  },
  {
   "cell_type": "markdown",
   "id": "98d93c87-56d8-4d35-8319-56034492a31e",
   "metadata": {},
   "source": [
    "# Model Learning"
   ]
  },
  {
   "cell_type": "code",
   "execution_count": 11,
   "id": "07aeff61-9702-48a5-8e46-9639b4ee759f",
   "metadata": {},
   "outputs": [],
   "source": [
    "batch_size = 100\n",
    "lr = 3e-3\n",
    "epochs = 70\n",
    "torch.manual_seed(1234)\n",
    "optimizer = optim.Adam(model.parameters(), lr=lr)\n",
    "criterion = nn.CrossEntropyLoss()"
   ]
  },
  {
   "cell_type": "code",
   "execution_count": 12,
   "id": "482dd0ad-e110-475f-9c91-29b5a9553a07",
   "metadata": {},
   "outputs": [
    {
     "data": {
      "application/vnd.jupyter.widget-view+json": {
       "model_id": "1f2870aa17f74db7a17fde897d75e735",
       "version_major": 2,
       "version_minor": 0
      },
      "text/plain": [
       "  0%|          | 0/88 [00:00<?, ?it/s]"
      ]
     },
     "metadata": {},
     "output_type": "display_data"
    },
    {
     "name": "stdout",
     "output_type": "stream",
     "text": [
      "Train Acc: 0.889690933595267\n"
     ]
    },
    {
     "data": {
      "application/vnd.jupyter.widget-view+json": {
       "model_id": "1f98e7f90e284beebd44b3b5e32619e4",
       "version_major": 2,
       "version_minor": 0
      },
      "text/plain": [
       "  0%|          | 0/176 [00:00<?, ?it/s]"
      ]
     },
     "metadata": {},
     "output_type": "display_data"
    },
    {
     "name": "stdout",
     "output_type": "stream",
     "text": [
      "val_acc =  0.956996002284409\n"
     ]
    },
    {
     "data": {
      "application/vnd.jupyter.widget-view+json": {
       "model_id": "74ff34eb1f3748d8b13880e83507ae5c",
       "version_major": 2,
       "version_minor": 0
      },
      "text/plain": [
       "  0%|          | 0/88 [00:00<?, ?it/s]"
      ]
     },
     "metadata": {},
     "output_type": "display_data"
    },
    {
     "name": "stdout",
     "output_type": "stream",
     "text": [
      "Train Acc: 0.9615208899650501\n"
     ]
    },
    {
     "data": {
      "application/vnd.jupyter.widget-view+json": {
       "model_id": "207660aba0e242f99c0d3d218290215b",
       "version_major": 2,
       "version_minor": 0
      },
      "text/plain": [
       "  0%|          | 0/176 [00:00<?, ?it/s]"
      ]
     },
     "metadata": {},
     "output_type": "display_data"
    },
    {
     "name": "stdout",
     "output_type": "stream",
     "text": [
      "val_acc =  0.9700171330668189\n"
     ]
    },
    {
     "data": {
      "application/vnd.jupyter.widget-view+json": {
       "model_id": "83f5d59d12494e2d8180348219b75825",
       "version_major": 2,
       "version_minor": 0
      },
      "text/plain": [
       "  0%|          | 0/88 [00:00<?, ?it/s]"
      ]
     },
     "metadata": {},
     "output_type": "display_data"
    },
    {
     "name": "stdout",
     "output_type": "stream",
     "text": [
      "Train Acc: 0.9720515339105009\n"
     ]
    },
    {
     "data": {
      "application/vnd.jupyter.widget-view+json": {
       "model_id": "5c66ee5f4fdc4516b3d31fa4e4ba4abb",
       "version_major": 2,
       "version_minor": 0
      },
      "text/plain": [
       "  0%|          | 0/176 [00:00<?, ?it/s]"
      ]
     },
     "metadata": {},
     "output_type": "display_data"
    },
    {
     "name": "stdout",
     "output_type": "stream",
     "text": [
      "val_acc =  0.9741290691033695\n"
     ]
    },
    {
     "data": {
      "application/vnd.jupyter.widget-view+json": {
       "model_id": "03f9e2b850884f949c9f92f4a7344666",
       "version_major": 2,
       "version_minor": 0
      },
      "text/plain": [
       "  0%|          | 0/88 [00:00<?, ?it/s]"
      ]
     },
     "metadata": {},
     "output_type": "display_data"
    },
    {
     "name": "stdout",
     "output_type": "stream",
     "text": [
      "Train Acc: 0.9754437261575714\n"
     ]
    },
    {
     "data": {
      "application/vnd.jupyter.widget-view+json": {
       "model_id": "efc6066636464a10890159b57988de25",
       "version_major": 2,
       "version_minor": 0
      },
      "text/plain": [
       "  0%|          | 0/176 [00:00<?, ?it/s]"
      ]
     },
     "metadata": {},
     "output_type": "display_data"
    },
    {
     "name": "stdout",
     "output_type": "stream",
     "text": [
      "val_acc =  0.980411193603655\n"
     ]
    },
    {
     "data": {
      "application/vnd.jupyter.widget-view+json": {
       "model_id": "a2c8470e381f4644b1c193dea03c21be",
       "version_major": 2,
       "version_minor": 0
      },
      "text/plain": [
       "  0%|          | 0/88 [00:00<?, ?it/s]"
      ]
     },
     "metadata": {},
     "output_type": "display_data"
    },
    {
     "name": "stdout",
     "output_type": "stream",
     "text": [
      "Train Acc: 0.9793384654042077\n"
     ]
    },
    {
     "data": {
      "application/vnd.jupyter.widget-view+json": {
       "model_id": "fb237841138f4d37a0632f392d91d1c4",
       "version_major": 2,
       "version_minor": 0
      },
      "text/plain": [
       "  0%|          | 0/176 [00:00<?, ?it/s]"
      ]
     },
     "metadata": {},
     "output_type": "display_data"
    },
    {
     "name": "stdout",
     "output_type": "stream",
     "text": [
      "val_acc =  0.9817818389491719\n"
     ]
    },
    {
     "data": {
      "application/vnd.jupyter.widget-view+json": {
       "model_id": "7d090c7f0ece4f19bd17dc28cf6aeff7",
       "version_major": 2,
       "version_minor": 0
      },
      "text/plain": [
       "  0%|          | 0/88 [00:00<?, ?it/s]"
      ]
     },
     "metadata": {},
     "output_type": "display_data"
    },
    {
     "name": "stdout",
     "output_type": "stream",
     "text": [
      "Train Acc: 0.9808917924937752\n"
     ]
    },
    {
     "data": {
      "application/vnd.jupyter.widget-view+json": {
       "model_id": "3bb814b585f145eead0290ffaedb5fb4",
       "version_major": 2,
       "version_minor": 0
      },
      "text/plain": [
       "  0%|          | 0/176 [00:00<?, ?it/s]"
      ]
     },
     "metadata": {},
     "output_type": "display_data"
    },
    {
     "name": "stdout",
     "output_type": "stream",
     "text": [
      "val_acc =  0.9841233580810965\n"
     ]
    },
    {
     "data": {
      "application/vnd.jupyter.widget-view+json": {
       "model_id": "283e1c1624ba4706a0ea0d026ce55260",
       "version_major": 2,
       "version_minor": 0
      },
      "text/plain": [
       "  0%|          | 0/88 [00:00<?, ?it/s]"
      ]
     },
     "metadata": {},
     "output_type": "display_data"
    },
    {
     "name": "stdout",
     "output_type": "stream",
     "text": [
      "Train Acc: 0.9829362450601914\n"
     ]
    },
    {
     "data": {
      "application/vnd.jupyter.widget-view+json": {
       "model_id": "597d8650b9d14a54b487278ebbc9e393",
       "version_major": 2,
       "version_minor": 0
      },
      "text/plain": [
       "  0%|          | 0/176 [00:00<?, ?it/s]"
      ]
     },
     "metadata": {},
     "output_type": "display_data"
    },
    {
     "name": "stdout",
     "output_type": "stream",
     "text": [
      "val_acc =  0.9849800114220445\n"
     ]
    },
    {
     "data": {
      "application/vnd.jupyter.widget-view+json": {
       "model_id": "63d1e27cad524b9f99e1d877589cf0f1",
       "version_major": 2,
       "version_minor": 0
      },
      "text/plain": [
       "  0%|          | 0/88 [00:00<?, ?it/s]"
      ]
     },
     "metadata": {},
     "output_type": "display_data"
    },
    {
     "name": "stdout",
     "output_type": "stream",
     "text": [
      "Train Acc: 0.9841583479909541\n"
     ]
    },
    {
     "data": {
      "application/vnd.jupyter.widget-view+json": {
       "model_id": "ac339ab1560e455188e8cc3392ea88c3",
       "version_major": 2,
       "version_minor": 0
      },
      "text/plain": [
       "  0%|          | 0/176 [00:00<?, ?it/s]"
      ]
     },
     "metadata": {},
     "output_type": "display_data"
    },
    {
     "name": "stdout",
     "output_type": "stream",
     "text": [
      "val_acc =  0.9868075385494004\n"
     ]
    },
    {
     "data": {
      "application/vnd.jupyter.widget-view+json": {
       "model_id": "af05b04d0e964d5da7f60891a2010773",
       "version_major": 2,
       "version_minor": 0
      },
      "text/plain": [
       "  0%|          | 0/88 [00:00<?, ?it/s]"
      ]
     },
     "metadata": {},
     "output_type": "display_data"
    },
    {
     "name": "stdout",
     "output_type": "stream",
     "text": [
      "Train Acc: 0.985803047262261\n"
     ]
    },
    {
     "data": {
      "application/vnd.jupyter.widget-view+json": {
       "model_id": "5c6195a235854776a615308e8b229bbd",
       "version_major": 2,
       "version_minor": 0
      },
      "text/plain": [
       "  0%|          | 0/176 [00:00<?, ?it/s]"
      ]
     },
     "metadata": {},
     "output_type": "display_data"
    },
    {
     "name": "stdout",
     "output_type": "stream",
     "text": [
      "val_acc =  0.9886350656767562\n"
     ]
    },
    {
     "data": {
      "application/vnd.jupyter.widget-view+json": {
       "model_id": "a82bf2a53db7428da2bcec5c7a3b956e",
       "version_major": 2,
       "version_minor": 0
      },
      "text/plain": [
       "  0%|          | 0/88 [00:00<?, ?it/s]"
      ]
     },
     "metadata": {},
     "output_type": "display_data"
    },
    {
     "name": "stdout",
     "output_type": "stream",
     "text": [
      "Train Acc: 0.9866596614660667\n"
     ]
    },
    {
     "data": {
      "application/vnd.jupyter.widget-view+json": {
       "model_id": "09326d80f2944840ab248d93f6667d53",
       "version_major": 2,
       "version_minor": 0
      },
      "text/plain": [
       "  0%|          | 0/176 [00:00<?, ?it/s]"
      ]
     },
     "metadata": {},
     "output_type": "display_data"
    },
    {
     "name": "stdout",
     "output_type": "stream",
     "text": [
      "val_acc =  0.9892061679040548\n"
     ]
    },
    {
     "data": {
      "application/vnd.jupyter.widget-view+json": {
       "model_id": "803fd99ba8264db9a4225f07b9d66a81",
       "version_major": 2,
       "version_minor": 0
      },
      "text/plain": [
       "  0%|          | 0/88 [00:00<?, ?it/s]"
      ]
     },
     "metadata": {},
     "output_type": "display_data"
    },
    {
     "name": "stdout",
     "output_type": "stream",
     "text": [
      "Train Acc: 0.9877218630787856\n"
     ]
    },
    {
     "data": {
      "application/vnd.jupyter.widget-view+json": {
       "model_id": "96b11a8367b54ef0aeb406c968cc0ed2",
       "version_major": 2,
       "version_minor": 0
      },
      "text/plain": [
       "  0%|          | 0/176 [00:00<?, ?it/s]"
      ]
     },
     "metadata": {},
     "output_type": "display_data"
    },
    {
     "name": "stdout",
     "output_type": "stream",
     "text": [
      "val_acc =  0.9908052541404911\n"
     ]
    },
    {
     "data": {
      "application/vnd.jupyter.widget-view+json": {
       "model_id": "1a9e77b0797348c9bcc158afb6f362ad",
       "version_major": 2,
       "version_minor": 0
      },
      "text/plain": [
       "  0%|          | 0/88 [00:00<?, ?it/s]"
      ]
     },
     "metadata": {},
     "output_type": "display_data"
    },
    {
     "name": "stdout",
     "output_type": "stream",
     "text": [
      "Train Acc: 0.9888868583959614\n"
     ]
    },
    {
     "data": {
      "application/vnd.jupyter.widget-view+json": {
       "model_id": "10956307e13e4fa49f33440edad6e57b",
       "version_major": 2,
       "version_minor": 0
      },
      "text/plain": [
       "  0%|          | 0/176 [00:00<?, ?it/s]"
      ]
     },
     "metadata": {},
     "output_type": "display_data"
    },
    {
     "name": "stdout",
     "output_type": "stream",
     "text": [
      "val_acc =  0.9904054825813821\n"
     ]
    },
    {
     "data": {
      "application/vnd.jupyter.widget-view+json": {
       "model_id": "544defae88174b4b85762e8159c244a3",
       "version_major": 2,
       "version_minor": 0
      },
      "text/plain": [
       "  0%|          | 0/88 [00:00<?, ?it/s]"
      ]
     },
     "metadata": {},
     "output_type": "display_data"
    },
    {
     "name": "stdout",
     "output_type": "stream",
     "text": [
      "Train Acc: 0.9895150421454189\n"
     ]
    },
    {
     "data": {
      "application/vnd.jupyter.widget-view+json": {
       "model_id": "269e0caedf6f465b841b599b1a0fb79b",
       "version_major": 2,
       "version_minor": 0
      },
      "text/plain": [
       "  0%|          | 0/176 [00:00<?, ?it/s]"
      ]
     },
     "metadata": {},
     "output_type": "display_data"
    },
    {
     "name": "stdout",
     "output_type": "stream",
     "text": [
      "val_acc =  0.990005711022273\n"
     ]
    },
    {
     "data": {
      "application/vnd.jupyter.widget-view+json": {
       "model_id": "162c47b7f19941e7907523a3b0d84604",
       "version_major": 2,
       "version_minor": 0
      },
      "text/plain": [
       "  0%|          | 0/88 [00:00<?, ?it/s]"
      ]
     },
     "metadata": {},
     "output_type": "display_data"
    },
    {
     "name": "stdout",
     "output_type": "stream",
     "text": [
      "Train Acc: 0.9908170957352034\n"
     ]
    },
    {
     "data": {
      "application/vnd.jupyter.widget-view+json": {
       "model_id": "86bc8464b45042bdbcf2d290e93f60d7",
       "version_major": 2,
       "version_minor": 0
      },
      "text/plain": [
       "  0%|          | 0/176 [00:00<?, ?it/s]"
      ]
     },
     "metadata": {},
     "output_type": "display_data"
    },
    {
     "name": "stdout",
     "output_type": "stream",
     "text": [
      "val_acc =  0.9933181039406054\n"
     ]
    },
    {
     "data": {
      "application/vnd.jupyter.widget-view+json": {
       "model_id": "22f2534262e44c5e97013a29d1979dee",
       "version_major": 2,
       "version_minor": 0
      },
      "text/plain": [
       "  0%|          | 0/88 [00:00<?, ?it/s]"
      ]
     },
     "metadata": {},
     "output_type": "display_data"
    },
    {
     "name": "stdout",
     "output_type": "stream",
     "text": [
      "Train Acc: 0.9909655755305298\n"
     ]
    },
    {
     "data": {
      "application/vnd.jupyter.widget-view+json": {
       "model_id": "e0a990e8aa364b5dbdb7fb4dd956425c",
       "version_major": 2,
       "version_minor": 0
      },
      "text/plain": [
       "  0%|          | 0/176 [00:00<?, ?it/s]"
      ]
     },
     "metadata": {},
     "output_type": "display_data"
    },
    {
     "name": "stdout",
     "output_type": "stream",
     "text": [
      "val_acc =  0.9931467732724157\n"
     ]
    },
    {
     "data": {
      "application/vnd.jupyter.widget-view+json": {
       "model_id": "25996e00c20c4a45b7c203af2dfb8e79",
       "version_major": 2,
       "version_minor": 0
      },
      "text/plain": [
       "  0%|          | 0/88 [00:00<?, ?it/s]"
      ]
     },
     "metadata": {},
     "output_type": "display_data"
    },
    {
     "name": "stdout",
     "output_type": "stream",
     "text": [
      "Train Acc: 0.9923361582566188\n"
     ]
    },
    {
     "data": {
      "application/vnd.jupyter.widget-view+json": {
       "model_id": "91dbf3e1242440499850cdd6b0b2b53f",
       "version_major": 2,
       "version_minor": 0
      },
      "text/plain": [
       "  0%|          | 0/176 [00:00<?, ?it/s]"
      ]
     },
     "metadata": {},
     "output_type": "display_data"
    },
    {
     "name": "stdout",
     "output_type": "stream",
     "text": [
      "val_acc =  0.991776127926899\n"
     ]
    },
    {
     "data": {
      "application/vnd.jupyter.widget-view+json": {
       "model_id": "a4f252f0556941e1874f9400cbc3d63f",
       "version_major": 2,
       "version_minor": 0
      },
      "text/plain": [
       "  0%|          | 0/88 [00:00<?, ?it/s]"
      ]
     },
     "metadata": {},
     "output_type": "display_data"
    },
    {
     "name": "stdout",
     "output_type": "stream",
     "text": [
      "Train Acc: 0.992176256938575\n"
     ]
    },
    {
     "data": {
      "application/vnd.jupyter.widget-view+json": {
       "model_id": "99af515b1f974bd38ccc58a843741c9c",
       "version_major": 2,
       "version_minor": 0
      },
      "text/plain": [
       "  0%|          | 0/176 [00:00<?, ?it/s]"
      ]
     },
     "metadata": {},
     "output_type": "display_data"
    },
    {
     "name": "stdout",
     "output_type": "stream",
     "text": [
      "val_acc =  0.9935465448315248\n"
     ]
    },
    {
     "data": {
      "application/vnd.jupyter.widget-view+json": {
       "model_id": "c780040f879f44a19b5d1f37c0136f2d",
       "version_major": 2,
       "version_minor": 0
      },
      "text/plain": [
       "  0%|          | 0/88 [00:00<?, ?it/s]"
      ]
     },
     "metadata": {},
     "output_type": "display_data"
    },
    {
     "name": "stdout",
     "output_type": "stream",
     "text": [
      "Train Acc: 0.9919478264842269\n"
     ]
    },
    {
     "data": {
      "application/vnd.jupyter.widget-view+json": {
       "model_id": "061938d9364d4296ab7d1805ede80b68",
       "version_major": 2,
       "version_minor": 0
      },
      "text/plain": [
       "  0%|          | 0/176 [00:00<?, ?it/s]"
      ]
     },
     "metadata": {},
     "output_type": "display_data"
    },
    {
     "name": "stdout",
     "output_type": "stream",
     "text": [
      "val_acc =  0.9936036550542547\n"
     ]
    },
    {
     "data": {
      "application/vnd.jupyter.widget-view+json": {
       "model_id": "aaa513f3016d493e81c396785fd7955d",
       "version_major": 2,
       "version_minor": 0
      },
      "text/plain": [
       "  0%|          | 0/88 [00:00<?, ?it/s]"
      ]
     },
     "metadata": {},
     "output_type": "display_data"
    },
    {
     "name": "stdout",
     "output_type": "stream",
     "text": [
      "Train Acc: 0.9930785572332503\n"
     ]
    },
    {
     "data": {
      "application/vnd.jupyter.widget-view+json": {
       "model_id": "da17f21eb1794686b1ccec2085757044",
       "version_major": 2,
       "version_minor": 0
      },
      "text/plain": [
       "  0%|          | 0/176 [00:00<?, ?it/s]"
      ]
     },
     "metadata": {},
     "output_type": "display_data"
    },
    {
     "name": "stdout",
     "output_type": "stream",
     "text": [
      "val_acc =  0.9936607652769845\n"
     ]
    },
    {
     "data": {
      "application/vnd.jupyter.widget-view+json": {
       "model_id": "0a9153b37c944e92b7b2bba8cfebead0",
       "version_major": 2,
       "version_minor": 0
      },
      "text/plain": [
       "  0%|          | 0/88 [00:00<?, ?it/s]"
      ]
     },
     "metadata": {},
     "output_type": "display_data"
    },
    {
     "name": "stdout",
     "output_type": "stream",
     "text": [
      "Train Acc: 0.9936153688009686\n"
     ]
    },
    {
     "data": {
      "application/vnd.jupyter.widget-view+json": {
       "model_id": "dfa4aee7371e4b669bf8ae6a861665ee",
       "version_major": 2,
       "version_minor": 0
      },
      "text/plain": [
       "  0%|          | 0/176 [00:00<?, ?it/s]"
      ]
     },
     "metadata": {},
     "output_type": "display_data"
    },
    {
     "name": "stdout",
     "output_type": "stream",
     "text": [
      "val_acc =  0.9936607652769845\n"
     ]
    },
    {
     "data": {
      "application/vnd.jupyter.widget-view+json": {
       "model_id": "363bbc18060a4d039ac7e6ed13e57d4d",
       "version_major": 2,
       "version_minor": 0
      },
      "text/plain": [
       "  0%|          | 0/88 [00:00<?, ?it/s]"
      ]
     },
     "metadata": {},
     "output_type": "display_data"
    },
    {
     "name": "stdout",
     "output_type": "stream",
     "text": [
      "Train Acc: 0.991810768211618\n"
     ]
    },
    {
     "data": {
      "application/vnd.jupyter.widget-view+json": {
       "model_id": "d2755c4eac2841caa415a7a9d60f4934",
       "version_major": 2,
       "version_minor": 0
      },
      "text/plain": [
       "  0%|          | 0/176 [00:00<?, ?it/s]"
      ]
     },
     "metadata": {},
     "output_type": "display_data"
    },
    {
     "name": "stdout",
     "output_type": "stream",
     "text": [
      "val_acc =  0.9930896630496859\n"
     ]
    },
    {
     "data": {
      "application/vnd.jupyter.widget-view+json": {
       "model_id": "5c77b23a919e45edbe11e83b188390da",
       "version_major": 2,
       "version_minor": 0
      },
      "text/plain": [
       "  0%|          | 0/88 [00:00<?, ?it/s]"
      ]
     },
     "metadata": {},
     "output_type": "display_data"
    },
    {
     "name": "stdout",
     "output_type": "stream",
     "text": [
      "Train Acc: 0.9925303241428147\n"
     ]
    },
    {
     "data": {
      "application/vnd.jupyter.widget-view+json": {
       "model_id": "204f7cd5a1c649ecad859981957d14a0",
       "version_major": 2,
       "version_minor": 0
      },
      "text/plain": [
       "  0%|          | 0/176 [00:00<?, ?it/s]"
      ]
     },
     "metadata": {},
     "output_type": "display_data"
    },
    {
     "name": "stdout",
     "output_type": "stream",
     "text": [
      "val_acc =  0.9947458595088521\n"
     ]
    },
    {
     "data": {
      "application/vnd.jupyter.widget-view+json": {
       "model_id": "c8dda310131f445f9a5daddfc24d7708",
       "version_major": 2,
       "version_minor": 0
      },
      "text/plain": [
       "  0%|          | 0/88 [00:00<?, ?it/s]"
      ]
     },
     "metadata": {},
     "output_type": "display_data"
    },
    {
     "name": "stdout",
     "output_type": "stream",
     "text": [
      "Train Acc: 0.9941521803686868\n"
     ]
    },
    {
     "data": {
      "application/vnd.jupyter.widget-view+json": {
       "model_id": "ea4daf7585cb46918684d4a9769f4c17",
       "version_major": 2,
       "version_minor": 0
      },
      "text/plain": [
       "  0%|          | 0/176 [00:00<?, ?it/s]"
      ]
     },
     "metadata": {},
     "output_type": "display_data"
    },
    {
     "name": "stdout",
     "output_type": "stream",
     "text": [
      "val_acc =  0.9936607652769845\n"
     ]
    },
    {
     "data": {
      "application/vnd.jupyter.widget-view+json": {
       "model_id": "079ad134990f4888a3ffedcc7e79a4a4",
       "version_major": 2,
       "version_minor": 0
      },
      "text/plain": [
       "  0%|          | 0/88 [00:00<?, ?it/s]"
      ]
     },
     "metadata": {},
     "output_type": "display_data"
    },
    {
     "name": "stdout",
     "output_type": "stream",
     "text": [
      "Train Acc: 0.9943463462548827\n"
     ]
    },
    {
     "data": {
      "application/vnd.jupyter.widget-view+json": {
       "model_id": "cd78414f73574271968dd2aa384f418d",
       "version_major": 2,
       "version_minor": 0
      },
      "text/plain": [
       "  0%|          | 0/176 [00:00<?, ?it/s]"
      ]
     },
     "metadata": {},
     "output_type": "display_data"
    },
    {
     "name": "stdout",
     "output_type": "stream",
     "text": [
      "val_acc =  0.9962878355225585\n"
     ]
    },
    {
     "data": {
      "application/vnd.jupyter.widget-view+json": {
       "model_id": "10852f0ce18049f2a3e930f4c810aec2",
       "version_major": 2,
       "version_minor": 0
      },
      "text/plain": [
       "  0%|          | 0/88 [00:00<?, ?it/s]"
      ]
     },
     "metadata": {},
     "output_type": "display_data"
    },
    {
     "name": "stdout",
     "output_type": "stream",
     "text": [
      "Train Acc: 0.9951458528451013\n"
     ]
    },
    {
     "data": {
      "application/vnd.jupyter.widget-view+json": {
       "model_id": "b837c1533df4450c9a56517968a2dcb0",
       "version_major": 2,
       "version_minor": 0
      },
      "text/plain": [
       "  0%|          | 0/176 [00:00<?, ?it/s]"
      ]
     },
     "metadata": {},
     "output_type": "display_data"
    },
    {
     "name": "stdout",
     "output_type": "stream",
     "text": [
      "val_acc =  0.9952598515134209\n"
     ]
    },
    {
     "data": {
      "application/vnd.jupyter.widget-view+json": {
       "model_id": "853cfb9136f14e3e98921936f83b08ce",
       "version_major": 2,
       "version_minor": 0
      },
      "text/plain": [
       "  0%|          | 0/88 [00:00<?, ?it/s]"
      ]
     },
     "metadata": {},
     "output_type": "display_data"
    },
    {
     "name": "stdout",
     "output_type": "stream",
     "text": [
      "Train Acc: 0.9957283505036891\n"
     ]
    },
    {
     "data": {
      "application/vnd.jupyter.widget-view+json": {
       "model_id": "db9e031531e6428ca3a7fc16cb089eb6",
       "version_major": 2,
       "version_minor": 0
      },
      "text/plain": [
       "  0%|          | 0/176 [00:00<?, ?it/s]"
      ]
     },
     "metadata": {},
     "output_type": "display_data"
    },
    {
     "name": "stdout",
     "output_type": "stream",
     "text": [
      "val_acc =  0.9944031981724729\n"
     ]
    },
    {
     "data": {
      "application/vnd.jupyter.widget-view+json": {
       "model_id": "107fab1c1f2d4e26b625a44d1473d7d5",
       "version_major": 2,
       "version_minor": 0
      },
      "text/plain": [
       "  0%|          | 0/88 [00:00<?, ?it/s]"
      ]
     },
     "metadata": {},
     "output_type": "display_data"
    },
    {
     "name": "stdout",
     "output_type": "stream",
     "text": [
      "Train Acc: 0.9946204628001005\n"
     ]
    },
    {
     "data": {
      "application/vnd.jupyter.widget-view+json": {
       "model_id": "bcce555a6bbd44a6b8d2063d238f22dc",
       "version_major": 2,
       "version_minor": 0
      },
      "text/plain": [
       "  0%|          | 0/176 [00:00<?, ?it/s]"
      ]
     },
     "metadata": {},
     "output_type": "display_data"
    },
    {
     "name": "stdout",
     "output_type": "stream",
     "text": [
      "val_acc =  0.9954882924043403\n"
     ]
    },
    {
     "data": {
      "application/vnd.jupyter.widget-view+json": {
       "model_id": "3953df2870f340fab336cb00dc7f70d3",
       "version_major": 2,
       "version_minor": 0
      },
      "text/plain": [
       "  0%|          | 0/88 [00:00<?, ?it/s]"
      ]
     },
     "metadata": {},
     "output_type": "display_data"
    },
    {
     "name": "stdout",
     "output_type": "stream",
     "text": [
      "Train Acc: 0.994997373049775\n"
     ]
    },
    {
     "data": {
      "application/vnd.jupyter.widget-view+json": {
       "model_id": "c7e7f39d6bd2445ca80ba9913dd59f58",
       "version_major": 2,
       "version_minor": 0
      },
      "text/plain": [
       "  0%|          | 0/176 [00:00<?, ?it/s]"
      ]
     },
     "metadata": {},
     "output_type": "display_data"
    },
    {
     "name": "stdout",
     "output_type": "stream",
     "text": [
      "val_acc =  0.9959451741861793\n"
     ]
    },
    {
     "data": {
      "application/vnd.jupyter.widget-view+json": {
       "model_id": "155730339ee7497aa870ff7625276c2a",
       "version_major": 2,
       "version_minor": 0
      },
      "text/plain": [
       "  0%|          | 0/88 [00:00<?, ?it/s]"
      ]
     },
     "metadata": {},
     "output_type": "display_data"
    },
    {
     "name": "stdout",
     "output_type": "stream",
     "text": [
      "Train Acc: 0.995248646549558\n"
     ]
    },
    {
     "data": {
      "application/vnd.jupyter.widget-view+json": {
       "model_id": "92e67ef250134318bc2018938d8106de",
       "version_major": 2,
       "version_minor": 0
      },
      "text/plain": [
       "  0%|          | 0/176 [00:00<?, ?it/s]"
      ]
     },
     "metadata": {},
     "output_type": "display_data"
    },
    {
     "name": "stdout",
     "output_type": "stream",
     "text": [
      "val_acc =  0.9965733866362079\n"
     ]
    },
    {
     "data": {
      "application/vnd.jupyter.widget-view+json": {
       "model_id": "0de326d9cb7c46c5b373be061cc51a13",
       "version_major": 2,
       "version_minor": 0
      },
      "text/plain": [
       "  0%|          | 0/88 [00:00<?, ?it/s]"
      ]
     },
     "metadata": {},
     "output_type": "display_data"
    },
    {
     "name": "stdout",
     "output_type": "stream",
     "text": [
      "Train Acc: 0.9957283505036891\n"
     ]
    },
    {
     "data": {
      "application/vnd.jupyter.widget-view+json": {
       "model_id": "0e0fb84fe841429e91a5f2c154db995b",
       "version_major": 2,
       "version_minor": 0
      },
      "text/plain": [
       "  0%|          | 0/176 [00:00<?, ?it/s]"
      ]
     },
     "metadata": {},
     "output_type": "display_data"
    },
    {
     "name": "stdout",
     "output_type": "stream",
     "text": [
      "val_acc =  0.9974871501998858\n"
     ]
    },
    {
     "data": {
      "application/vnd.jupyter.widget-view+json": {
       "model_id": "bbd65710dda34d3580d04eaaa717e8c4",
       "version_major": 2,
       "version_minor": 0
      },
      "text/plain": [
       "  0%|          | 0/88 [00:00<?, ?it/s]"
      ]
     },
     "metadata": {},
     "output_type": "display_data"
    },
    {
     "name": "stdout",
     "output_type": "stream",
     "text": [
      "Train Acc: 0.9960824177079288\n"
     ]
    },
    {
     "data": {
      "application/vnd.jupyter.widget-view+json": {
       "model_id": "45eaafe62ed744259964c85ae29c813c",
       "version_major": 2,
       "version_minor": 0
      },
      "text/plain": [
       "  0%|          | 0/176 [00:00<?, ?it/s]"
      ]
     },
     "metadata": {},
     "output_type": "display_data"
    },
    {
     "name": "stdout",
     "output_type": "stream",
     "text": [
      "val_acc =  0.9966304968589378\n"
     ]
    },
    {
     "data": {
      "application/vnd.jupyter.widget-view+json": {
       "model_id": "c995a746c7294b68847c753c25488b8a",
       "version_major": 2,
       "version_minor": 0
      },
      "text/plain": [
       "  0%|          | 0/88 [00:00<?, ?it/s]"
      ]
     },
     "metadata": {},
     "output_type": "display_data"
    },
    {
     "name": "stdout",
     "output_type": "stream",
     "text": [
      "Train Acc: 0.9966534938437993\n"
     ]
    },
    {
     "data": {
      "application/vnd.jupyter.widget-view+json": {
       "model_id": "b3f3a3cb8846446ba15f85c1c2b40b36",
       "version_major": 2,
       "version_minor": 0
      },
      "text/plain": [
       "  0%|          | 0/176 [00:00<?, ?it/s]"
      ]
     },
     "metadata": {},
     "output_type": "display_data"
    },
    {
     "name": "stdout",
     "output_type": "stream",
     "text": [
      "val_acc =  0.9972015990862364\n"
     ]
    },
    {
     "data": {
      "application/vnd.jupyter.widget-view+json": {
       "model_id": "ebfa6b85b08447429958e5cad0d5ef8b",
       "version_major": 2,
       "version_minor": 0
      },
      "text/plain": [
       "  0%|          | 0/88 [00:00<?, ?it/s]"
      ]
     },
     "metadata": {},
     "output_type": "display_data"
    },
    {
     "name": "stdout",
     "output_type": "stream",
     "text": [
      "Train Acc: 0.9968933458208649\n"
     ]
    },
    {
     "data": {
      "application/vnd.jupyter.widget-view+json": {
       "model_id": "e96d50db016747e792ebd4278b411cb8",
       "version_major": 2,
       "version_minor": 0
      },
      "text/plain": [
       "  0%|          | 0/176 [00:00<?, ?it/s]"
      ]
     },
     "metadata": {},
     "output_type": "display_data"
    },
    {
     "name": "stdout",
     "output_type": "stream",
     "text": [
      "val_acc =  0.9963449457452884\n"
     ]
    },
    {
     "data": {
      "application/vnd.jupyter.widget-view+json": {
       "model_id": "564e7e10cad142d38b9091d257fccf5a",
       "version_major": 2,
       "version_minor": 0
      },
      "text/plain": [
       "  0%|          | 0/88 [00:00<?, ?it/s]"
      ]
     },
     "metadata": {},
     "output_type": "display_data"
    },
    {
     "name": "stdout",
     "output_type": "stream",
     "text": [
      "Train Acc: 0.9965735431847774\n"
     ]
    },
    {
     "data": {
      "application/vnd.jupyter.widget-view+json": {
       "model_id": "63c8bc23e4274408ab11d5fa4d07fb46",
       "version_major": 2,
       "version_minor": 0
      },
      "text/plain": [
       "  0%|          | 0/176 [00:00<?, ?it/s]"
      ]
     },
     "metadata": {},
     "output_type": "display_data"
    },
    {
     "name": "stdout",
     "output_type": "stream",
     "text": [
      "val_acc =  0.996916047972587\n"
     ]
    },
    {
     "data": {
      "application/vnd.jupyter.widget-view+json": {
       "model_id": "1615462f064546f88b0ac239babb9dac",
       "version_major": 2,
       "version_minor": 0
      },
      "text/plain": [
       "  0%|          | 0/88 [00:00<?, ?it/s]"
      ]
     },
     "metadata": {},
     "output_type": "display_data"
    },
    {
     "name": "stdout",
     "output_type": "stream",
     "text": [
      "Train Acc: 0.996813395161843\n"
     ]
    },
    {
     "data": {
      "application/vnd.jupyter.widget-view+json": {
       "model_id": "11058cda0ee8492ba94166705cff66e3",
       "version_major": 2,
       "version_minor": 0
      },
      "text/plain": [
       "  0%|          | 0/176 [00:00<?, ?it/s]"
      ]
     },
     "metadata": {},
     "output_type": "display_data"
    },
    {
     "name": "stdout",
     "output_type": "stream",
     "text": [
      "val_acc =  0.9967447173043975\n"
     ]
    },
    {
     "data": {
      "application/vnd.jupyter.widget-view+json": {
       "model_id": "30ba0a6c2f8e43dda840cfe104f2ea82",
       "version_major": 2,
       "version_minor": 0
      },
      "text/plain": [
       "  0%|          | 0/88 [00:00<?, ?it/s]"
      ]
     },
     "metadata": {},
     "output_type": "display_data"
    },
    {
     "name": "stdout",
     "output_type": "stream",
     "text": [
      "Train Acc: 0.9961166822760811\n"
     ]
    },
    {
     "data": {
      "application/vnd.jupyter.widget-view+json": {
       "model_id": "ed92c3091ff4428687ebaefbdf536e59",
       "version_major": 2,
       "version_minor": 0
      },
      "text/plain": [
       "  0%|          | 0/176 [00:00<?, ?it/s]"
      ]
     },
     "metadata": {},
     "output_type": "display_data"
    },
    {
     "name": "stdout",
     "output_type": "stream",
     "text": [
      "val_acc =  0.9968589377498572\n"
     ]
    },
    {
     "data": {
      "application/vnd.jupyter.widget-view+json": {
       "model_id": "4f0d06eeb46349fdb4b3d1594fa4c573",
       "version_major": 2,
       "version_minor": 0
      },
      "text/plain": [
       "  0%|          | 0/88 [00:00<?, ?it/s]"
      ]
     },
     "metadata": {},
     "output_type": "display_data"
    },
    {
     "name": "stdout",
     "output_type": "stream",
     "text": [
      "Train Acc: 0.996367955775864\n"
     ]
    },
    {
     "data": {
      "application/vnd.jupyter.widget-view+json": {
       "model_id": "17fba13d382947099d255793614b7aa2",
       "version_major": 2,
       "version_minor": 0
      },
      "text/plain": [
       "  0%|          | 0/176 [00:00<?, ?it/s]"
      ]
     },
     "metadata": {},
     "output_type": "display_data"
    },
    {
     "name": "stdout",
     "output_type": "stream",
     "text": [
      "val_acc =  0.9970302684180469\n"
     ]
    },
    {
     "data": {
      "application/vnd.jupyter.widget-view+json": {
       "model_id": "7973aedb4eab461dbe04bf7ee93fcaf2",
       "version_major": 2,
       "version_minor": 0
      },
      "text/plain": [
       "  0%|          | 0/88 [00:00<?, ?it/s]"
      ]
     },
     "metadata": {},
     "output_type": "display_data"
    },
    {
     "name": "stdout",
     "output_type": "stream",
     "text": [
      "Train Acc: 0.9955456061402106\n"
     ]
    },
    {
     "data": {
      "application/vnd.jupyter.widget-view+json": {
       "model_id": "734e1093baa44b638b82d57de7640c3f",
       "version_major": 2,
       "version_minor": 0
      },
      "text/plain": [
       "  0%|          | 0/176 [00:00<?, ?it/s]"
      ]
     },
     "metadata": {},
     "output_type": "display_data"
    },
    {
     "name": "stdout",
     "output_type": "stream",
     "text": [
      "val_acc =  0.9960022844089091\n"
     ]
    },
    {
     "data": {
      "application/vnd.jupyter.widget-view+json": {
       "model_id": "05d0b94a6ad4460f983a040c4b1b9b64",
       "version_major": 2,
       "version_minor": 0
      },
      "text/plain": [
       "  0%|          | 0/88 [00:00<?, ?it/s]"
      ]
     },
     "metadata": {},
     "output_type": "display_data"
    },
    {
     "name": "stdout",
     "output_type": "stream",
     "text": [
      "Train Acc: 0.995362861776732\n"
     ]
    },
    {
     "data": {
      "application/vnd.jupyter.widget-view+json": {
       "model_id": "54b65fa4cd1046459f0a678a46f69f8f",
       "version_major": 2,
       "version_minor": 0
      },
      "text/plain": [
       "  0%|          | 0/176 [00:00<?, ?it/s]"
      ]
     },
     "metadata": {},
     "output_type": "display_data"
    },
    {
     "name": "stdout",
     "output_type": "stream",
     "text": [
      "val_acc =  0.9963449457452884\n"
     ]
    },
    {
     "data": {
      "application/vnd.jupyter.widget-view+json": {
       "model_id": "a4ec9f8fa57341b6941869d1522d7974",
       "version_major": 2,
       "version_minor": 0
      },
      "text/plain": [
       "  0%|          | 0/88 [00:00<?, ?it/s]"
      ]
     },
     "metadata": {},
     "output_type": "display_data"
    },
    {
     "name": "stdout",
     "output_type": "stream",
     "text": [
      "Train Acc: 0.9967905521164082\n"
     ]
    },
    {
     "data": {
      "application/vnd.jupyter.widget-view+json": {
       "model_id": "927af5f845834fa48d93435779c160a0",
       "version_major": 2,
       "version_minor": 0
      },
      "text/plain": [
       "  0%|          | 0/176 [00:00<?, ?it/s]"
      ]
     },
     "metadata": {},
     "output_type": "display_data"
    },
    {
     "name": "stdout",
     "output_type": "stream",
     "text": [
      "val_acc =  0.9970302684180469\n"
     ]
    },
    {
     "data": {
      "application/vnd.jupyter.widget-view+json": {
       "model_id": "131bb97b6495425e8143093be79d810f",
       "version_major": 2,
       "version_minor": 0
      },
      "text/plain": [
       "  0%|          | 0/88 [00:00<?, ?it/s]"
      ]
     },
     "metadata": {},
     "output_type": "display_data"
    },
    {
     "name": "stdout",
     "output_type": "stream",
     "text": [
      "Train Acc: 0.9971331977979304\n"
     ]
    },
    {
     "data": {
      "application/vnd.jupyter.widget-view+json": {
       "model_id": "495e6a076d4049bf9ee519b806d4c089",
       "version_major": 2,
       "version_minor": 0
      },
      "text/plain": [
       "  0%|          | 0/176 [00:00<?, ?it/s]"
      ]
     },
     "metadata": {},
     "output_type": "display_data"
    },
    {
     "name": "stdout",
     "output_type": "stream",
     "text": [
      "val_acc =  0.9974871501998858\n"
     ]
    },
    {
     "data": {
      "application/vnd.jupyter.widget-view+json": {
       "model_id": "e216c3edb0604e0bb100692133f348ae",
       "version_major": 2,
       "version_minor": 0
      },
      "text/plain": [
       "  0%|          | 0/88 [00:00<?, ?it/s]"
      ]
     },
     "metadata": {},
     "output_type": "display_data"
    },
    {
     "name": "stdout",
     "output_type": "stream",
     "text": [
      "Train Acc: 0.9970075610480389\n"
     ]
    },
    {
     "data": {
      "application/vnd.jupyter.widget-view+json": {
       "model_id": "6ff71c5a0105478d9ebbbd92311d8604",
       "version_major": 2,
       "version_minor": 0
      },
      "text/plain": [
       "  0%|          | 0/176 [00:00<?, ?it/s]"
      ]
     },
     "metadata": {},
     "output_type": "display_data"
    },
    {
     "name": "stdout",
     "output_type": "stream",
     "text": [
      "val_acc =  0.9975442604226157\n"
     ]
    },
    {
     "data": {
      "application/vnd.jupyter.widget-view+json": {
       "model_id": "8eb4fa8f17744c0d9bbc14686de19785",
       "version_major": 2,
       "version_minor": 0
      },
      "text/plain": [
       "  0%|          | 0/88 [00:00<?, ?it/s]"
      ]
     },
     "metadata": {},
     "output_type": "display_data"
    },
    {
     "name": "stdout",
     "output_type": "stream",
     "text": [
      "Train Acc: 0.9972930991159742\n"
     ]
    },
    {
     "data": {
      "application/vnd.jupyter.widget-view+json": {
       "model_id": "f6d3316407354487b717bd1f90f6665e",
       "version_major": 2,
       "version_minor": 0
      },
      "text/plain": [
       "  0%|          | 0/176 [00:00<?, ?it/s]"
      ]
     },
     "metadata": {},
     "output_type": "display_data"
    },
    {
     "name": "stdout",
     "output_type": "stream",
     "text": [
      "val_acc =  0.9958880639634494\n"
     ]
    },
    {
     "data": {
      "application/vnd.jupyter.widget-view+json": {
       "model_id": "b221ca9571914d55bcaa8be3d3053b45",
       "version_major": 2,
       "version_minor": 0
      },
      "text/plain": [
       "  0%|          | 0/88 [00:00<?, ?it/s]"
      ]
     },
     "metadata": {},
     "output_type": "display_data"
    },
    {
     "name": "stdout",
     "output_type": "stream",
     "text": [
      "Train Acc: 0.9978299106836923\n"
     ]
    },
    {
     "data": {
      "application/vnd.jupyter.widget-view+json": {
       "model_id": "4b4dfdf58ec542f18bd23c8c54417881",
       "version_major": 2,
       "version_minor": 0
      },
      "text/plain": [
       "  0%|          | 0/176 [00:00<?, ?it/s]"
      ]
     },
     "metadata": {},
     "output_type": "display_data"
    },
    {
     "name": "stdout",
     "output_type": "stream",
     "text": [
      "val_acc =  0.9977727013135351\n"
     ]
    },
    {
     "data": {
      "application/vnd.jupyter.widget-view+json": {
       "model_id": "ae4205ca884545b7808a433de9cca32b",
       "version_major": 2,
       "version_minor": 0
      },
      "text/plain": [
       "  0%|          | 0/88 [00:00<?, ?it/s]"
      ]
     },
     "metadata": {},
     "output_type": "display_data"
    },
    {
     "name": "stdout",
     "output_type": "stream",
     "text": [
      "Train Acc: 0.9979555474335838\n"
     ]
    },
    {
     "data": {
      "application/vnd.jupyter.widget-view+json": {
       "model_id": "ddefd8ca745b451cba16e8be79872de4",
       "version_major": 2,
       "version_minor": 0
      },
      "text/plain": [
       "  0%|          | 0/176 [00:00<?, ?it/s]"
      ]
     },
     "metadata": {},
     "output_type": "display_data"
    },
    {
     "name": "stdout",
     "output_type": "stream",
     "text": [
      "val_acc =  0.9988006853226727\n"
     ]
    },
    {
     "data": {
      "application/vnd.jupyter.widget-view+json": {
       "model_id": "3367ae5075ea469c85dcfb92f1ac6d62",
       "version_major": 2,
       "version_minor": 0
      },
      "text/plain": [
       "  0%|          | 0/88 [00:00<?, ?it/s]"
      ]
     },
     "metadata": {},
     "output_type": "display_data"
    },
    {
     "name": "stdout",
     "output_type": "stream",
     "text": [
      "Train Acc: 0.9980126550471708\n"
     ]
    },
    {
     "data": {
      "application/vnd.jupyter.widget-view+json": {
       "model_id": "0de37e48e94b4a6db6318db5ab611c60",
       "version_major": 2,
       "version_minor": 0
      },
      "text/plain": [
       "  0%|          | 0/176 [00:00<?, ?it/s]"
      ]
     },
     "metadata": {},
     "output_type": "display_data"
    },
    {
     "name": "stdout",
     "output_type": "stream",
     "text": [
      "val_acc =  0.9977727013135351\n"
     ]
    },
    {
     "data": {
      "application/vnd.jupyter.widget-view+json": {
       "model_id": "998dedbd11be4fcd8a40b0bab97d67d2",
       "version_major": 2,
       "version_minor": 0
      },
      "text/plain": [
       "  0%|          | 0/88 [00:00<?, ?it/s]"
      ]
     },
     "metadata": {},
     "output_type": "display_data"
    },
    {
     "name": "stdout",
     "output_type": "stream",
     "text": [
      "Train Acc: 0.9981497133197798\n"
     ]
    },
    {
     "data": {
      "application/vnd.jupyter.widget-view+json": {
       "model_id": "7e750a16eb9e4cbf968a82a897571269",
       "version_major": 2,
       "version_minor": 0
      },
      "text/plain": [
       "  0%|          | 0/176 [00:00<?, ?it/s]"
      ]
     },
     "metadata": {},
     "output_type": "display_data"
    },
    {
     "name": "stdout",
     "output_type": "stream",
     "text": [
      "val_acc =  0.9972587093089663\n"
     ]
    },
    {
     "data": {
      "application/vnd.jupyter.widget-view+json": {
       "model_id": "b80739d7f1184b3588ed3baeb4fea1d8",
       "version_major": 2,
       "version_minor": 0
      },
      "text/plain": [
       "  0%|          | 0/88 [00:00<?, ?it/s]"
      ]
     },
     "metadata": {},
     "output_type": "display_data"
    },
    {
     "name": "stdout",
     "output_type": "stream",
     "text": [
      "Train Acc: 0.9976129017520616\n"
     ]
    },
    {
     "data": {
      "application/vnd.jupyter.widget-view+json": {
       "model_id": "d23168ecfcad4a58b22f7799698cca3a",
       "version_major": 2,
       "version_minor": 0
      },
      "text/plain": [
       "  0%|          | 0/176 [00:00<?, ?it/s]"
      ]
     },
     "metadata": {},
     "output_type": "display_data"
    },
    {
     "name": "stdout",
     "output_type": "stream",
     "text": [
      "val_acc =  0.9958309537407196\n"
     ]
    },
    {
     "data": {
      "application/vnd.jupyter.widget-view+json": {
       "model_id": "df0b9848e8ab4494b5e4420ee4d6d669",
       "version_major": 2,
       "version_minor": 0
      },
      "text/plain": [
       "  0%|          | 0/88 [00:00<?, ?it/s]"
      ]
     },
     "metadata": {},
     "output_type": "display_data"
    },
    {
     "name": "stdout",
     "output_type": "stream",
     "text": [
      "Train Acc: 0.9968362382072778\n"
     ]
    },
    {
     "data": {
      "application/vnd.jupyter.widget-view+json": {
       "model_id": "f5fa1f19e3f34c709d851e4cccdbf52c",
       "version_major": 2,
       "version_minor": 0
      },
      "text/plain": [
       "  0%|          | 0/176 [00:00<?, ?it/s]"
      ]
     },
     "metadata": {},
     "output_type": "display_data"
    },
    {
     "name": "stdout",
     "output_type": "stream",
     "text": [
      "val_acc =  0.9970873786407767\n"
     ]
    },
    {
     "data": {
      "application/vnd.jupyter.widget-view+json": {
       "model_id": "8f725f86706944f684ddd60680d7ccbc",
       "version_major": 2,
       "version_minor": 0
      },
      "text/plain": [
       "  0%|          | 0/88 [00:00<?, ?it/s]"
      ]
     },
     "metadata": {},
     "output_type": "display_data"
    },
    {
     "name": "stdout",
     "output_type": "stream",
     "text": [
      "Train Acc: 0.9963565342531466\n"
     ]
    },
    {
     "data": {
      "application/vnd.jupyter.widget-view+json": {
       "model_id": "ad51df82c03048468357790bace03b3c",
       "version_major": 2,
       "version_minor": 0
      },
      "text/plain": [
       "  0%|          | 0/176 [00:00<?, ?it/s]"
      ]
     },
     "metadata": {},
     "output_type": "display_data"
    },
    {
     "name": "stdout",
     "output_type": "stream",
     "text": [
      "val_acc =  0.9963449457452884\n"
     ]
    },
    {
     "data": {
      "application/vnd.jupyter.widget-view+json": {
       "model_id": "ca449f3668d041cca2b1ff0637d0128c",
       "version_major": 2,
       "version_minor": 0
      },
      "text/plain": [
       "  0%|          | 0/88 [00:00<?, ?it/s]"
      ]
     },
     "metadata": {},
     "output_type": "display_data"
    },
    {
     "name": "stdout",
     "output_type": "stream",
     "text": [
      "Train Acc: 0.9974187358658656\n"
     ]
    },
    {
     "data": {
      "application/vnd.jupyter.widget-view+json": {
       "model_id": "49ee7328f1484c01b361e4619aa76c5a",
       "version_major": 2,
       "version_minor": 0
      },
      "text/plain": [
       "  0%|          | 0/176 [00:00<?, ?it/s]"
      ]
     },
     "metadata": {},
     "output_type": "display_data"
    },
    {
     "name": "stdout",
     "output_type": "stream",
     "text": [
      "val_acc =  0.9977155910908052\n"
     ]
    },
    {
     "data": {
      "application/vnd.jupyter.widget-view+json": {
       "model_id": "3c84b45168424598a42c3fb147bc75ff",
       "version_major": 2,
       "version_minor": 0
      },
      "text/plain": [
       "  0%|          | 0/88 [00:00<?, ?it/s]"
      ]
     },
     "metadata": {},
     "output_type": "display_data"
    },
    {
     "name": "stdout",
     "output_type": "stream",
     "text": [
      "Train Acc: 0.9962080544578203\n"
     ]
    },
    {
     "data": {
      "application/vnd.jupyter.widget-view+json": {
       "model_id": "2b1b23491a77458c8f5ce8ae4e8836ac",
       "version_major": 2,
       "version_minor": 0
      },
      "text/plain": [
       "  0%|          | 0/176 [00:00<?, ?it/s]"
      ]
     },
     "metadata": {},
     "output_type": "display_data"
    },
    {
     "name": "stdout",
     "output_type": "stream",
     "text": [
      "val_acc =  0.9950314106225014\n"
     ]
    },
    {
     "data": {
      "application/vnd.jupyter.widget-view+json": {
       "model_id": "5df28da77bac4817b936155be0e83242",
       "version_major": 2,
       "version_minor": 0
      },
      "text/plain": [
       "  0%|          | 0/88 [00:00<?, ?it/s]"
      ]
     },
     "metadata": {},
     "output_type": "display_data"
    },
    {
     "name": "stdout",
     "output_type": "stream",
     "text": [
      "Train Acc: 0.9969161888662996\n"
     ]
    },
    {
     "data": {
      "application/vnd.jupyter.widget-view+json": {
       "model_id": "4ae563b2198e4bee96973ca27915dc78",
       "version_major": 2,
       "version_minor": 0
      },
      "text/plain": [
       "  0%|          | 0/176 [00:00<?, ?it/s]"
      ]
     },
     "metadata": {},
     "output_type": "display_data"
    },
    {
     "name": "stdout",
     "output_type": "stream",
     "text": [
      "val_acc =  0.9983438035408339\n"
     ]
    },
    {
     "data": {
      "application/vnd.jupyter.widget-view+json": {
       "model_id": "9d9574beea3f445585e13d2937e70f9a",
       "version_major": 2,
       "version_minor": 0
      },
      "text/plain": [
       "  0%|          | 0/88 [00:00<?, ?it/s]"
      ]
     },
     "metadata": {},
     "output_type": "display_data"
    },
    {
     "name": "stdout",
     "output_type": "stream",
     "text": [
      "Train Acc: 0.9976129017520616\n"
     ]
    },
    {
     "data": {
      "application/vnd.jupyter.widget-view+json": {
       "model_id": "7cb214c660f840d3b139e15ca9b823bd",
       "version_major": 2,
       "version_minor": 0
      },
      "text/plain": [
       "  0%|          | 0/176 [00:00<?, ?it/s]"
      ]
     },
     "metadata": {},
     "output_type": "display_data"
    },
    {
     "name": "stdout",
     "output_type": "stream",
     "text": [
      "val_acc =  0.9974871501998858\n"
     ]
    },
    {
     "data": {
      "application/vnd.jupyter.widget-view+json": {
       "model_id": "1ac2328c7b9f4fd2b647b45d38259777",
       "version_major": 2,
       "version_minor": 0
      },
      "text/plain": [
       "  0%|          | 0/88 [00:00<?, ?it/s]"
      ]
     },
     "metadata": {},
     "output_type": "display_data"
    },
    {
     "name": "stdout",
     "output_type": "stream",
     "text": [
      "Train Acc: 0.9974644219567352\n"
     ]
    },
    {
     "data": {
      "application/vnd.jupyter.widget-view+json": {
       "model_id": "29ce00bcd7bf4581affc88b9325c618f",
       "version_major": 2,
       "version_minor": 0
      },
      "text/plain": [
       "  0%|          | 0/176 [00:00<?, ?it/s]"
      ]
     },
     "metadata": {},
     "output_type": "display_data"
    },
    {
     "name": "stdout",
     "output_type": "stream",
     "text": [
      "val_acc =  0.9981153626499143\n"
     ]
    },
    {
     "data": {
      "application/vnd.jupyter.widget-view+json": {
       "model_id": "0f1b731db96f4f7d90ef461b27f0b1c1",
       "version_major": 2,
       "version_minor": 0
      },
      "text/plain": [
       "  0%|          | 0/88 [00:00<?, ?it/s]"
      ]
     },
     "metadata": {},
     "output_type": "display_data"
    },
    {
     "name": "stdout",
     "output_type": "stream",
     "text": [
      "Train Acc: 0.9982753500696713\n"
     ]
    },
    {
     "data": {
      "application/vnd.jupyter.widget-view+json": {
       "model_id": "4a00bfce7a0446ccb7424901c7403230",
       "version_major": 2,
       "version_minor": 0
      },
      "text/plain": [
       "  0%|          | 0/176 [00:00<?, ?it/s]"
      ]
     },
     "metadata": {},
     "output_type": "display_data"
    },
    {
     "name": "stdout",
     "output_type": "stream",
     "text": [
      "val_acc =  0.9985151342090234\n"
     ]
    },
    {
     "data": {
      "application/vnd.jupyter.widget-view+json": {
       "model_id": "67a22154771e42d6a4dc8353f51d4e83",
       "version_major": 2,
       "version_minor": 0
      },
      "text/plain": [
       "  0%|          | 0/88 [00:00<?, ?it/s]"
      ]
     },
     "metadata": {},
     "output_type": "display_data"
    },
    {
     "name": "stdout",
     "output_type": "stream",
     "text": [
      "Train Acc: 0.9984238298649976\n"
     ]
    },
    {
     "data": {
      "application/vnd.jupyter.widget-view+json": {
       "model_id": "e0e2fa6365b34cf79ea62106f8e007de",
       "version_major": 2,
       "version_minor": 0
      },
      "text/plain": [
       "  0%|          | 0/176 [00:00<?, ?it/s]"
      ]
     },
     "metadata": {},
     "output_type": "display_data"
    },
    {
     "name": "stdout",
     "output_type": "stream",
     "text": [
      "val_acc =  0.9990291262135922\n"
     ]
    },
    {
     "data": {
      "application/vnd.jupyter.widget-view+json": {
       "model_id": "7adc465e115e4f2d833a900601e07c9b",
       "version_major": 2,
       "version_minor": 0
      },
      "text/plain": [
       "  0%|          | 0/88 [00:00<?, ?it/s]"
      ]
     },
     "metadata": {},
     "output_type": "display_data"
    },
    {
     "name": "stdout",
     "output_type": "stream",
     "text": [
      "Train Acc: 0.9984124083422802\n"
     ]
    },
    {
     "data": {
      "application/vnd.jupyter.widget-view+json": {
       "model_id": "8ca6f262277a4ff18cbca8ad098f781e",
       "version_major": 2,
       "version_minor": 0
      },
      "text/plain": [
       "  0%|          | 0/176 [00:00<?, ?it/s]"
      ]
     },
     "metadata": {},
     "output_type": "display_data"
    },
    {
     "name": "stdout",
     "output_type": "stream",
     "text": [
      "val_acc =  0.9992004568817818\n"
     ]
    },
    {
     "data": {
      "application/vnd.jupyter.widget-view+json": {
       "model_id": "4fa49cb5104c49f18d82397cc87d7447",
       "version_major": 2,
       "version_minor": 0
      },
      "text/plain": [
       "  0%|          | 0/88 [00:00<?, ?it/s]"
      ]
     },
     "metadata": {},
     "output_type": "display_data"
    },
    {
     "name": "stdout",
     "output_type": "stream",
     "text": [
      "Train Acc: 0.998572309660324\n"
     ]
    },
    {
     "data": {
      "application/vnd.jupyter.widget-view+json": {
       "model_id": "9be8653b57674d09a72678b9a81e5fa7",
       "version_major": 2,
       "version_minor": 0
      },
      "text/plain": [
       "  0%|          | 0/176 [00:00<?, ?it/s]"
      ]
     },
     "metadata": {},
     "output_type": "display_data"
    },
    {
     "name": "stdout",
     "output_type": "stream",
     "text": [
      "val_acc =  0.9990862364363221\n"
     ]
    },
    {
     "data": {
      "application/vnd.jupyter.widget-view+json": {
       "model_id": "b746234c33164e3b99e191d3e4540fb7",
       "version_major": 2,
       "version_minor": 0
      },
      "text/plain": [
       "  0%|          | 0/88 [00:00<?, ?it/s]"
      ]
     },
     "metadata": {},
     "output_type": "display_data"
    },
    {
     "name": "stdout",
     "output_type": "stream",
     "text": [
      "Train Acc: 0.9975557941384745\n"
     ]
    },
    {
     "data": {
      "application/vnd.jupyter.widget-view+json": {
       "model_id": "24c5f7de21cb4b739045d67b5afef61a",
       "version_major": 2,
       "version_minor": 0
      },
      "text/plain": [
       "  0%|          | 0/176 [00:00<?, ?it/s]"
      ]
     },
     "metadata": {},
     "output_type": "display_data"
    },
    {
     "name": "stdout",
     "output_type": "stream",
     "text": [
      "val_acc =  0.9971444888635066\n"
     ]
    },
    {
     "data": {
      "application/vnd.jupyter.widget-view+json": {
       "model_id": "0e911264c2bd44eb8731ac6373881b5e",
       "version_major": 2,
       "version_minor": 0
      },
      "text/plain": [
       "  0%|          | 0/88 [00:00<?, ?it/s]"
      ]
     },
     "metadata": {},
     "output_type": "display_data"
    },
    {
     "name": "stdout",
     "output_type": "stream",
     "text": [
      "Train Acc: 0.9962880051168421\n"
     ]
    },
    {
     "data": {
      "application/vnd.jupyter.widget-view+json": {
       "model_id": "26997cf6f5974832922df0b6701add45",
       "version_major": 2,
       "version_minor": 0
      },
      "text/plain": [
       "  0%|          | 0/176 [00:00<?, ?it/s]"
      ]
     },
     "metadata": {},
     "output_type": "display_data"
    },
    {
     "name": "stdout",
     "output_type": "stream",
     "text": [
      "val_acc =  0.9957738435179897\n"
     ]
    },
    {
     "data": {
      "application/vnd.jupyter.widget-view+json": {
       "model_id": "1b73cbdb624a4348be86d85bcf73f17c",
       "version_major": 2,
       "version_minor": 0
      },
      "text/plain": [
       "  0%|          | 0/88 [00:00<?, ?it/s]"
      ]
     },
     "metadata": {},
     "output_type": "display_data"
    },
    {
     "name": "stdout",
     "output_type": "stream",
     "text": [
      "Train Acc: 0.9974073143431482\n"
     ]
    },
    {
     "data": {
      "application/vnd.jupyter.widget-view+json": {
       "model_id": "a7f82f0b91b34454ababdd328a12587d",
       "version_major": 2,
       "version_minor": 0
      },
      "text/plain": [
       "  0%|          | 0/176 [00:00<?, ?it/s]"
      ]
     },
     "metadata": {},
     "output_type": "display_data"
    },
    {
     "name": "stdout",
     "output_type": "stream",
     "text": [
      "val_acc =  0.9975442604226157\n"
     ]
    },
    {
     "data": {
      "application/vnd.jupyter.widget-view+json": {
       "model_id": "c18dffc1378e46b5906edba4f5da29c0",
       "version_major": 2,
       "version_minor": 0
      },
      "text/plain": [
       "  0%|          | 0/88 [00:00<?, ?it/s]"
      ]
     },
     "metadata": {},
     "output_type": "display_data"
    },
    {
     "name": "stdout",
     "output_type": "stream",
     "text": [
      "Train Acc: 0.9978413322064098\n"
     ]
    },
    {
     "data": {
      "application/vnd.jupyter.widget-view+json": {
       "model_id": "67b7ee3e217048ae86f3cf9f55adaecc",
       "version_major": 2,
       "version_minor": 0
      },
      "text/plain": [
       "  0%|          | 0/176 [00:00<?, ?it/s]"
      ]
     },
     "metadata": {},
     "output_type": "display_data"
    },
    {
     "name": "stdout",
     "output_type": "stream",
     "text": [
      "val_acc =  0.9984580239862936\n"
     ]
    },
    {
     "data": {
      "application/vnd.jupyter.widget-view+json": {
       "model_id": "27dce9dd93d8462894b7d6864002a87a",
       "version_major": 2,
       "version_minor": 0
      },
      "text/plain": [
       "  0%|          | 0/88 [00:00<?, ?it/s]"
      ]
     },
     "metadata": {},
     "output_type": "display_data"
    },
    {
     "name": "stdout",
     "output_type": "stream",
     "text": [
      "Train Acc: 0.9980469196153231\n"
     ]
    },
    {
     "data": {
      "application/vnd.jupyter.widget-view+json": {
       "model_id": "ecba8552aa7a4ec28c30f7e4e7c21779",
       "version_major": 2,
       "version_minor": 0
      },
      "text/plain": [
       "  0%|          | 0/176 [00:00<?, ?it/s]"
      ]
     },
     "metadata": {},
     "output_type": "display_data"
    },
    {
     "name": "stdout",
     "output_type": "stream",
     "text": [
      "val_acc =  0.9981153626499143\n"
     ]
    },
    {
     "data": {
      "application/vnd.jupyter.widget-view+json": {
       "model_id": "0c0002e7c0d840a8bb41e56ae20f0dc6",
       "version_major": 2,
       "version_minor": 0
      },
      "text/plain": [
       "  0%|          | 0/88 [00:00<?, ?it/s]"
      ]
     },
     "metadata": {},
     "output_type": "display_data"
    },
    {
     "name": "stdout",
     "output_type": "stream",
     "text": [
      "Train Acc: 0.998183977887932\n"
     ]
    },
    {
     "data": {
      "application/vnd.jupyter.widget-view+json": {
       "model_id": "fd7a2bf2bdfd4a199f3449a8569a0d4e",
       "version_major": 2,
       "version_minor": 0
      },
      "text/plain": [
       "  0%|          | 0/176 [00:00<?, ?it/s]"
      ]
     },
     "metadata": {},
     "output_type": "display_data"
    },
    {
     "name": "stdout",
     "output_type": "stream",
     "text": [
      "val_acc =  0.9987435750999429\n"
     ]
    },
    {
     "data": {
      "application/vnd.jupyter.widget-view+json": {
       "model_id": "3fb47d55a2ca4dd7baa39db03028ca10",
       "version_major": 2,
       "version_minor": 0
      },
      "text/plain": [
       "  0%|          | 0/88 [00:00<?, ?it/s]"
      ]
     },
     "metadata": {},
     "output_type": "display_data"
    },
    {
     "name": "stdout",
     "output_type": "stream",
     "text": [
      "Train Acc: 0.998435251387715\n"
     ]
    },
    {
     "data": {
      "application/vnd.jupyter.widget-view+json": {
       "model_id": "dbf5d6238ac140c4b18b99168bb33dcb",
       "version_major": 2,
       "version_minor": 0
      },
      "text/plain": [
       "  0%|          | 0/176 [00:00<?, ?it/s]"
      ]
     },
     "metadata": {},
     "output_type": "display_data"
    },
    {
     "name": "stdout",
     "output_type": "stream",
     "text": [
      "val_acc =  0.9987435750999429\n"
     ]
    },
    {
     "data": {
      "application/vnd.jupyter.widget-view+json": {
       "model_id": "b55c23b6b1314ab5832e3b20b758657a",
       "version_major": 2,
       "version_minor": 0
      },
      "text/plain": [
       "  0%|          | 0/88 [00:00<?, ?it/s]"
      ]
     },
     "metadata": {},
     "output_type": "display_data"
    },
    {
     "name": "stdout",
     "output_type": "stream",
     "text": [
      "Train Acc: 0.9981382917970624\n"
     ]
    },
    {
     "data": {
      "application/vnd.jupyter.widget-view+json": {
       "model_id": "37154870e24a45798037841e1dd7aeda",
       "version_major": 2,
       "version_minor": 0
      },
      "text/plain": [
       "  0%|          | 0/176 [00:00<?, ?it/s]"
      ]
     },
     "metadata": {},
     "output_type": "display_data"
    },
    {
     "name": "stdout",
     "output_type": "stream",
     "text": [
      "val_acc =  0.9956025128498002\n"
     ]
    },
    {
     "data": {
      "application/vnd.jupyter.widget-view+json": {
       "model_id": "ea50e950188949f1957bbeb6e9cb6404",
       "version_major": 2,
       "version_minor": 0
      },
      "text/plain": [
       "  0%|          | 0/88 [00:00<?, ?it/s]"
      ]
     },
     "metadata": {},
     "output_type": "display_data"
    },
    {
     "name": "stdout",
     "output_type": "stream",
     "text": [
      "Train Acc: 0.9970760901843434\n"
     ]
    },
    {
     "data": {
      "application/vnd.jupyter.widget-view+json": {
       "model_id": "c11adad557d548aea67225fa5c491c08",
       "version_major": 2,
       "version_minor": 0
      },
      "text/plain": [
       "  0%|          | 0/176 [00:00<?, ?it/s]"
      ]
     },
     "metadata": {},
     "output_type": "display_data"
    },
    {
     "name": "stdout",
     "output_type": "stream",
     "text": [
      "val_acc =  0.9984009137635637\n"
     ]
    },
    {
     "data": {
      "application/vnd.jupyter.widget-view+json": {
       "model_id": "9d31ec5076f84ec691d33675f72758eb",
       "version_major": 2,
       "version_minor": 0
      },
      "text/plain": [
       "  0%|          | 0/88 [00:00<?, ?it/s]"
      ]
     },
     "metadata": {},
     "output_type": "display_data"
    },
    {
     "name": "stdout",
     "output_type": "stream",
     "text": [
      "Train Acc: 0.9985380450921717\n"
     ]
    },
    {
     "data": {
      "application/vnd.jupyter.widget-view+json": {
       "model_id": "6f80546722944b15b094f17b3ee1a1e1",
       "version_major": 2,
       "version_minor": 0
      },
      "text/plain": [
       "  0%|          | 0/176 [00:00<?, ?it/s]"
      ]
     },
     "metadata": {},
     "output_type": "display_data"
    },
    {
     "name": "stdout",
     "output_type": "stream",
     "text": [
      "val_acc =  0.9977727013135351\n"
     ]
    },
    {
     "data": {
      "application/vnd.jupyter.widget-view+json": {
       "model_id": "b96e799825b44fa2857f3c5eb9c64860",
       "version_major": 2,
       "version_minor": 0
      },
      "text/plain": [
       "  0%|          | 0/88 [00:00<?, ?it/s]"
      ]
     },
     "metadata": {},
     "output_type": "display_data"
    },
    {
     "name": "stdout",
     "output_type": "stream",
     "text": [
      "Train Acc: 0.9987778970692373\n"
     ]
    },
    {
     "data": {
      "application/vnd.jupyter.widget-view+json": {
       "model_id": "733ea22ca5054355a598668bd4b06770",
       "version_major": 2,
       "version_minor": 0
      },
      "text/plain": [
       "  0%|          | 0/176 [00:00<?, ?it/s]"
      ]
     },
     "metadata": {},
     "output_type": "display_data"
    },
    {
     "name": "stdout",
     "output_type": "stream",
     "text": [
      "val_acc =  0.9984009137635637\n",
      "best acc: 0.9992004568817818 best epoch: 57\n",
      "loaded from ckpt!\n"
     ]
    }
   ],
   "source": [
    "best_acc, best_epoch = 0, 0\n",
    "global_step = 0\n",
    "train_acc=[]\n",
    "train_loss=[]\n",
    "val_acc=[]\n",
    "val_loss=[]\n",
    "for epoch in range(epochs):\n",
    "    correct=0\n",
    "    train_bar = tqdm(train_loader, file=sys.stdout)\n",
    "    for step, (x, y) in enumerate(train_bar):\n",
    "        # x: [b, 187], y: [b]\n",
    "        x, y = x.to(device), y.to(device)\n",
    "        model.train()\n",
    "        logits = model(x)\n",
    "        loss = criterion(logits, y)\n",
    "        preds=logits.argmax(dim=1)\n",
    "        correct+=torch.eq(preds, y).sum().float().item()\n",
    "        optimizer.zero_grad()\n",
    "        loss.backward()\n",
    "        \n",
    "        # for param in model.parameters():\n",
    "        #     print(param.grad)\n",
    "        optimizer.step()\n",
    "        \n",
    "        train_bar.desc = \"train epoch[{}/{}] loss:{:.3f}\".format(epoch + 1,\n",
    "                                                                 epochs,\n",
    "                                                                 loss)\n",
    "        global_step += 1\n",
    "    train_loss.append(loss)\n",
    "    train_acc.append(correct/len(train_loader.dataset))\n",
    "    print('Train Acc: {}'.format(correct/len(train_loader.dataset)))\n",
    "    if epoch % 1 == 0:  # You can change the validation frequency as you wish\n",
    "        val_acc_epo, val_loss_epo = evalute(model, val_loader, criterion)\n",
    "        val_acc.append(val_acc_epo)\n",
    "        val_loss.append(val_loss_epo)\n",
    "        print('val_acc = ',val_acc_epo)\n",
    "        if val_acc_epo > best_acc:\n",
    "            best_epoch = epoch\n",
    "            best_acc = val_acc_epo\n",
    "            #torch.save(model, '1DCNN.pt')\n",
    "            torch.save(model.state_dict(), '1DCNN.mdl')\n",
    "            #torch.save(model.state_dict(), '1DCNN_weights.pt')\n",
    "print('best acc:', best_acc, 'best epoch:', best_epoch)\n",
    "model.load_state_dict(torch.load('1DCNN.mdl'))\n",
    "print('loaded from ckpt!')"
   ]
  },
  {
   "cell_type": "markdown",
   "id": "4e481147-53c5-4558-a813-a1f99b7815f4",
   "metadata": {},
   "source": [
    "# Model Inference"
   ]
  },
  {
   "cell_type": "code",
   "execution_count": 13,
   "id": "16c2aad6-96e2-4ab7-8237-8892cab6cc29",
   "metadata": {},
   "outputs": [
    {
     "data": {
      "text/html": [
       "<div>\n",
       "<style scoped>\n",
       "    .dataframe tbody tr th:only-of-type {\n",
       "        vertical-align: middle;\n",
       "    }\n",
       "\n",
       "    .dataframe tbody tr th {\n",
       "        vertical-align: top;\n",
       "    }\n",
       "\n",
       "    .dataframe thead th {\n",
       "        text-align: right;\n",
       "    }\n",
       "</style>\n",
       "<table border=\"1\" class=\"dataframe\">\n",
       "  <thead>\n",
       "    <tr style=\"text-align: right;\">\n",
       "      <th></th>\n",
       "      <th>0</th>\n",
       "      <th>1</th>\n",
       "      <th>2</th>\n",
       "      <th>3</th>\n",
       "      <th>4</th>\n",
       "      <th>5</th>\n",
       "      <th>6</th>\n",
       "      <th>7</th>\n",
       "      <th>8</th>\n",
       "      <th>9</th>\n",
       "      <th>...</th>\n",
       "      <th>178</th>\n",
       "      <th>179</th>\n",
       "      <th>180</th>\n",
       "      <th>181</th>\n",
       "      <th>182</th>\n",
       "      <th>183</th>\n",
       "      <th>184</th>\n",
       "      <th>185</th>\n",
       "      <th>186</th>\n",
       "      <th>187</th>\n",
       "    </tr>\n",
       "  </thead>\n",
       "  <tbody>\n",
       "    <tr>\n",
       "      <th>0</th>\n",
       "      <td>1.000000</td>\n",
       "      <td>0.758264</td>\n",
       "      <td>0.111570</td>\n",
       "      <td>0.000000</td>\n",
       "      <td>0.080579</td>\n",
       "      <td>0.078512</td>\n",
       "      <td>0.066116</td>\n",
       "      <td>0.049587</td>\n",
       "      <td>0.047521</td>\n",
       "      <td>0.035124</td>\n",
       "      <td>...</td>\n",
       "      <td>0.0</td>\n",
       "      <td>0.0</td>\n",
       "      <td>0.0</td>\n",
       "      <td>0.0</td>\n",
       "      <td>0.0</td>\n",
       "      <td>0.0</td>\n",
       "      <td>0.0</td>\n",
       "      <td>0.0</td>\n",
       "      <td>0.0</td>\n",
       "      <td>0.0</td>\n",
       "    </tr>\n",
       "    <tr>\n",
       "      <th>1</th>\n",
       "      <td>0.908425</td>\n",
       "      <td>0.783883</td>\n",
       "      <td>0.531136</td>\n",
       "      <td>0.362637</td>\n",
       "      <td>0.366300</td>\n",
       "      <td>0.344322</td>\n",
       "      <td>0.333333</td>\n",
       "      <td>0.307692</td>\n",
       "      <td>0.296703</td>\n",
       "      <td>0.300366</td>\n",
       "      <td>...</td>\n",
       "      <td>0.0</td>\n",
       "      <td>0.0</td>\n",
       "      <td>0.0</td>\n",
       "      <td>0.0</td>\n",
       "      <td>0.0</td>\n",
       "      <td>0.0</td>\n",
       "      <td>0.0</td>\n",
       "      <td>0.0</td>\n",
       "      <td>0.0</td>\n",
       "      <td>0.0</td>\n",
       "    </tr>\n",
       "    <tr>\n",
       "      <th>2</th>\n",
       "      <td>0.730088</td>\n",
       "      <td>0.212389</td>\n",
       "      <td>0.000000</td>\n",
       "      <td>0.119469</td>\n",
       "      <td>0.101770</td>\n",
       "      <td>0.101770</td>\n",
       "      <td>0.110619</td>\n",
       "      <td>0.123894</td>\n",
       "      <td>0.115044</td>\n",
       "      <td>0.132743</td>\n",
       "      <td>...</td>\n",
       "      <td>0.0</td>\n",
       "      <td>0.0</td>\n",
       "      <td>0.0</td>\n",
       "      <td>0.0</td>\n",
       "      <td>0.0</td>\n",
       "      <td>0.0</td>\n",
       "      <td>0.0</td>\n",
       "      <td>0.0</td>\n",
       "      <td>0.0</td>\n",
       "      <td>0.0</td>\n",
       "    </tr>\n",
       "    <tr>\n",
       "      <th>3</th>\n",
       "      <td>1.000000</td>\n",
       "      <td>0.910417</td>\n",
       "      <td>0.681250</td>\n",
       "      <td>0.472917</td>\n",
       "      <td>0.229167</td>\n",
       "      <td>0.068750</td>\n",
       "      <td>0.000000</td>\n",
       "      <td>0.004167</td>\n",
       "      <td>0.014583</td>\n",
       "      <td>0.054167</td>\n",
       "      <td>...</td>\n",
       "      <td>0.0</td>\n",
       "      <td>0.0</td>\n",
       "      <td>0.0</td>\n",
       "      <td>0.0</td>\n",
       "      <td>0.0</td>\n",
       "      <td>0.0</td>\n",
       "      <td>0.0</td>\n",
       "      <td>0.0</td>\n",
       "      <td>0.0</td>\n",
       "      <td>0.0</td>\n",
       "    </tr>\n",
       "    <tr>\n",
       "      <th>4</th>\n",
       "      <td>0.570470</td>\n",
       "      <td>0.399329</td>\n",
       "      <td>0.238255</td>\n",
       "      <td>0.147651</td>\n",
       "      <td>0.000000</td>\n",
       "      <td>0.003356</td>\n",
       "      <td>0.040268</td>\n",
       "      <td>0.080537</td>\n",
       "      <td>0.070470</td>\n",
       "      <td>0.090604</td>\n",
       "      <td>...</td>\n",
       "      <td>0.0</td>\n",
       "      <td>0.0</td>\n",
       "      <td>0.0</td>\n",
       "      <td>0.0</td>\n",
       "      <td>0.0</td>\n",
       "      <td>0.0</td>\n",
       "      <td>0.0</td>\n",
       "      <td>0.0</td>\n",
       "      <td>0.0</td>\n",
       "      <td>0.0</td>\n",
       "    </tr>\n",
       "  </tbody>\n",
       "</table>\n",
       "<p>5 rows × 188 columns</p>\n",
       "</div>"
      ],
      "text/plain": [
       "        0         1         2         3         4         5         6    \\\n",
       "0  1.000000  0.758264  0.111570  0.000000  0.080579  0.078512  0.066116   \n",
       "1  0.908425  0.783883  0.531136  0.362637  0.366300  0.344322  0.333333   \n",
       "2  0.730088  0.212389  0.000000  0.119469  0.101770  0.101770  0.110619   \n",
       "3  1.000000  0.910417  0.681250  0.472917  0.229167  0.068750  0.000000   \n",
       "4  0.570470  0.399329  0.238255  0.147651  0.000000  0.003356  0.040268   \n",
       "\n",
       "        7         8         9    ...  178  179  180  181  182  183  184  185  \\\n",
       "0  0.049587  0.047521  0.035124  ...  0.0  0.0  0.0  0.0  0.0  0.0  0.0  0.0   \n",
       "1  0.307692  0.296703  0.300366  ...  0.0  0.0  0.0  0.0  0.0  0.0  0.0  0.0   \n",
       "2  0.123894  0.115044  0.132743  ...  0.0  0.0  0.0  0.0  0.0  0.0  0.0  0.0   \n",
       "3  0.004167  0.014583  0.054167  ...  0.0  0.0  0.0  0.0  0.0  0.0  0.0  0.0   \n",
       "4  0.080537  0.070470  0.090604  ...  0.0  0.0  0.0  0.0  0.0  0.0  0.0  0.0   \n",
       "\n",
       "   186  187  \n",
       "0  0.0  0.0  \n",
       "1  0.0  0.0  \n",
       "2  0.0  0.0  \n",
       "3  0.0  0.0  \n",
       "4  0.0  0.0  \n",
       "\n",
       "[5 rows x 188 columns]"
      ]
     },
     "execution_count": 13,
     "metadata": {},
     "output_type": "execute_result"
    }
   ],
   "source": [
    "test_pd = pd.read_csv(\"/home/hanaesori/workspace/jupyter_notebook/Neural_Network/csv/mitbih_test.csv\", header=None)\n",
    "test_pd.head()"
   ]
  },
  {
   "cell_type": "code",
   "execution_count": 14,
   "id": "fea9d7ce-f9ea-4864-8414-5a2cbc5bc486",
   "metadata": {},
   "outputs": [
    {
     "name": "stdout",
     "output_type": "stream",
     "text": [
      "Data Set(Sample, Features) : 21892 187\n",
      "Number of Categories : 5\n",
      "Classes[Normal = 0, Supra-ventricular = 1, Ventricular escape = 2, Fusion of ventricular = 3, Unclassifiable = 4] :\n",
      "Label 0 count: 18118\n",
      "Label 1 count: 556\n",
      "Label 2 count: 1448\n",
      "Label 3 count: 162\n",
      "Label 4 count: 1608\n"
     ]
    }
   ],
   "source": [
    "test_np = test_pd.to_numpy()\n",
    "test_data = torch.utils.data.TensorDataset(torch.from_numpy(test_np[:, :-1]).float(), torch.from_numpy(test_np[:, -1]).long(),)\n",
    "test_loader = DataLoader(test_data, batch_size=1000, shuffle=True)\n",
    "\n",
    "X_test = test_data.tensors[0]\n",
    "Y_test = test_data.tensors[1]\n",
    "\n",
    "print('Data Set(Sample, Features) :', len(test_data), X_test.shape[1]) #=> X shape : (87553, 187)\n",
    "print('Number of Categories :', len(Y_test.unique()))\n",
    "print('Classes[Normal = 0, Supra-ventricular = 1, Ventricular escape = 2, Fusion of ventricular = 3, Unclassifiable = 4] :')\n",
    "for i in range(len(Y_test.unique())):\n",
    "    print(f'Label {Y_test.unique()[i].item()} count: {torch.sum(Y_test == Y_test.unique()[i])}')"
   ]
  },
  {
   "cell_type": "code",
   "execution_count": 15,
   "id": "ac2ad325-f85c-4fb9-b368-4d8713a33f10",
   "metadata": {},
   "outputs": [
    {
     "data": {
      "image/png": "[encoded data removed]",
      "text/plain": [
       "<Figure size 900x600 with 6 Axes>"
      ]
     },
     "metadata": {},
     "output_type": "display_data"
    }
   ],
   "source": [
    "normal_X_test = X_test[Y_test == 0]\n",
    "\n",
    "fig, ax = plt.subplots(ncols=3, nrows=2, figsize=(9,6))\n",
    "fig.suptitle(\"Normal ECG\")\n",
    "ax = ax.ravel()\n",
    "for idx, ax in enumerate(ax):\n",
    "    ax.grid()\n",
    "    ax.plot(np.arange(len(normal_X_test[idx])), normal_X_test[idx])\n",
    "plt.show()"
   ]
  },
  {
   "cell_type": "code",
   "execution_count": 16,
   "id": "cb53d3e0-7109-4113-ad73-a7117a675f73",
   "metadata": {},
   "outputs": [
    {
     "data": {
      "image/png": "[encoded data removed]",
      "text/plain": [
       "<Figure size 900x600 with 6 Axes>"
      ]
     },
     "metadata": {},
     "output_type": "display_data"
    }
   ],
   "source": [
    "anomalous_X_test = X_test[Y_test!=0]\n",
    "\n",
    "fig, ax = plt.subplots(ncols=3, nrows=2, figsize=(9,6))\n",
    "fig.suptitle(\"Anomalous ECG\")\n",
    "ax = ax.ravel()\n",
    "for idx, ax in enumerate(ax):\n",
    "    ax.grid()\n",
    "    ax.plot(np.arange(len(anomalous_X_test[idx])), anomalous_X_test[idx])\n",
    "plt.show()"
   ]
  },
  {
   "cell_type": "markdown",
   "id": "8929d4c5-167b-4dd1-857f-bf2aa36b0a22",
   "metadata": {},
   "source": [
    "test_acc = evalute(model, test_loader, criterion)\n",
    "print('test acc:', test_acc)"
   ]
  },
  {
   "cell_type": "code",
   "execution_count": 17,
   "id": "24213d9b-3112-4749-b3bd-5e5666daedd8",
   "metadata": {},
   "outputs": [],
   "source": [
    "batch_size = 1000\n",
    "iteration = 10\n",
    "criterion = nn.CrossEntropyLoss()"
   ]
  },
  {
   "cell_type": "code",
   "execution_count": 18,
   "id": "829f9036-f295-465c-8491-4336353c7173",
   "metadata": {},
   "outputs": [],
   "source": [
    "starter = torch.cuda.Event(enable_timing=True)\n",
    "ender = torch.cuda.Event(enable_timing=True)\n",
    "timings=np.zeros((iteration,1))"
   ]
  },
  {
   "cell_type": "code",
   "execution_count": 19,
   "id": "10172f66-6afc-450e-9071-23af29c5c484",
   "metadata": {},
   "outputs": [
    {
     "data": {
      "application/vnd.jupyter.widget-view+json": {
       "model_id": "43a5f7c88c9848cdb244e45796d28b5f",
       "version_major": 2,
       "version_minor": 0
      },
      "text/plain": [
       "  0%|          | 0/22 [00:00<?, ?it/s]"
      ]
     },
     "metadata": {},
     "output_type": "display_data"
    },
    {
     "data": {
      "application/vnd.jupyter.widget-view+json": {
       "model_id": "9a769be0fa5c49149aadcd8c47f55f00",
       "version_major": 2,
       "version_minor": 0
      },
      "text/plain": [
       "  0%|          | 0/22 [00:00<?, ?it/s]"
      ]
     },
     "metadata": {},
     "output_type": "display_data"
    },
    {
     "data": {
      "application/vnd.jupyter.widget-view+json": {
       "model_id": "89bda8759287472395f5c97fedfb85f3",
       "version_major": 2,
       "version_minor": 0
      },
      "text/plain": [
       "  0%|          | 0/22 [00:00<?, ?it/s]"
      ]
     },
     "metadata": {},
     "output_type": "display_data"
    },
    {
     "data": {
      "application/vnd.jupyter.widget-view+json": {
       "model_id": "274c615515824f1fad64474a76452074",
       "version_major": 2,
       "version_minor": 0
      },
      "text/plain": [
       "  0%|          | 0/22 [00:00<?, ?it/s]"
      ]
     },
     "metadata": {},
     "output_type": "display_data"
    },
    {
     "data": {
      "application/vnd.jupyter.widget-view+json": {
       "model_id": "9aa90366700b485fa2e67764fb8ce1d8",
       "version_major": 2,
       "version_minor": 0
      },
      "text/plain": [
       "  0%|          | 0/22 [00:00<?, ?it/s]"
      ]
     },
     "metadata": {},
     "output_type": "display_data"
    },
    {
     "data": {
      "application/vnd.jupyter.widget-view+json": {
       "model_id": "5ce2dc75e3c146fd94a8b04d45ac580c",
       "version_major": 2,
       "version_minor": 0
      },
      "text/plain": [
       "  0%|          | 0/22 [00:00<?, ?it/s]"
      ]
     },
     "metadata": {},
     "output_type": "display_data"
    },
    {
     "data": {
      "application/vnd.jupyter.widget-view+json": {
       "model_id": "7bb94926260c4402b05a67c7b036f7cf",
       "version_major": 2,
       "version_minor": 0
      },
      "text/plain": [
       "  0%|          | 0/22 [00:00<?, ?it/s]"
      ]
     },
     "metadata": {},
     "output_type": "display_data"
    },
    {
     "data": {
      "application/vnd.jupyter.widget-view+json": {
       "model_id": "dedb84f5e64d4f538454e78b40f39875",
       "version_major": 2,
       "version_minor": 0
      },
      "text/plain": [
       "  0%|          | 0/22 [00:00<?, ?it/s]"
      ]
     },
     "metadata": {},
     "output_type": "display_data"
    },
    {
     "data": {
      "application/vnd.jupyter.widget-view+json": {
       "model_id": "bb6d84c0bb3e407eb2fe54964a83cbe5",
       "version_major": 2,
       "version_minor": 0
      },
      "text/plain": [
       "  0%|          | 0/22 [00:00<?, ?it/s]"
      ]
     },
     "metadata": {},
     "output_type": "display_data"
    },
    {
     "data": {
      "application/vnd.jupyter.widget-view+json": {
       "model_id": "8b48503b243f41d9b83c72a2ae75ec0b",
       "version_major": 2,
       "version_minor": 0
      },
      "text/plain": [
       "  0%|          | 0/22 [00:00<?, ?it/s]"
      ]
     },
     "metadata": {},
     "output_type": "display_data"
    },
    {
     "name": "stdout",
     "output_type": "stream",
     "text": [
      "Average Test Accuracy: 98.33%\n",
      "Elapsed time: 0.17821836853027345 s\n"
     ]
    }
   ],
   "source": [
    "best_acc, best_epoch = 0, 0\n",
    "test_acc=[]\n",
    "test_loss=[]\n",
    "with torch.no_grad(): # Gradient 연산 비활성화\n",
    "    for _ in range(iteration):\n",
    "        starter.record()\n",
    "        \n",
    "        correct = 0\n",
    "        total = 0\n",
    "    \n",
    "        test_bar = tqdm(test_loader, file=sys.stdout)\n",
    "        for step, (x, y) in enumerate(test_bar):\n",
    "            x, y = x.to(device), y.to(device)\n",
    "            logits_test = model(x)\n",
    "            loss = criterion(logits_test, y)\n",
    "            preds = logits_test.argmax(dim=1)\n",
    "            correct += torch.eq(preds, y).sum().item()\n",
    "            total += y.size(0)\n",
    "            \n",
    "            test_bar.desc = \"test iteration[{}/{}] loss:{:.3f}\".format(_ + 1,\n",
    "                                                                     iteration,\n",
    "                                                                     loss)\n",
    "        \n",
    "        accuracy = correct / total\n",
    "        test_acc.append(accuracy)  # append를 사용하여 정확도를 리스트에 추가\n",
    "        \n",
    "        ender.record()\n",
    "        torch.cuda.synchronize() # Gpu 연산이 완료될 때까지 대기\n",
    "\n",
    "average_acc = sum(test_acc) / iteration  # sum 함수와 iteration으로 나누어 평균 계산\n",
    "print(f\"Average Test Accuracy: {average_acc * 100:.2f}%\")\n",
    "\n",
    "infer_time = starter.elapsed_time(ender)\n",
    "print(\"Elapsed time: {} s\".format(infer_time * 1e-3)) # milliseconds to second"
   ]
  },
  {
   "cell_type": "markdown",
   "id": "f13850ee-bbb1-4a87-b701-fc3f74ad9a9e",
   "metadata": {},
   "source": [
    "# Record"
   ]
  },
  {
   "cell_type": "code",
   "execution_count": 20,
   "id": "c9951963-887d-400b-9cd8-9e5a74d7fa2f",
   "metadata": {},
   "outputs": [],
   "source": [
    "results = [train_acc, train_loss, val_acc, val_loss]\n",
    "for i in range(len(results[1])):  # Assuming results[1] refers to train_loss\n",
    "    results[1][i] = results[1][i].item()\n",
    "for i in range(len(results[3])):\n",
    "    results[3][i]=results[3][i].item()"
   ]
  },
  {
   "cell_type": "code",
   "execution_count": 21,
   "id": "aa5e7b1a-b6b9-4b08-b1bb-f6c7ca41d6ec",
   "metadata": {},
   "outputs": [
    {
     "data": {
      "image/png": "[encoded data removed]",
      "text/plain": [
       "<Figure size 640x480 with 1 Axes>"
      ]
     },
     "metadata": {},
     "output_type": "display_data"
    },
    {
     "data": {
      "image/png": "[encoded data removed]",
      "text/plain": [
       "<Figure size 640x480 with 1 Axes>"
      ]
     },
     "metadata": {},
     "output_type": "display_data"
    }
   ],
   "source": [
    "plt.plot(results[0])\n",
    "plt.plot(results[2])\n",
    "plt.legend(['Train Acc', 'Val Acc', 'Test Acc'])\n",
    "plt.title('Train vs Val vs Test Acc')\n",
    "plt.xlabel('Epoch')\n",
    "plt.ylabel('Accuracy')\n",
    "plt.grid()\n",
    "plt.show()\n",
    "plt.plot(results[1])\n",
    "plt.plot(results[3])\n",
    "plt.legend(['Train Loss', 'Val Loss'])\n",
    "plt.title('Train vs Val Loss')\n",
    "plt.xlabel('Epoch')\n",
    "plt.ylabel('Accuracy')\n",
    "plt.grid()\n",
    "plt.show()"
   ]
  },
  {
   "cell_type": "code",
   "execution_count": 22,
   "id": "b0777384-a574-43e0-84c5-8516021fecf5",
   "metadata": {},
   "outputs": [
    {
     "name": "stdout",
     "output_type": "stream",
     "text": [
      "ConvNet1D(\n",
      "  (layer1): Sequential(\n",
      "    (0): Conv1d(1, 16, kernel_size=(3,), stride=(1,), padding=(1,))\n",
      "    (1): MaxPool1d(kernel_size=2, stride=2, padding=0, dilation=1, ceil_mode=False)\n",
      "  )\n",
      "  (layer2): Sequential(\n",
      "    (0): Conv1d(16, 64, kernel_size=(3,), stride=(1,), padding=(1,))\n",
      "    (1): MaxPool1d(kernel_size=2, stride=2, padding=0, dilation=1, ceil_mode=False)\n",
      "  )\n",
      "  (layer3): Sequential(\n",
      "    (0): Conv1d(64, 128, kernel_size=(3,), stride=(1,), padding=(1,))\n",
      "    (1): MaxPool1d(kernel_size=2, stride=2, padding=0, dilation=1, ceil_mode=False)\n",
      "  )\n",
      "  (fc): Sequential(\n",
      "    (0): Linear(in_features=2944, out_features=500, bias=True)\n",
      "    (1): LeakyReLU(negative_slope=0.01, inplace=True)\n",
      "    (2): Linear(in_features=500, out_features=5, bias=True)\n",
      "  )\n",
      ")\n"
     ]
    }
   ],
   "source": [
    "print(model)"
   ]
  },
  {
   "cell_type": "code",
   "execution_count": 23,
   "id": "3e443861-6597-4622-bbb0-08fbec466131",
   "metadata": {},
   "outputs": [
    {
     "name": "stdout",
     "output_type": "stream",
     "text": [
      "----------------------------------------------------------------\n",
      "        Layer (type)               Output Shape         Param #\n",
      "================================================================\n",
      "            Conv1d-1              [-1, 16, 187]              64\n",
      "         MaxPool1d-2               [-1, 16, 93]               0\n",
      "            Conv1d-3               [-1, 64, 93]           3,136\n",
      "         MaxPool1d-4               [-1, 64, 46]               0\n",
      "            Conv1d-5              [-1, 128, 46]          24,704\n",
      "         MaxPool1d-6              [-1, 128, 23]               0\n",
      "            Linear-7                  [-1, 500]       1,472,500\n",
      "         LeakyReLU-8                  [-1, 500]               0\n",
      "            Linear-9                    [-1, 5]           2,505\n",
      "================================================================\n",
      "Total params: 1,502,909\n",
      "Trainable params: 1,502,909\n",
      "Non-trainable params: 0\n",
      "----------------------------------------------------------------\n",
      "Input size (MB): 0.00\n",
      "Forward/backward pass size (MB): 0.18\n",
      "Params size (MB): 5.73\n",
      "Estimated Total Size (MB): 5.91\n",
      "----------------------------------------------------------------\n"
     ]
    }
   ],
   "source": [
    "summary(model, input_size=(1, 187))"
   ]
  },
  {
   "cell_type": "code",
   "execution_count": 24,
   "id": "93a64f47-ee59-4abb-8c03-42106c1cd492",
   "metadata": {},
   "outputs": [
    {
     "name": "stdout",
     "output_type": "stream",
     "text": [
      "0\n"
     ]
    },
    {
     "name": "stderr",
     "output_type": "stream",
     "text": [
      "dot - graphviz version 2.50.0 (0)\n"
     ]
    }
   ],
   "source": [
    "print(os.system('dot -V'))"
   ]
  },
  {
   "cell_type": "code",
   "execution_count": 25,
   "id": "b0ba4fb4-d36d-4ef0-9460-aa6ee41aceea",
   "metadata": {},
   "outputs": [
    {
     "data": {
      "image/png": "[encoded data removed]",
      "text/plain": [
       "<IPython.core.display.Image object>"
      ]
     },
     "execution_count": 25,
     "metadata": {},
     "output_type": "execute_result"
    }
   ],
   "source": [
    "make_dot(logits, params=dict(list(model.named_parameters()))).render(\"1DCNN\", format=\"png\")\n",
    "Image(filename='1DCNN.png')"
   ]
  },
  {
   "cell_type": "code",
   "execution_count": 26,
   "id": "64933c33-0ea5-4a60-b231-dcf801c10137",
   "metadata": {},
   "outputs": [
    {
     "name": "stdout",
     "output_type": "stream",
     "text": [
      "layer1 Parameter containing:\n",
      "tensor([[[ 0.3775,  0.0240, -0.5007]],\n",
      "\n",
      "        [[ 0.2932, -0.6972, -0.1318]],\n",
      "\n",
      "        [[ 0.2444,  0.6244, -0.5919]],\n",
      "\n",
      "        [[ 0.6436, -0.2987, -0.3904]],\n",
      "\n",
      "        [[ 0.3558,  0.5330, -0.7226]],\n",
      "\n",
      "        [[ 0.1767, -0.1278,  0.1755]],\n",
      "\n",
      "        [[-0.1230,  0.6475, -0.4938]],\n",
      "\n",
      "        [[ 0.4554, -0.5267,  0.3079]],\n",
      "\n",
      "        [[ 0.0796,  0.1153, -0.2961]],\n",
      "\n",
      "        [[-0.1519,  0.3485, -0.4992]],\n",
      "\n",
      "        [[-0.4339, -0.0095,  0.3272]],\n",
      "\n",
      "        [[ 0.0778, -0.0371, -0.0999]],\n",
      "\n",
      "        [[-0.6289, -0.4209,  0.3207]],\n",
      "\n",
      "        [[-0.2164,  0.5653, -0.1646]],\n",
      "\n",
      "        [[-0.2055, -0.7248,  0.5468]],\n",
      "\n",
      "        [[-0.5917,  0.7337, -0.4404]]], device='cuda:0', requires_grad=True)\n",
      "layer1 Parameter containing:\n",
      "tensor([-0.0072,  0.0605, -0.1174, -0.0106, -0.0383,  0.0015, -0.0252, -0.0721,\n",
      "         0.0310,  0.0329,  0.0751, -0.0038,  0.1089, -0.0607,  0.0626,  0.0932],\n",
      "       device='cuda:0', requires_grad=True)\n",
      "layer2 Parameter containing:\n",
      "tensor([[[-0.0593,  0.2212, -0.0455],\n",
      "         [ 0.0867,  0.3774, -0.1832],\n",
      "         [-0.0516,  0.3120, -0.2610],\n",
      "         ...,\n",
      "         [-0.1859,  0.0189, -0.0699],\n",
      "         [ 0.4715,  0.0117,  0.1523],\n",
      "         [-0.2520,  0.1136,  0.0501]],\n",
      "\n",
      "        [[-0.0229,  0.2254, -0.1773],\n",
      "         [ 0.0838,  0.2305, -0.1609],\n",
      "         [-0.0608,  0.1635, -0.0594],\n",
      "         ...,\n",
      "         [-0.1249, -0.2125,  0.0594],\n",
      "         [-0.1201,  0.5389,  0.1270],\n",
      "         [-0.1902,  0.0050,  0.0365]],\n",
      "\n",
      "        [[-0.0736, -0.0717, -0.0532],\n",
      "         [ 0.2615, -0.0268, -0.0877],\n",
      "         [ 0.0275,  0.0194, -0.0679],\n",
      "         ...,\n",
      "         [-0.1759,  0.1305, -0.1574],\n",
      "         [ 0.1831, -0.3701,  0.0358],\n",
      "         [-0.0732,  0.0683, -0.2653]],\n",
      "\n",
      "        ...,\n",
      "\n",
      "        [[-0.0008, -0.1189, -0.0337],\n",
      "         [ 0.2938, -0.0670, -0.1484],\n",
      "         [-0.1060, -0.0902,  0.2695],\n",
      "         ...,\n",
      "         [-0.1663,  0.1122,  0.3217],\n",
      "         [ 0.0326,  0.2520, -0.0653],\n",
      "         [-0.1286,  0.0070, -0.0520]],\n",
      "\n",
      "        [[-0.0594, -0.0102, -0.0010],\n",
      "         [ 0.2295,  0.0120, -0.2280],\n",
      "         [-0.1476,  0.1353,  0.1056],\n",
      "         ...,\n",
      "         [-0.1597, -0.0875,  0.1542],\n",
      "         [ 0.0682,  0.2617,  0.0994],\n",
      "         [ 0.0641,  0.0458,  0.1422]],\n",
      "\n",
      "        [[ 0.1629,  0.0020,  0.1544],\n",
      "         [-0.1671,  0.0242,  0.1271],\n",
      "         [ 0.0238, -0.1327,  0.0863],\n",
      "         ...,\n",
      "         [ 0.0197,  0.0872, -0.0388],\n",
      "         [-0.0954, -0.1227, -0.1639],\n",
      "         [ 0.2299,  0.0095,  0.0981]]], device='cuda:0', requires_grad=True)\n",
      "layer2 Parameter containing:\n",
      "tensor([-0.0428, -0.0519,  0.0037, -0.0644,  0.0186, -0.0078, -0.0252,  0.0150,\n",
      "         0.0235, -0.0028, -0.0104, -0.0515, -0.0646, -0.0607, -0.0187,  0.0030,\n",
      "        -0.0073,  0.0449, -0.0028, -0.0097, -0.0006, -0.0946, -0.0426, -0.0040,\n",
      "        -0.0726, -0.0186, -0.0426, -0.0012,  0.0076, -0.0295, -0.0393,  0.0023,\n",
      "        -0.0192, -0.0326, -0.0559, -0.0379,  0.0255, -0.0349,  0.0136,  0.0065,\n",
      "        -0.0446, -0.0092,  0.0358, -0.0365, -0.0093,  0.0073, -0.0043,  0.0267,\n",
      "         0.0385, -0.0699, -0.0961, -0.0349,  0.0240,  0.0180, -0.0098,  0.0330,\n",
      "        -0.0038,  0.0258, -0.0212, -0.0409,  0.0042,  0.0217, -0.0142,  0.0183],\n",
      "       device='cuda:0', requires_grad=True)\n",
      "layer3 Parameter containing:\n",
      "tensor([[[-2.3435e-01, -1.0787e-01,  1.0906e-01],\n",
      "         [-5.1697e-02, -1.1063e-01,  2.3539e-01],\n",
      "         [ 4.6373e-02,  1.5362e-01, -1.1982e-01],\n",
      "         ...,\n",
      "         [-3.8352e-02,  5.6204e-02,  1.9562e-03],\n",
      "         [-4.2239e-02, -3.2460e-04, -3.4014e-03],\n",
      "         [ 1.0140e-01,  5.0838e-02, -2.0462e-01]],\n",
      "\n",
      "        [[ 1.6566e-01, -5.0237e-02, -4.8972e-01],\n",
      "         [ 7.7929e-02,  6.0071e-02, -1.6855e-01],\n",
      "         [-1.0347e-01,  2.9374e-02,  8.0527e-02],\n",
      "         ...,\n",
      "         [ 9.7117e-02,  2.1596e-02, -1.3011e-01],\n",
      "         [ 8.2314e-02, -4.2431e-02, -1.2182e-01],\n",
      "         [-1.7715e-01, -1.2990e-02,  1.3469e-01]],\n",
      "\n",
      "        [[ 3.5587e-02,  2.5177e-01, -1.7214e-02],\n",
      "         [ 1.2857e-01,  1.5931e-01, -2.0500e-01],\n",
      "         [ 1.2289e-01,  7.8737e-02, -1.9277e-01],\n",
      "         ...,\n",
      "         [-7.3513e-02, -1.3792e-02, -2.7841e-01],\n",
      "         [-5.8175e-02,  2.4407e-01, -1.4586e-01],\n",
      "         [ 3.4946e-02, -1.5388e-02, -1.5679e-01]],\n",
      "\n",
      "        ...,\n",
      "\n",
      "        [[ 2.2081e-01, -2.6636e-01,  9.8625e-02],\n",
      "         [ 1.1232e-01, -1.7108e-01,  2.4539e-02],\n",
      "         [ 5.5846e-02,  6.4029e-02, -9.4208e-02],\n",
      "         ...,\n",
      "         [-8.2423e-02,  1.4632e-01, -3.5973e-02],\n",
      "         [-7.1010e-02, -9.0251e-02, -4.2640e-02],\n",
      "         [ 4.0672e-02, -1.0354e-01, -2.0238e-01]],\n",
      "\n",
      "        [[-4.7906e-02, -4.8076e-02, -1.4968e-01],\n",
      "         [-4.4137e-02,  1.2833e-01, -1.5636e-01],\n",
      "         [ 4.5208e-02,  9.9216e-02, -2.0640e-01],\n",
      "         ...,\n",
      "         [-7.3604e-02,  3.1933e-02, -7.0745e-02],\n",
      "         [ 2.2741e-02,  1.2230e-01, -1.4215e-02],\n",
      "         [ 2.2677e-02, -4.2479e-04, -4.7862e-02]],\n",
      "\n",
      "        [[ 1.0962e-01, -1.2054e-01, -1.2928e-01],\n",
      "         [ 1.1735e-01, -8.3919e-02, -2.0309e-01],\n",
      "         [ 2.6172e-02,  9.0709e-02, -1.1121e-02],\n",
      "         ...,\n",
      "         [ 1.2627e-01,  2.7558e-03, -1.7502e-01],\n",
      "         [ 7.0584e-02,  1.2509e-01, -1.3601e-01],\n",
      "         [-1.0435e-01,  1.4863e-01, -2.2920e-02]]], device='cuda:0',\n",
      "       requires_grad=True)\n",
      "layer3 Parameter containing:\n",
      "tensor([-1.2335e-02, -5.6528e-02, -1.4089e-01, -7.6172e-02, -4.5989e-02,\n",
      "        -5.3257e-02, -1.3992e-01, -3.2597e-02, -1.3235e-01, -9.4366e-02,\n",
      "        -1.4325e-02, -3.2161e-04, -2.6255e-02, -6.1840e-02,  2.0295e-02,\n",
      "        -4.8018e-02, -3.6152e-03, -5.2414e-02, -9.8138e-02, -4.5664e-02,\n",
      "        -7.6156e-02, -1.3917e-01, -6.7731e-02, -7.8252e-02, -7.8729e-02,\n",
      "        -8.1034e-02, -1.3121e-02, -4.3759e-02, -1.8074e-01,  7.1448e-04,\n",
      "        -6.8660e-02, -5.7479e-02, -2.4916e-01, -2.5902e-03,  2.4158e-03,\n",
      "        -1.3386e-01, -1.9970e-02, -2.1533e-02, -7.1148e-02, -6.0272e-02,\n",
      "        -2.2536e-02, -8.2217e-02, -7.0183e-02,  2.5079e-02, -1.0056e-01,\n",
      "         1.5502e-02, -4.7695e-02, -3.7420e-02, -1.0149e-01, -4.9248e-05,\n",
      "        -5.4734e-02, -2.3525e-02, -5.2638e-02, -1.9093e-02, -9.8006e-02,\n",
      "        -9.0467e-02, -9.8697e-02, -1.5701e-01, -1.8798e-01, -6.8983e-02,\n",
      "        -2.9761e-02, -1.3937e-02, -6.9422e-04,  4.0449e-03, -1.0669e-01,\n",
      "        -1.5837e-01, -1.5074e-01, -5.8242e-02, -1.1201e-01, -9.4327e-02,\n",
      "        -1.1418e-02, -5.7445e-02, -3.3015e-03, -5.1272e-02, -1.1237e-01,\n",
      "        -7.3786e-03, -2.6816e-02, -5.8293e-02, -8.7277e-02, -4.8757e-02,\n",
      "        -1.0081e-01, -7.9874e-02, -6.6957e-02, -3.7936e-02, -1.5930e-01,\n",
      "        -7.9558e-02, -4.8375e-02, -4.4123e-02, -3.5201e-02, -5.1019e-02,\n",
      "        -5.7037e-02,  1.1508e-02, -3.9012e-02, -1.1201e-01, -2.8297e-02,\n",
      "        -2.1298e-03, -5.3390e-02, -1.6463e-01, -1.1657e-01, -2.0164e-02,\n",
      "        -7.4020e-02, -2.9934e-03, -2.9734e-02, -4.4889e-02, -1.3975e-03,\n",
      "        -7.2199e-02, -5.6119e-02, -1.9184e-02, -7.0640e-02, -5.9781e-02,\n",
      "        -7.3586e-02, -1.2072e-01, -3.9765e-02, -4.3498e-02, -5.3586e-02,\n",
      "        -8.9921e-02, -5.2269e-02, -2.1107e-02, -9.4415e-02, -6.9677e-02,\n",
      "        -1.1544e-01, -1.0252e-02,  3.0279e-04, -7.2251e-02, -6.5299e-02,\n",
      "        -4.6038e-02, -4.2064e-02, -8.2877e-02], device='cuda:0',\n",
      "       requires_grad=True)\n",
      "fc Parameter containing:\n",
      "tensor([[ 0.0515, -0.5797, -0.2112,  ..., -0.0027, -0.0230, -0.0222],\n",
      "        [-0.0119, -0.0355,  0.0145,  ..., -0.0032, -0.0209, -0.0030],\n",
      "        [-0.0783, -0.1398,  0.0040,  ...,  0.2799,  0.2270,  0.1457],\n",
      "        ...,\n",
      "        [ 0.1123,  0.0402, -0.1813,  ...,  0.0575,  0.1198, -0.0072],\n",
      "        [ 0.0133, -0.1183,  0.1315,  ...,  0.0162, -0.0085, -0.0428],\n",
      "        [ 0.0704, -0.0843,  0.1256,  ...,  0.0756,  0.0442, -0.0373]],\n",
      "       device='cuda:0', requires_grad=True)\n",
      "fc Parameter containing:\n",
      "tensor([ 7.1102e-02, -1.5287e-03, -2.3955e-01, -5.2419e-02, -6.5278e-02,\n",
      "        -1.8557e-04, -2.1700e-01, -1.3891e-02, -2.7990e-01, -4.9970e-02,\n",
      "        -7.4378e-03, -1.7049e-01, -3.8723e-02, -5.9042e-02, -6.3072e-02,\n",
      "        -6.2548e-02, -8.3826e-02, -2.0240e-01, -7.3319e-02, -1.2266e-01,\n",
      "        -9.0675e-02, -1.1663e-01, -1.0591e-02, -5.4032e-02, -1.4057e-01,\n",
      "        -2.4499e-02, -8.5054e-02, -3.1840e-01, -2.0151e-01, -3.0409e-02,\n",
      "        -4.5523e-02, -8.0007e-02, -6.3882e-02, -1.0318e-01, -6.5714e-02,\n",
      "        -1.4115e-01, -3.8959e-01,  6.2661e-03, -1.7089e-02, -1.6936e-01,\n",
      "        -2.0531e-02, -3.4803e-01, -3.4626e-01, -5.2301e-02, -1.1069e-01,\n",
      "        -4.6762e-02, -1.8191e-02, -2.9958e-01, -1.3751e-01, -5.3847e-02,\n",
      "        -8.9732e-02, -2.4202e-02, -1.3448e-01, -1.6465e-01, -4.7191e-02,\n",
      "        -1.9053e-01, -1.5845e-01, -1.3778e-01, -6.5212e-03, -5.0860e-02,\n",
      "        -4.2495e-02, -9.0688e-03, -1.0095e-01, -2.7287e-02, -2.9454e-02,\n",
      "        -1.0597e-01, -8.8627e-02, -1.8770e-01, -1.8986e-02, -1.3455e-02,\n",
      "        -1.6269e-03, -6.8513e-02, -3.5211e-01, -2.8077e-03, -7.2248e-03,\n",
      "         1.9825e-02,  4.2876e-02, -2.2043e-01, -3.4334e-02, -2.0544e-01,\n",
      "        -7.2796e-02, -1.1679e-01, -1.7075e-01, -4.4923e-02, -5.9708e-02,\n",
      "         1.0668e-02, -2.6826e-02, -2.4900e-01, -3.7527e-01, -1.2425e-01,\n",
      "        -1.4010e-01, -1.3350e-02, -2.2996e-03, -9.2563e-02, -1.2129e-01,\n",
      "        -2.3338e-02, -7.8484e-03, -3.1553e-02, -1.2185e-02, -1.1435e-01,\n",
      "        -4.4580e-02, -6.0190e-02, -2.0234e-02, -2.4097e-01, -3.9539e-02,\n",
      "        -1.1642e-01, -1.9014e-02, -1.4709e-01,  1.3284e-02, -4.9273e-02,\n",
      "        -8.8930e-03, -9.2854e-02, -1.0069e-01, -1.5882e-01, -2.2626e-01,\n",
      "        -5.0956e-02, -2.9664e-01, -2.6363e-01,  6.3974e-02, -3.1911e-02,\n",
      "        -2.5151e-01, -1.5020e-01, -8.6100e-02, -1.9672e-01, -1.5569e-02,\n",
      "        -3.8149e-02, -1.2696e-01, -1.6618e-01, -8.8423e-02,  7.5126e-03,\n",
      "        -1.0176e-01, -8.4312e-03, -7.3062e-02, -1.2964e-02, -4.0366e-01,\n",
      "        -2.7218e-02, -2.3492e-01, -1.7146e-01, -1.8981e-01,  1.2560e-02,\n",
      "         2.3296e-02, -2.7755e-01,  1.9792e-02,  1.8178e-03, -4.1819e-02,\n",
      "        -1.5233e-01, -1.6875e-01, -1.9446e-02, -8.6294e-03, -3.0380e-01,\n",
      "        -2.7231e-03, -1.0188e-01, -1.0333e-01, -1.3814e-02, -3.1740e-01,\n",
      "        -2.4536e-01,  1.1182e-02, -1.3586e-02, -1.4616e-03, -3.0841e-02,\n",
      "        -1.0943e-01, -1.7413e-02, -1.2572e-02, -6.9346e-03, -1.5471e-02,\n",
      "        -6.8867e-02, -1.8061e-02, -4.3006e-02, -1.0146e-02, -1.3196e-01,\n",
      "        -1.7844e-02, -2.5051e-01, -1.4025e-02, -9.5009e-02,  3.1703e-02,\n",
      "        -5.2713e-02, -1.3828e-02, -4.8063e-02, -6.9350e-02, -1.0419e-01,\n",
      "        -1.1812e-01, -1.5452e-01,  1.3228e-02, -1.8687e-01, -3.4100e-01,\n",
      "        -3.4070e-02, -1.0096e-01, -2.9665e-01, -6.9393e-02, -7.0670e-02,\n",
      "         9.6632e-02, -1.2508e-02, -6.1272e-02, -2.2672e-02, -8.4979e-02,\n",
      "        -2.3738e-01, -9.0007e-02, -2.6658e-01, -1.1530e-01, -3.1186e-03,\n",
      "        -4.7271e-02, -3.2908e-02, -1.5541e-02, -9.6669e-02, -9.1317e-02,\n",
      "        -7.4396e-02, -1.8126e-02, -2.1647e-02, -2.4151e-02, -4.2608e-02,\n",
      "        -4.1783e-02,  1.0007e-01, -7.2653e-02, -1.9128e-01, -1.4928e-02,\n",
      "        -1.3471e-02, -6.3445e-03,  1.5513e-01, -2.3153e-02, -4.0066e-04,\n",
      "        -1.7957e-01, -2.5488e-01, -8.4251e-02, -3.8781e-04, -1.3172e-02,\n",
      "        -2.7765e-01, -7.4538e-03, -2.9616e-01,  2.8248e-02, -1.2673e-01,\n",
      "        -1.8237e-01, -2.3788e-01, -1.9356e-01, -7.7966e-02, -1.7873e-01,\n",
      "        -1.5604e-01, -9.5681e-02, -3.9354e-02, -5.6108e-02, -1.1923e-01,\n",
      "        -2.7217e-02, -9.3267e-02,  9.4190e-02, -1.7952e-01, -2.7598e-02,\n",
      "        -2.0745e-01, -3.1001e-02, -7.6459e-02, -3.4447e-01, -1.9415e-01,\n",
      "        -5.3746e-02, -2.4159e-02, -1.5488e-01, -1.9883e-01, -1.8956e-01,\n",
      "         6.6917e-03, -2.4275e-01, -3.4202e-02, -6.5067e-02, -3.2846e-02,\n",
      "        -6.3917e-02, -6.1355e-02, -6.6285e-02, -5.3515e-02, -1.2445e-02,\n",
      "        -1.8797e-01,  1.2391e-02, -2.2428e-01, -2.0335e-02, -8.0118e-02,\n",
      "        -1.0523e-01, -1.6624e-02, -1.9564e-01, -2.3866e-01, -8.6857e-02,\n",
      "        -3.2258e-01, -1.8874e-01, -4.0408e-02,  6.7267e-04, -1.8555e-01,\n",
      "        -1.6628e-01,  1.5893e-01, -2.7657e-03, -2.0157e-02, -1.0118e-02,\n",
      "        -8.5112e-02, -6.3870e-02, -9.1979e-02,  2.7217e-04, -1.7076e-01,\n",
      "        -4.6533e-02, -1.0455e-01,  5.7467e-02,  1.5746e-02, -3.1376e-01,\n",
      "        -1.0093e-01, -3.8424e-02, -1.5840e-03, -2.3050e-01, -8.9030e-02,\n",
      "        -6.2605e-02, -1.5690e-02, -2.2048e-01, -1.1684e-02, -1.8943e-01,\n",
      "        -2.9327e-01,  7.8039e-02, -1.1960e-01, -1.0279e-02, -3.1151e-01,\n",
      "        -9.9131e-02, -5.8471e-02,  4.4883e-04, -2.7847e-01, -1.2998e-02,\n",
      "        -3.4078e-01, -5.6094e-03, -1.4323e-02, -5.3594e-02, -2.4054e-01,\n",
      "         1.9062e-02, -2.3643e-02, -4.0988e-02, -1.0180e-01, -1.7092e-01,\n",
      "        -1.4042e-01, -1.5320e-01, -2.3348e-02, -4.6282e-02, -1.3887e-01,\n",
      "        -9.8745e-02, -1.1247e-01, -9.2675e-02,  6.9421e-04, -3.5562e-02,\n",
      "        -2.0015e-02, -4.7035e-02, -2.0871e-01, -2.1328e-03, -2.5158e-01,\n",
      "        -3.8228e-01, -8.1871e-03, -7.8645e-03,  2.9031e-02, -1.3971e-03,\n",
      "        -2.2021e-02, -4.6584e-02, -2.1515e-01, -8.3910e-02, -1.7277e-01,\n",
      "        -5.2649e-02, -3.0401e-01, -1.4648e-01, -8.4500e-02, -1.2010e-02,\n",
      "        -2.0532e-01, -4.0524e-02, -4.6450e-02, -8.4656e-02, -1.2565e-01,\n",
      "        -2.2288e-01, -2.4108e-01, -7.1873e-03, -1.8883e-02,  2.9861e-03,\n",
      "        -8.2276e-02, -5.6211e-02, -1.3168e-01, -1.6227e-01, -3.1453e-02,\n",
      "        -1.0281e-01, -3.0081e-01, -3.2068e-02, -7.6008e-02, -9.0102e-02,\n",
      "        -1.9238e-02, -6.6624e-02,  5.3975e-03, -6.5537e-02, -1.9765e-01,\n",
      "        -1.2233e-01, -2.1339e-01, -1.7401e-01, -7.1712e-02, -2.5926e-01,\n",
      "        -8.2713e-02, -2.2218e-02,  1.7558e-02,  8.8371e-02, -3.5752e-02,\n",
      "         3.8524e-03, -3.0288e-02, -1.6400e-01, -2.8835e-02, -2.5003e-01,\n",
      "        -1.6312e-02, -1.0031e-02, -3.2548e-02, -1.7296e-01,  4.6046e-03,\n",
      "        -3.1053e-02, -1.1335e-01, -6.1013e-03, -3.0023e-02, -3.1220e-01,\n",
      "        -6.6624e-03, -1.1404e-02, -3.7158e-01, -8.8704e-02, -5.1050e-02,\n",
      "        -8.9736e-02, -2.6917e-01, -2.0356e-01, -9.6492e-02, -5.5418e-02,\n",
      "        -5.0417e-02, -5.1368e-02, -5.9267e-02, -9.0273e-02, -7.1338e-02,\n",
      "         4.9490e-03, -1.3008e-01, -3.5179e-02, -1.8526e-01, -4.3298e-02,\n",
      "        -2.4707e-01, -7.0622e-02, -5.6564e-02, -1.3037e-01, -8.6631e-02,\n",
      "        -1.3909e-02, -4.5433e-03, -2.3080e-02, -2.1251e-02, -2.6909e-02,\n",
      "        -4.4245e-02, -9.4773e-02, -5.2508e-02, -1.6066e-01, -4.8375e-02,\n",
      "        -7.2140e-03,  1.1933e-01,  6.7997e-02, -2.4369e-01, -3.0233e-01,\n",
      "        -6.4666e-02,  1.4934e-02,  4.5973e-03, -5.5244e-02, -9.6963e-02,\n",
      "        -2.8295e-02, -2.4714e-01, -1.0309e-01, -1.5033e-01, -3.4465e-03,\n",
      "        -1.9321e-01, -1.3104e-02,  7.1034e-03, -8.6817e-02, -2.6847e-02,\n",
      "        -1.1509e-01, -7.0160e-02, -3.5850e-02, -1.6759e-02, -1.3362e-01,\n",
      "        -5.0565e-02, -2.3532e-02, -1.8068e-01, -2.4988e-02, -3.3273e-01,\n",
      "        -8.5789e-02, -9.1359e-02, -1.1719e-01, -3.6038e-01, -8.7596e-02,\n",
      "        -4.1101e-02,  4.3193e-02, -3.2048e-02, -8.7177e-02, -2.8793e-01,\n",
      "        -1.2635e-01, -1.8390e-01, -2.7725e-01, -1.2534e-01, -8.4618e-02,\n",
      "        -4.6419e-02, -1.9757e-02, -2.4781e-01, -7.2643e-02, -1.7029e-01,\n",
      "        -1.5363e-01,  2.1319e-02, -9.5126e-02, -2.8726e-02, -6.7914e-02,\n",
      "        -1.4766e-01, -4.2991e-02, -2.3944e-02, -1.2014e-02,  6.2548e-03],\n",
      "       device='cuda:0', requires_grad=True)\n",
      "fc Parameter containing:\n",
      "tensor([[-0.0961,  0.0202, -0.0576,  ...,  0.0367, -0.0127, -0.0709],\n",
      "        [ 0.0401,  0.0090, -0.0431,  ...,  0.0753, -0.0038, -0.0916],\n",
      "        [ 0.0826,  0.0247,  0.0066,  ..., -0.0590,  0.0355,  0.0539],\n",
      "        [-0.1646, -0.0138, -0.0448,  ...,  0.0612,  0.0291,  0.0704],\n",
      "        [ 0.0011, -0.0225, -0.0457,  ...,  0.0003, -0.0661,  0.0070]],\n",
      "       device='cuda:0', requires_grad=True)\n",
      "fc Parameter containing:\n",
      "tensor([ 0.0585, -0.0392, -0.0601,  0.0364, -0.0020], device='cuda:0',\n",
      "       requires_grad=True)\n"
     ]
    }
   ],
   "source": [
    "for name, child in model.named_children():\n",
    "    for param in child.parameters():\n",
    "        print(name, param)"
   ]
  },
  {
   "cell_type": "code",
   "execution_count": null,
   "id": "88dc265d-279f-4249-8d88-ad78829e8d10",
   "metadata": {},
   "outputs": [],
   "source": []
  }
 ],
 "metadata": {
  "kernelspec": {
   "display_name": "Python 3 (ipykernel)",
   "language": "python",
   "name": "python3"
  },
  "language_info": {
   "codemirror_mode": {
    "name": "ipython",
    "version": 3
   },
   "file_extension": ".py",
   "mimetype": "text/x-python",
   "name": "python",
   "nbconvert_exporter": "python",
   "pygments_lexer": "ipython3",
   "version": "3.11.9"
  }
 },
 "nbformat": 4,
 "nbformat_minor": 5
}
