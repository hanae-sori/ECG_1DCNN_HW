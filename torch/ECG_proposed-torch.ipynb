{
 "cells": [
  {
   "cell_type": "markdown",
   "id": "83d5e935-d7a4-493b-8f9b-56723dde35d9",
   "metadata": {},
   "source": [
    "# Preferences"
   ]
  },
  {
   "cell_type": "code",
   "execution_count": 1,
   "id": "ddbf4e61-49e9-44dc-8e3c-d7e7f4530622",
   "metadata": {},
   "outputs": [
    {
     "name": "stdout",
     "output_type": "stream",
     "text": [
      "2.3.1\n"
     ]
    }
   ],
   "source": [
    "import torch\n",
    "import torch.nn as nn\n",
    "import torch.optim as optim\n",
    "from torch.utils.data import DataLoader\n",
    "from torchsummary import summary\n",
    "from torchviz import make_dot\n",
    "print(torch.__version__)\n",
    "\n",
    "import sys\n",
    "\n",
    "import numpy as np\n",
    "import pandas as pd\n",
    "import matplotlib.pyplot as plt\n",
    "from tqdm.auto import tqdm\n",
    "from IPython.display import Image"
   ]
  },
  {
   "cell_type": "code",
   "execution_count": 2,
   "id": "368138e9-5ada-49c6-87a5-cfd841a9c7bb",
   "metadata": {},
   "outputs": [
    {
     "name": "stdout",
     "output_type": "stream",
     "text": [
      "Available GPUs: 1\n",
      "GPU 0: NVIDIA GeForce GTX 1080\n"
     ]
    }
   ],
   "source": [
    "import os\n",
    "os.environ[\"CUDA_VISIBLE_DEVICES\"]=\"0\"\n",
    "\n",
    "device = torch.device(\"cuda:0\" if torch.cuda.is_available() else \"cpu\")\n",
    "\n",
    "if torch.cuda.is_available():\n",
    "    print(\"Available GPUs:\", torch.cuda.device_count())\n",
    "    for i in range(torch.cuda.device_count()):\n",
    "        print(f\"GPU {i}: {torch.cuda.get_device_name(i)}\")\n",
    "else:\n",
    "    print(\"No GPUs available, CPU {} \".format(device))"
   ]
  },
  {
   "cell_type": "markdown",
   "id": "d447eeef-5ee3-4372-9d2c-36ce8bdae6f0",
   "metadata": {},
   "source": [
    "# Data Preprocessing"
   ]
  },
  {
   "cell_type": "markdown",
   "id": "98b8cbb6-60ff-4429-bc7d-102a6e44a378",
   "metadata": {},
   "source": [
    "def my_DataLoader(train_root,test_root,batch_size = 100, val_split_factor = 0.2):\r\n",
    "\r\n",
    "    train_df = pd.read_csv(train_root, header=None)\r\n",
    "    test_df = pd.read_csv(test_root, header=None)\r\n",
    "\r\n",
    "    train_data = train_df.to_numpy()\r\n",
    "    test_data = test_df.to_numpy()\r\n",
    "\r\n",
    "    train_dataset = torch.utils.data.TensorDataset(torch.from_numpy(train_data[:, :-1]).float(),\r\n",
    "                                                   torch.from_numpy(train_data[:, -1]).long(),)\r\n",
    "    test_dataset = torch.utils.data.TensorDataset(torch.from_numpy(test_data[:, :-1]).float(),\r\n",
    "                                                  torch.from_numpy(test_data[:, -1]).long())\r\n",
    "\r\n",
    "    train_len = train_data.shape[0]\r\n",
    "    val_len = int(train_len * val_split_factor)\r\n",
    "    train_len -= val_len\r\n",
    "\r\n",
    "    train_dataset, val_dataset = torch.utils.data.random_split(train_dataset, [train_len, val_len])\r\n",
    "\r\n",
    "    train_loader = DataLoader(train_dataset, batch_size=batch_size, shuffle=True)\r\n",
    "    val_loader = DataLoader(val_dataset, batch_size=batch_size, shuffle=True)\r\n",
    "    test_loader = DataLoader(test_dataset, batch_size=batch_size, shuffle=True)\r\n",
    "\r\n",
    "    return train_loader, val_loader, test_loader"
   ]
  },
  {
   "cell_type": "code",
   "execution_count": 3,
   "id": "77e100d7-daed-486f-a663-4c46a631f1df",
   "metadata": {},
   "outputs": [
    {
     "data": {
      "text/html": [
       "<div>\n",
       "<style scoped>\n",
       "    .dataframe tbody tr th:only-of-type {\n",
       "        vertical-align: middle;\n",
       "    }\n",
       "\n",
       "    .dataframe tbody tr th {\n",
       "        vertical-align: top;\n",
       "    }\n",
       "\n",
       "    .dataframe thead th {\n",
       "        text-align: right;\n",
       "    }\n",
       "</style>\n",
       "<table border=\"1\" class=\"dataframe\">\n",
       "  <thead>\n",
       "    <tr style=\"text-align: right;\">\n",
       "      <th></th>\n",
       "      <th>0</th>\n",
       "      <th>1</th>\n",
       "      <th>2</th>\n",
       "      <th>3</th>\n",
       "      <th>4</th>\n",
       "      <th>5</th>\n",
       "      <th>6</th>\n",
       "      <th>7</th>\n",
       "      <th>8</th>\n",
       "      <th>9</th>\n",
       "      <th>...</th>\n",
       "      <th>178</th>\n",
       "      <th>179</th>\n",
       "      <th>180</th>\n",
       "      <th>181</th>\n",
       "      <th>182</th>\n",
       "      <th>183</th>\n",
       "      <th>184</th>\n",
       "      <th>185</th>\n",
       "      <th>186</th>\n",
       "      <th>187</th>\n",
       "    </tr>\n",
       "  </thead>\n",
       "  <tbody>\n",
       "    <tr>\n",
       "      <th>0</th>\n",
       "      <td>0.977941</td>\n",
       "      <td>0.926471</td>\n",
       "      <td>0.681373</td>\n",
       "      <td>0.245098</td>\n",
       "      <td>0.154412</td>\n",
       "      <td>0.191176</td>\n",
       "      <td>0.151961</td>\n",
       "      <td>0.085784</td>\n",
       "      <td>0.058824</td>\n",
       "      <td>0.049020</td>\n",
       "      <td>...</td>\n",
       "      <td>0.0</td>\n",
       "      <td>0.0</td>\n",
       "      <td>0.0</td>\n",
       "      <td>0.0</td>\n",
       "      <td>0.0</td>\n",
       "      <td>0.0</td>\n",
       "      <td>0.0</td>\n",
       "      <td>0.0</td>\n",
       "      <td>0.0</td>\n",
       "      <td>0.0</td>\n",
       "    </tr>\n",
       "    <tr>\n",
       "      <th>1</th>\n",
       "      <td>0.960114</td>\n",
       "      <td>0.863248</td>\n",
       "      <td>0.461538</td>\n",
       "      <td>0.196581</td>\n",
       "      <td>0.094017</td>\n",
       "      <td>0.125356</td>\n",
       "      <td>0.099715</td>\n",
       "      <td>0.088319</td>\n",
       "      <td>0.074074</td>\n",
       "      <td>0.082621</td>\n",
       "      <td>...</td>\n",
       "      <td>0.0</td>\n",
       "      <td>0.0</td>\n",
       "      <td>0.0</td>\n",
       "      <td>0.0</td>\n",
       "      <td>0.0</td>\n",
       "      <td>0.0</td>\n",
       "      <td>0.0</td>\n",
       "      <td>0.0</td>\n",
       "      <td>0.0</td>\n",
       "      <td>0.0</td>\n",
       "    </tr>\n",
       "    <tr>\n",
       "      <th>2</th>\n",
       "      <td>1.000000</td>\n",
       "      <td>0.659459</td>\n",
       "      <td>0.186486</td>\n",
       "      <td>0.070270</td>\n",
       "      <td>0.070270</td>\n",
       "      <td>0.059459</td>\n",
       "      <td>0.056757</td>\n",
       "      <td>0.043243</td>\n",
       "      <td>0.054054</td>\n",
       "      <td>0.045946</td>\n",
       "      <td>...</td>\n",
       "      <td>0.0</td>\n",
       "      <td>0.0</td>\n",
       "      <td>0.0</td>\n",
       "      <td>0.0</td>\n",
       "      <td>0.0</td>\n",
       "      <td>0.0</td>\n",
       "      <td>0.0</td>\n",
       "      <td>0.0</td>\n",
       "      <td>0.0</td>\n",
       "      <td>0.0</td>\n",
       "    </tr>\n",
       "    <tr>\n",
       "      <th>3</th>\n",
       "      <td>0.925414</td>\n",
       "      <td>0.665746</td>\n",
       "      <td>0.541436</td>\n",
       "      <td>0.276243</td>\n",
       "      <td>0.196133</td>\n",
       "      <td>0.077348</td>\n",
       "      <td>0.071823</td>\n",
       "      <td>0.060773</td>\n",
       "      <td>0.066298</td>\n",
       "      <td>0.058011</td>\n",
       "      <td>...</td>\n",
       "      <td>0.0</td>\n",
       "      <td>0.0</td>\n",
       "      <td>0.0</td>\n",
       "      <td>0.0</td>\n",
       "      <td>0.0</td>\n",
       "      <td>0.0</td>\n",
       "      <td>0.0</td>\n",
       "      <td>0.0</td>\n",
       "      <td>0.0</td>\n",
       "      <td>0.0</td>\n",
       "    </tr>\n",
       "    <tr>\n",
       "      <th>4</th>\n",
       "      <td>0.967136</td>\n",
       "      <td>1.000000</td>\n",
       "      <td>0.830986</td>\n",
       "      <td>0.586854</td>\n",
       "      <td>0.356808</td>\n",
       "      <td>0.248826</td>\n",
       "      <td>0.145540</td>\n",
       "      <td>0.089202</td>\n",
       "      <td>0.117371</td>\n",
       "      <td>0.150235</td>\n",
       "      <td>...</td>\n",
       "      <td>0.0</td>\n",
       "      <td>0.0</td>\n",
       "      <td>0.0</td>\n",
       "      <td>0.0</td>\n",
       "      <td>0.0</td>\n",
       "      <td>0.0</td>\n",
       "      <td>0.0</td>\n",
       "      <td>0.0</td>\n",
       "      <td>0.0</td>\n",
       "      <td>0.0</td>\n",
       "    </tr>\n",
       "  </tbody>\n",
       "</table>\n",
       "<p>5 rows × 188 columns</p>\n",
       "</div>"
      ],
      "text/plain": [
       "        0         1         2         3         4         5         6    \\\n",
       "0  0.977941  0.926471  0.681373  0.245098  0.154412  0.191176  0.151961   \n",
       "1  0.960114  0.863248  0.461538  0.196581  0.094017  0.125356  0.099715   \n",
       "2  1.000000  0.659459  0.186486  0.070270  0.070270  0.059459  0.056757   \n",
       "3  0.925414  0.665746  0.541436  0.276243  0.196133  0.077348  0.071823   \n",
       "4  0.967136  1.000000  0.830986  0.586854  0.356808  0.248826  0.145540   \n",
       "\n",
       "        7         8         9    ...  178  179  180  181  182  183  184  185  \\\n",
       "0  0.085784  0.058824  0.049020  ...  0.0  0.0  0.0  0.0  0.0  0.0  0.0  0.0   \n",
       "1  0.088319  0.074074  0.082621  ...  0.0  0.0  0.0  0.0  0.0  0.0  0.0  0.0   \n",
       "2  0.043243  0.054054  0.045946  ...  0.0  0.0  0.0  0.0  0.0  0.0  0.0  0.0   \n",
       "3  0.060773  0.066298  0.058011  ...  0.0  0.0  0.0  0.0  0.0  0.0  0.0  0.0   \n",
       "4  0.089202  0.117371  0.150235  ...  0.0  0.0  0.0  0.0  0.0  0.0  0.0  0.0   \n",
       "\n",
       "   186  187  \n",
       "0  0.0  0.0  \n",
       "1  0.0  0.0  \n",
       "2  0.0  0.0  \n",
       "3  0.0  0.0  \n",
       "4  0.0  0.0  \n",
       "\n",
       "[5 rows x 188 columns]"
      ]
     },
     "execution_count": 3,
     "metadata": {},
     "output_type": "execute_result"
    }
   ],
   "source": [
    "train_pd = pd.read_csv(\"/home/hanaesori/workspace/jupyter_notebook/Neural_Network/csv/mitbih_train.csv\", header=None)\n",
    "train_pd.head()"
   ]
  },
  {
   "cell_type": "code",
   "execution_count": 4,
   "id": "c9eb95d1-e849-4c9a-9861-4a5b2e063914",
   "metadata": {},
   "outputs": [
    {
     "name": "stdout",
     "output_type": "stream",
     "text": [
      "Data Set(Sample, Features) : 87554 187\n",
      "Number of Categories : 5\n",
      "Classes[Normal = 0, Supra-ventricular = 1, Ventricular escape = 2, Fusion of ventricular = 3, Unclassifiable = 4] :\n",
      "Label 0 count: 72471\n",
      "Label 1 count: 2223\n",
      "Label 2 count: 5788\n",
      "Label 3 count: 641\n",
      "Label 4 count: 6431\n"
     ]
    }
   ],
   "source": [
    "train_np = train_pd.to_numpy()\n",
    "train_data = torch.utils.data.TensorDataset(torch.from_numpy(train_np[:, :-1]).float(), torch.from_numpy(train_np[:, -1]).long(),)\n",
    "train_loader = DataLoader(train_data, batch_size=1000, shuffle=True)\n",
    "\n",
    "X_train = train_data.tensors[0]\n",
    "Y_train = train_data.tensors[1]\n",
    "\n",
    "print('Data Set(Sample, Features) :', len(train_data), X_train.shape[1]) #=> X shape : (87553, 187)\n",
    "print('Number of Categories :', len(Y_train.unique()))\n",
    "print('Classes[Normal = 0, Supra-ventricular = 1, Ventricular escape = 2, Fusion of ventricular = 3, Unclassifiable = 4] :')\n",
    "for i in range(len(Y_train.unique())):\n",
    "    print(f'Label {Y_train.unique()[i].item()} count: {torch.sum(Y_train == Y_train.unique()[i])}')"
   ]
  },
  {
   "cell_type": "code",
   "execution_count": 5,
   "id": "9d047c52-16cf-4d9e-b7d6-6f3be7e1e947",
   "metadata": {},
   "outputs": [],
   "source": [
    "val_split_factor = 0.2\n",
    "batch_size = 100\n",
    "\n",
    "train_len = train_np.shape[0]\n",
    "val_len = int(train_len * val_split_factor)\n",
    "train_len -= val_len\n",
    "\n",
    "train_data, val_data = torch.utils.data.random_split(train_data, [train_len, val_len])\n",
    "val_loader = DataLoader(val_data, batch_size=batch_size, shuffle=True)"
   ]
  },
  {
   "cell_type": "markdown",
   "id": "cd4fad2d-7134-4f17-8c73-5d5c6474e459",
   "metadata": {},
   "source": [
    "x_train, x_test, y_train, y_test = train_test_split(X,Y,test_size=0.2,random_state=7, stratify=Y)\n",
    "print('Train shape :',x_train.shape) #=> Train shape : (3998, 140)\n",
    "print('Test shape :',x_test.shape) #=> Test shape : (1000, 140)"
   ]
  },
  {
   "cell_type": "code",
   "execution_count": 6,
   "id": "41b8e208-41cf-4e6b-a2ee-a96064bf2740",
   "metadata": {},
   "outputs": [
    {
     "data": {
      "image/png": "[encoded data removed]",
      "text/plain": [
       "<Figure size 900x600 with 6 Axes>"
      ]
     },
     "metadata": {},
     "output_type": "display_data"
    }
   ],
   "source": [
    "normal_X_train = X_train[Y_train == 0]\n",
    "\n",
    "fig, ax = plt.subplots(ncols=3, nrows=2, figsize=(9,6))\n",
    "fig.suptitle(\"Normal ECG\")\n",
    "ax = ax.ravel()\n",
    "for idx, ax in enumerate(ax):\n",
    "    ax.grid()\n",
    "    ax.plot(np.arange(len(normal_X_train[idx])), normal_X_train[idx])\n",
    "plt.show()"
   ]
  },
  {
   "cell_type": "code",
   "execution_count": 7,
   "id": "e3618b08-48fd-4087-a087-42b8d912bdf5",
   "metadata": {},
   "outputs": [
    {
     "data": {
      "image/png": "[encoded data removed]",
      "text/plain": [
       "<Figure size 900x600 with 6 Axes>"
      ]
     },
     "metadata": {},
     "output_type": "display_data"
    }
   ],
   "source": [
    "anomalous_X_train = X_train[Y_train!=0]\n",
    "\n",
    "fig, ax = plt.subplots(ncols=3, nrows=2, figsize=(9,6))\n",
    "fig.suptitle(\"Anomalous ECG\")\n",
    "ax = ax.ravel()\n",
    "for idx, ax in enumerate(ax):\n",
    "    ax.grid()\n",
    "    ax.plot(np.arange(len(anomalous_X_train[idx])), anomalous_X_train[idx])\n",
    "plt.show()"
   ]
  },
  {
   "cell_type": "markdown",
   "id": "79c013fc-0b15-4896-840e-69780e07be62",
   "metadata": {},
   "source": [
    "# 1D-CNN Modeling"
   ]
  },
  {
   "cell_type": "code",
   "execution_count": 8,
   "id": "e52f4e4d-9c99-4fd8-a9f9-9e578c02a8a3",
   "metadata": {},
   "outputs": [],
   "source": [
    "class ConvNet1D(nn.Module):\n",
    "    def __init__(self, num_of_class):\n",
    "        super(ConvNet1D, self).__init__()\n",
    "        self.layer1 = nn.Sequential(\n",
    "            nn.Conv1d(1, 4, kernel_size=3, stride=1, padding=1),\n",
    "            nn.MaxPool1d(2)\n",
    "        )\n",
    "        self.layer2 = nn.Sequential(\n",
    "            nn.Conv1d(4, 8, kernel_size=3, stride=1, padding=1),\n",
    "            nn.MaxPool1d(2)\n",
    "        )\n",
    "        self.layer3 = nn.Sequential(\n",
    "            nn.Conv1d(8, 16, kernel_size=3, stride=1, padding=1),\n",
    "            nn.MaxPool1d(2)\n",
    "        )\n",
    "        self.fc = nn.Sequential(\n",
    "            nn.Linear(368,60),\n",
    "            nn.LeakyReLU(inplace=True),\n",
    "            nn.Linear(60, num_of_class),\n",
    "        )\n",
    "\n",
    "    def forward(self,x):\n",
    "        if x.dim() == 2:  # [batch_size, length]\n",
    "            x = x.unsqueeze(1)\n",
    "        x = self.layer1(x)\n",
    "        x = self.layer2(x)\n",
    "        x = self.layer3(x)\n",
    "        # print(x.shape)\n",
    "        x = x.view(x.size(0), -1)\n",
    "        #x [b, 2944]\n",
    "        # print(x.shape)\n",
    "        x = self.fc(x)\n",
    "\n",
    "        return x"
   ]
  },
  {
   "cell_type": "markdown",
   "id": "bd142f0d-fb84-4031-a9c9-979e25e0df9c",
   "metadata": {},
   "source": [
    "class ConvNet1D(nn.Module):\n",
    "    def __init__(self):\n",
    "        super(ConvNet1D, self).__init__()\n",
    "        self.layer1 = nn.Sequential(\n",
    "            nn.Conv1d(1, 36, kernel_size=5, stride=1, padding=2),\n",
    "            nn.BatchNorm1d(36),\n",
    "            nn.ReLU(),\n",
    "            nn.MaxPool1d(kernel_size=5, stride=2, padding=0)\n",
    "        )\n",
    "        self.layer2 = nn.Sequential(\n",
    "            nn.Conv1d(36, 48, kernel_size=5, stride=1, padding=2),\n",
    "            nn.BatchNorm1d(48),\n",
    "            nn.ReLU(),\n",
    "            nn.MaxPool1d(kernel_size=5, stride=2, padding=0)\n",
    "        )\n",
    "        self.layer3 = nn.Sequential(\n",
    "            nn.Conv1d(48, 64, kernel_size=5, stride=1, padding=2),\n",
    "            nn.BatchNorm1d(64),\n",
    "            nn.ReLU(),\n",
    "            nn.MaxPool1d(kernel_size=5, stride=2, padding=0)\n",
    "        )\n",
    "        self.fc = nn.Sequential(\n",
    "            nn.Dropout(p=0.5),\n",
    "            nn.Linear(1280, 128),\n",
    "            nn.BatchNorm1d(128),\n",
    "            nn.ReLU(),\n",
    "            nn.Dropout(p=0.5),\n",
    "            nn.Linear(128, 64),\n",
    "            nn.BatchNorm1d(64),\n",
    "            nn.ReLU(),\n",
    "            nn.Dropout(p=0.5),\n",
    "            nn.Linear(64, 5)\n",
    "        )\n",
    "\n",
    "    def forward(self, x):\n",
    "        x = self.layer1(x)\n",
    "        x = self.layer2(x)\n",
    "        x = self.layer3(x)\n",
    "        x = x.view(x.size(0), -1)\n",
    "        x = self.fc(x)\n",
    "        return x"
   ]
  },
  {
   "cell_type": "markdown",
   "id": "e6abf411-9bc1-4c90-90a3-c79c27449aa1",
   "metadata": {},
   "source": [
    "# define the model using pytorch\n",
    "class ConvNet1D(nn.Module):\n",
    "    def __init__(self, conv_dim):\n",
    "        super(ConvNet1D, self).__init__()\n",
    "        \n",
    "        self.layer1 = nn.Sequential(\n",
    "            nn.Conv1d(in_channels=3,\n",
    "                      out_channels=conv_dim,\n",
    "                      kernel_size=4,\n",
    "                      stride=1,\n",
    "                      padding=0,\n",
    "                      dilation=1,\n",
    "                      groups=1,\n",
    "                      bias=True,\n",
    "                      padding_mode='zeros'), \n",
    "            nn.BatchNorm1d(num_features, \n",
    "                           eps=1e-05, \n",
    "                           momentum=0.1, \n",
    "                           affine=True, \n",
    "                           track_running_stats=True), \n",
    "            nn.ReLU(inplace=False), \n",
    "            nn.MaxPool1d(kernel_size=2, \n",
    "                         stride=2, \n",
    "                         padding=0,\n",
    "                         dilation=1,\n",
    "                         ceil_mode=False)\n",
    "        )\n",
    "            \n",
    "        self.layer2 = nn.Sequential(\n",
    "            nn.Conv1d(in_channels=3,\n",
    "                      out_channels=conv_dim,\n",
    "                      kernel_size=4,\n",
    "                      stride=1,\n",
    "                      padding=0,\n",
    "                      dilation=1,\n",
    "                      groups=1,\n",
    "                      bias=True,\n",
    "                      padding_mode='zeros'), \n",
    "            nn.BatchNorm1d(num_features, \n",
    "                           eps=1e-05, \n",
    "                           momentum=0.1, \n",
    "                           affine=True, \n",
    "                           track_running_stats=True), \n",
    "            nn.ReLU(inplace=False), \n",
    "            nn.MaxPool1d(kernel_size=2, \n",
    "                         stride=2, \n",
    "                         padding=0,\n",
    "                         dilation=1,\n",
    "                         ceil_mode=False)\n",
    "        )\n",
    "            \n",
    "        self.layer3 = nn.Sequential(\n",
    "            nn.Conv1d(in_channels=3,\n",
    "                      out_channels=conv_dim,\n",
    "                      kernel_size=4,\n",
    "                      stride=1,\n",
    "                      padding=0,\n",
    "                      dilation=1,\n",
    "                      groups=1,\n",
    "                      bias=True,\n",
    "                      padding_mode='zeros'), \n",
    "            nn.BatchNorm1d(num_features, \n",
    "                           eps=1e-05, \n",
    "                           momentum=0.1, \n",
    "                           affine=True, \n",
    "                           track_running_stats=True), \n",
    "            nn.ReLU(inplace=False), \n",
    "            nn.MaxPool1d(kernel_size=2, \n",
    "                         stride=2, \n",
    "                         padding=0,\n",
    "                         dilation=1,\n",
    "                         ceil_mode=False)\n",
    "        )\n",
    "            \n",
    "        self.fc = nn.Sequential(\n",
    "            nn.Dropout(p=drop_prob), \n",
    "            nn.Linear(in_features=10,\n",
    "                      out_features=20,\n",
    "                      bias=True), \n",
    "            nn.BatchNorm1d(num_features, \n",
    "                           eps=1e-05, \n",
    "                           momentum=0.1, \n",
    "                           affine=True, \n",
    "                           track_running_stats=True), \n",
    "            nn.ReLU(inplace=False), \n",
    "            nn.Dropout(p=drop_prob), \n",
    "            nn.Linear(in_features=10,\n",
    "                      out_features=20,\n",
    "                      bias=True), \n",
    "            nn.BatchNorm1d(num_features, \n",
    "                           eps=1e-05, \n",
    "                           momentum=0.1, \n",
    "                           affine=True, \n",
    "                           track_running_stats=True), \n",
    "            nn.ReLU(inplace=False), \n",
    "            nn.Dropout(p=drop_prob), \n",
    "            nn.Linear(in_features=10,\n",
    "                      out_features=20,\n",
    "                      bias=True)\n",
    "        )\n",
    "\n",
    "    def forward(self, x):\n",
    "        x = F.relu(self.layer1(x))\n",
    "        x = F.relu(self.layer2(x))\n",
    "        x = F.relu(self.layer3(x))\n",
    "            \n",
    "        # Flatten\n",
    "        x = x.view(-1, self.conv_dim*4*4*4)\n",
    "        out = self.fc(x)\n",
    "            \n",
    "        return out "
   ]
  },
  {
   "cell_type": "code",
   "execution_count": 9,
   "id": "d87a5515-305b-4e9f-b66d-6076769aadcf",
   "metadata": {},
   "outputs": [],
   "source": [
    "def evalute(model, loader, crit):\n",
    "    model.eval()\n",
    "\n",
    "    correct = 0\n",
    "    total = len(loader.dataset)\n",
    "    val_bar = tqdm(loader, file=sys.stdout)\n",
    "    cur_loss=[]\n",
    "    for x, y in val_bar:\n",
    "        x, y = x.to(device), y.to(device)\n",
    "        with torch.no_grad():\n",
    "            logits = model(x)\n",
    "            pred = logits.argmax(dim=1)\n",
    "            cur_loss.append(crit(logits, y))\n",
    "        correct += torch.eq(pred, y).sum().float().item()\n",
    "\n",
    "    return correct / total, sum(cur_loss)/len(cur_loss)"
   ]
  },
  {
   "cell_type": "code",
   "execution_count": 10,
   "id": "50696687-2589-4c91-b1a3-0822d336597e",
   "metadata": {},
   "outputs": [],
   "source": [
    "model = ConvNet1D(len(Y_train.unique())).to(device)\n",
    "compiled_model = torch.compile(model).cuda"
   ]
  },
  {
   "cell_type": "markdown",
   "id": "98d93c87-56d8-4d35-8319-56034492a31e",
   "metadata": {},
   "source": [
    "# Model Learning"
   ]
  },
  {
   "cell_type": "code",
   "execution_count": 11,
   "id": "07aeff61-9702-48a5-8e46-9639b4ee759f",
   "metadata": {},
   "outputs": [],
   "source": [
    "batch_size = 100\n",
    "lr = 3e-3\n",
    "epochs = 70\n",
    "torch.manual_seed(1234)\n",
    "optimizer = optim.Adam(model.parameters(), lr=lr)\n",
    "criterion = nn.CrossEntropyLoss()"
   ]
  },
  {
   "cell_type": "code",
   "execution_count": 12,
   "id": "482dd0ad-e110-475f-9c91-29b5a9553a07",
   "metadata": {},
   "outputs": [
    {
     "data": {
      "application/vnd.jupyter.widget-view+json": {
       "model_id": "158343ba5d224754a27a3877ee534df5",
       "version_major": 2,
       "version_minor": 0
      },
      "text/plain": [
       "  0%|          | 0/88 [00:00<?, ?it/s]"
      ]
     },
     "metadata": {},
     "output_type": "display_data"
    },
    {
     "name": "stdout",
     "output_type": "stream",
     "text": [
      "Train Acc: 0.8441190579528063\n"
     ]
    },
    {
     "data": {
      "application/vnd.jupyter.widget-view+json": {
       "model_id": "c4d0946640b543f3aed8eb9d844d8993",
       "version_major": 2,
       "version_minor": 0
      },
      "text/plain": [
       "  0%|          | 0/176 [00:00<?, ?it/s]"
      ]
     },
     "metadata": {},
     "output_type": "display_data"
    },
    {
     "name": "stdout",
     "output_type": "stream",
     "text": [
      "val_acc =  0.8897201599086236\n"
     ]
    },
    {
     "data": {
      "application/vnd.jupyter.widget-view+json": {
       "model_id": "afa7c9c858364663aff4419539ec821d",
       "version_major": 2,
       "version_minor": 0
      },
      "text/plain": [
       "  0%|          | 0/88 [00:00<?, ?it/s]"
      ]
     },
     "metadata": {},
     "output_type": "display_data"
    },
    {
     "name": "stdout",
     "output_type": "stream",
     "text": [
      "Train Acc: 0.916325924572264\n"
     ]
    },
    {
     "data": {
      "application/vnd.jupyter.widget-view+json": {
       "model_id": "9b8ae80e70824adeb680b6ab640fd54b",
       "version_major": 2,
       "version_minor": 0
      },
      "text/plain": [
       "  0%|          | 0/176 [00:00<?, ?it/s]"
      ]
     },
     "metadata": {},
     "output_type": "display_data"
    },
    {
     "name": "stdout",
     "output_type": "stream",
     "text": [
      "val_acc =  0.9350085665334095\n"
     ]
    },
    {
     "data": {
      "application/vnd.jupyter.widget-view+json": {
       "model_id": "058c2209d99e4429b26dc8d9dfdc2c9f",
       "version_major": 2,
       "version_minor": 0
      },
      "text/plain": [
       "  0%|          | 0/88 [00:00<?, ?it/s]"
      ]
     },
     "metadata": {},
     "output_type": "display_data"
    },
    {
     "name": "stdout",
     "output_type": "stream",
     "text": [
      "Train Acc: 0.9464559015007881\n"
     ]
    },
    {
     "data": {
      "application/vnd.jupyter.widget-view+json": {
       "model_id": "69af8a15d7cf4a06842ad934afeb387a",
       "version_major": 2,
       "version_minor": 0
      },
      "text/plain": [
       "  0%|          | 0/176 [00:00<?, ?it/s]"
      ]
     },
     "metadata": {},
     "output_type": "display_data"
    },
    {
     "name": "stdout",
     "output_type": "stream",
     "text": [
      "val_acc =  0.9537978298115363\n"
     ]
    },
    {
     "data": {
      "application/vnd.jupyter.widget-view+json": {
       "model_id": "9f79f3dd733840d6a523ef44fc6c58ad",
       "version_major": 2,
       "version_minor": 0
      },
      "text/plain": [
       "  0%|          | 0/88 [00:00<?, ?it/s]"
      ]
     },
     "metadata": {},
     "output_type": "display_data"
    },
    {
     "name": "stdout",
     "output_type": "stream",
     "text": [
      "Train Acc: 0.9556502272883021\n"
     ]
    },
    {
     "data": {
      "application/vnd.jupyter.widget-view+json": {
       "model_id": "59cef9deb6be4da785796406506a4450",
       "version_major": 2,
       "version_minor": 0
      },
      "text/plain": [
       "  0%|          | 0/176 [00:00<?, ?it/s]"
      ]
     },
     "metadata": {},
     "output_type": "display_data"
    },
    {
     "name": "stdout",
     "output_type": "stream",
     "text": [
      "val_acc =  0.9575099942889778\n"
     ]
    },
    {
     "data": {
      "application/vnd.jupyter.widget-view+json": {
       "model_id": "0ea4a63d3fd643a69f7d7b88245d8a5d",
       "version_major": 2,
       "version_minor": 0
      },
      "text/plain": [
       "  0%|          | 0/88 [00:00<?, ?it/s]"
      ]
     },
     "metadata": {},
     "output_type": "display_data"
    },
    {
     "name": "stdout",
     "output_type": "stream",
     "text": [
      "Train Acc: 0.9608698631701579\n"
     ]
    },
    {
     "data": {
      "application/vnd.jupyter.widget-view+json": {
       "model_id": "81eb9ccd28ea4734aeb4c96a77368324",
       "version_major": 2,
       "version_minor": 0
      },
      "text/plain": [
       "  0%|          | 0/176 [00:00<?, ?it/s]"
      ]
     },
     "metadata": {},
     "output_type": "display_data"
    },
    {
     "name": "stdout",
     "output_type": "stream",
     "text": [
      "val_acc =  0.9623643632210166\n"
     ]
    },
    {
     "data": {
      "application/vnd.jupyter.widget-view+json": {
       "model_id": "593f358111c641aea59c9cd5116d7f9b",
       "version_major": 2,
       "version_minor": 0
      },
      "text/plain": [
       "  0%|          | 0/88 [00:00<?, ?it/s]"
      ]
     },
     "metadata": {},
     "output_type": "display_data"
    },
    {
     "name": "stdout",
     "output_type": "stream",
     "text": [
      "Train Acc: 0.9636338716677707\n"
     ]
    },
    {
     "data": {
      "application/vnd.jupyter.widget-view+json": {
       "model_id": "f8cea874d2b2459f967456251c4dd69d",
       "version_major": 2,
       "version_minor": 0
      },
      "text/plain": [
       "  0%|          | 0/176 [00:00<?, ?it/s]"
      ]
     },
     "metadata": {},
     "output_type": "display_data"
    },
    {
     "name": "stdout",
     "output_type": "stream",
     "text": [
      "val_acc =  0.9655054254711594\n"
     ]
    },
    {
     "data": {
      "application/vnd.jupyter.widget-view+json": {
       "model_id": "5b8aaa00d7d1405aa9b1c00b2bf406d4",
       "version_major": 2,
       "version_minor": 0
      },
      "text/plain": [
       "  0%|          | 0/88 [00:00<?, ?it/s]"
      ]
     },
     "metadata": {},
     "output_type": "display_data"
    },
    {
     "name": "stdout",
     "output_type": "stream",
     "text": [
      "Train Acc: 0.9678255705050597\n"
     ]
    },
    {
     "data": {
      "application/vnd.jupyter.widget-view+json": {
       "model_id": "f799e50e90f34527bb27aa28cf5a84e8",
       "version_major": 2,
       "version_minor": 0
      },
      "text/plain": [
       "  0%|          | 0/176 [00:00<?, ?it/s]"
      ]
     },
     "metadata": {},
     "output_type": "display_data"
    },
    {
     "name": "stdout",
     "output_type": "stream",
     "text": [
      "val_acc =  0.969103369503141\n"
     ]
    },
    {
     "data": {
      "application/vnd.jupyter.widget-view+json": {
       "model_id": "f9a04fa1528d4d41b7e3514f34be5108",
       "version_major": 2,
       "version_minor": 0
      },
      "text/plain": [
       "  0%|          | 0/88 [00:00<?, ?it/s]"
      ]
     },
     "metadata": {},
     "output_type": "display_data"
    },
    {
     "name": "stdout",
     "output_type": "stream",
     "text": [
      "Train Acc: 0.9702355117984329\n"
     ]
    },
    {
     "data": {
      "application/vnd.jupyter.widget-view+json": {
       "model_id": "d2623a87851e4676983a4683cd90b460",
       "version_major": 2,
       "version_minor": 0
      },
      "text/plain": [
       "  0%|          | 0/176 [00:00<?, ?it/s]"
      ]
     },
     "metadata": {},
     "output_type": "display_data"
    },
    {
     "name": "stdout",
     "output_type": "stream",
     "text": [
      "val_acc =  0.9713877784123358\n"
     ]
    },
    {
     "data": {
      "application/vnd.jupyter.widget-view+json": {
       "model_id": "03dd5745d01e48f8bb0bb6cf87869700",
       "version_major": 2,
       "version_minor": 0
      },
      "text/plain": [
       "  0%|          | 0/88 [00:00<?, ?it/s]"
      ]
     },
     "metadata": {},
     "output_type": "display_data"
    },
    {
     "name": "stdout",
     "output_type": "stream",
     "text": [
      "Train Acc: 0.9712063412294127\n"
     ]
    },
    {
     "data": {
      "application/vnd.jupyter.widget-view+json": {
       "model_id": "3a653d249e9a4ff2a27f56931292a525",
       "version_major": 2,
       "version_minor": 0
      },
      "text/plain": [
       "  0%|          | 0/176 [00:00<?, ?it/s]"
      ]
     },
     "metadata": {},
     "output_type": "display_data"
    },
    {
     "name": "stdout",
     "output_type": "stream",
     "text": [
      "val_acc =  0.9711022272986864\n"
     ]
    },
    {
     "data": {
      "application/vnd.jupyter.widget-view+json": {
       "model_id": "e0ca3b55eff146eda0e9be9aff8c5bc3",
       "version_major": 2,
       "version_minor": 0
      },
      "text/plain": [
       "  0%|          | 0/88 [00:00<?, ?it/s]"
      ]
     },
     "metadata": {},
     "output_type": "display_data"
    },
    {
     "name": "stdout",
     "output_type": "stream",
     "text": [
      "Train Acc: 0.9733193229321333\n"
     ]
    },
    {
     "data": {
      "application/vnd.jupyter.widget-view+json": {
       "model_id": "bc25256646aa4647ab3cf126c2abb238",
       "version_major": 2,
       "version_minor": 0
      },
      "text/plain": [
       "  0%|          | 0/176 [00:00<?, ?it/s]"
      ]
     },
     "metadata": {},
     "output_type": "display_data"
    },
    {
     "name": "stdout",
     "output_type": "stream",
     "text": [
      "val_acc =  0.9743575099942889\n"
     ]
    },
    {
     "data": {
      "application/vnd.jupyter.widget-view+json": {
       "model_id": "d21e482f5c9b450f834ea0425d6fc2d5",
       "version_major": 2,
       "version_minor": 0
      },
      "text/plain": [
       "  0%|          | 0/88 [00:00<?, ?it/s]"
      ]
     },
     "metadata": {},
     "output_type": "display_data"
    },
    {
     "name": "stdout",
     "output_type": "stream",
     "text": [
      "Train Acc: 0.974541425862896\n"
     ]
    },
    {
     "data": {
      "application/vnd.jupyter.widget-view+json": {
       "model_id": "b1b621a3829a4876b32e330711964097",
       "version_major": 2,
       "version_minor": 0
      },
      "text/plain": [
       "  0%|          | 0/176 [00:00<?, ?it/s]"
      ]
     },
     "metadata": {},
     "output_type": "display_data"
    },
    {
     "name": "stdout",
     "output_type": "stream",
     "text": [
      "val_acc =  0.9764705882352941\n"
     ]
    },
    {
     "data": {
      "application/vnd.jupyter.widget-view+json": {
       "model_id": "57ed03d5543c4ecb9625960d9e353663",
       "version_major": 2,
       "version_minor": 0
      },
      "text/plain": [
       "  0%|          | 0/88 [00:00<?, ?it/s]"
      ]
     },
     "metadata": {},
     "output_type": "display_data"
    },
    {
     "name": "stdout",
     "output_type": "stream",
     "text": [
      "Train Acc: 0.9757406857482239\n"
     ]
    },
    {
     "data": {
      "application/vnd.jupyter.widget-view+json": {
       "model_id": "ca8534a166c446a79010fa75e4f73f24",
       "version_major": 2,
       "version_minor": 0
      },
      "text/plain": [
       "  0%|          | 0/176 [00:00<?, ?it/s]"
      ]
     },
     "metadata": {},
     "output_type": "display_data"
    },
    {
     "name": "stdout",
     "output_type": "stream",
     "text": [
      "val_acc =  0.9777841233580811\n"
     ]
    },
    {
     "data": {
      "application/vnd.jupyter.widget-view+json": {
       "model_id": "c2531ad4f3be4933bfc786c7db40d254",
       "version_major": 2,
       "version_minor": 0
      },
      "text/plain": [
       "  0%|          | 0/88 [00:00<?, ?it/s]"
      ]
     },
     "metadata": {},
     "output_type": "display_data"
    },
    {
     "name": "stdout",
     "output_type": "stream",
     "text": [
      "Train Acc: 0.9766658290883341\n"
     ]
    },
    {
     "data": {
      "application/vnd.jupyter.widget-view+json": {
       "model_id": "86db6e35a2f44501991074a2dd6a76bb",
       "version_major": 2,
       "version_minor": 0
      },
      "text/plain": [
       "  0%|          | 0/176 [00:00<?, ?it/s]"
      ]
     },
     "metadata": {},
     "output_type": "display_data"
    },
    {
     "name": "stdout",
     "output_type": "stream",
     "text": [
      "val_acc =  0.9756710451170759\n"
     ]
    },
    {
     "data": {
      "application/vnd.jupyter.widget-view+json": {
       "model_id": "b6670fa863ce41b1abe75bddc885dbc7",
       "version_major": 2,
       "version_minor": 0
      },
      "text/plain": [
       "  0%|          | 0/88 [00:00<?, ?it/s]"
      ]
     },
     "metadata": {},
     "output_type": "display_data"
    },
    {
     "name": "stdout",
     "output_type": "stream",
     "text": [
      "Train Acc: 0.9777737167919227\n"
     ]
    },
    {
     "data": {
      "application/vnd.jupyter.widget-view+json": {
       "model_id": "c16b26b18591498b85b701c381ebe55a",
       "version_major": 2,
       "version_minor": 0
      },
      "text/plain": [
       "  0%|          | 0/176 [00:00<?, ?it/s]"
      ]
     },
     "metadata": {},
     "output_type": "display_data"
    },
    {
     "name": "stdout",
     "output_type": "stream",
     "text": [
      "val_acc =  0.9789834380354083\n"
     ]
    },
    {
     "data": {
      "application/vnd.jupyter.widget-view+json": {
       "model_id": "1f8c48059cf94e8986e9f1c8ce08bf54",
       "version_major": 2,
       "version_minor": 0
      },
      "text/plain": [
       "  0%|          | 0/88 [00:00<?, ?it/s]"
      ]
     },
     "metadata": {},
     "output_type": "display_data"
    },
    {
     "name": "stdout",
     "output_type": "stream",
     "text": [
      "Train Acc: 0.9783562144505106\n"
     ]
    },
    {
     "data": {
      "application/vnd.jupyter.widget-view+json": {
       "model_id": "f302b4d2e6df443fbd24ee9d15d22b37",
       "version_major": 2,
       "version_minor": 0
      },
      "text/plain": [
       "  0%|          | 0/176 [00:00<?, ?it/s]"
      ]
     },
     "metadata": {},
     "output_type": "display_data"
    },
    {
     "name": "stdout",
     "output_type": "stream",
     "text": [
      "val_acc =  0.9800114220445459\n"
     ]
    },
    {
     "data": {
      "application/vnd.jupyter.widget-view+json": {
       "model_id": "45ac1c881c9349d4a94aa9a9c3693fd1",
       "version_major": 2,
       "version_minor": 0
      },
      "text/plain": [
       "  0%|          | 0/88 [00:00<?, ?it/s]"
      ]
     },
     "metadata": {},
     "output_type": "display_data"
    },
    {
     "name": "stdout",
     "output_type": "stream",
     "text": [
      "Train Acc: 0.9796125819494255\n"
     ]
    },
    {
     "data": {
      "application/vnd.jupyter.widget-view+json": {
       "model_id": "6e411064d24b4de0a027a6d3317fea31",
       "version_major": 2,
       "version_minor": 0
      },
      "text/plain": [
       "  0%|          | 0/176 [00:00<?, ?it/s]"
      ]
     },
     "metadata": {},
     "output_type": "display_data"
    },
    {
     "name": "stdout",
     "output_type": "stream",
     "text": [
      "val_acc =  0.9811536264991434\n"
     ]
    },
    {
     "data": {
      "application/vnd.jupyter.widget-view+json": {
       "model_id": "279b9757c3784ffea714dcfdb4fccbf9",
       "version_major": 2,
       "version_minor": 0
      },
      "text/plain": [
       "  0%|          | 0/88 [00:00<?, ?it/s]"
      ]
     },
     "metadata": {},
     "output_type": "display_data"
    },
    {
     "name": "stdout",
     "output_type": "stream",
     "text": [
      "Train Acc: 0.9801265504717089\n"
     ]
    },
    {
     "data": {
      "application/vnd.jupyter.widget-view+json": {
       "model_id": "3292bc8825f1464a9967f75f53cb415c",
       "version_major": 2,
       "version_minor": 0
      },
      "text/plain": [
       "  0%|          | 0/176 [00:00<?, ?it/s]"
      ]
     },
     "metadata": {},
     "output_type": "display_data"
    },
    {
     "name": "stdout",
     "output_type": "stream",
     "text": [
      "val_acc =  0.9810394060536836\n"
     ]
    },
    {
     "data": {
      "application/vnd.jupyter.widget-view+json": {
       "model_id": "d08af9157a844904951ba625bfeeb688",
       "version_major": 2,
       "version_minor": 0
      },
      "text/plain": [
       "  0%|          | 0/88 [00:00<?, ?it/s]"
      ]
     },
     "metadata": {},
     "output_type": "display_data"
    },
    {
     "name": "stdout",
     "output_type": "stream",
     "text": [
      "Train Acc: 0.9807090481302967\n"
     ]
    },
    {
     "data": {
      "application/vnd.jupyter.widget-view+json": {
       "model_id": "591f298751a647edabc81e2a1a022399",
       "version_major": 2,
       "version_minor": 0
      },
      "text/plain": [
       "  0%|          | 0/176 [00:00<?, ?it/s]"
      ]
     },
     "metadata": {},
     "output_type": "display_data"
    },
    {
     "name": "stdout",
     "output_type": "stream",
     "text": [
      "val_acc =  0.981724728726442\n"
     ]
    },
    {
     "data": {
      "application/vnd.jupyter.widget-view+json": {
       "model_id": "087ec2ec741b4cd2a73ba477aba9713b",
       "version_major": 2,
       "version_minor": 0
      },
      "text/plain": [
       "  0%|          | 0/88 [00:00<?, ?it/s]"
      ]
     },
     "metadata": {},
     "output_type": "display_data"
    },
    {
     "name": "stdout",
     "output_type": "stream",
     "text": [
      "Train Acc: 0.9815656623341024\n"
     ]
    },
    {
     "data": {
      "application/vnd.jupyter.widget-view+json": {
       "model_id": "31d1183902f943aca8413d36226e95d0",
       "version_major": 2,
       "version_minor": 0
      },
      "text/plain": [
       "  0%|          | 0/176 [00:00<?, ?it/s]"
      ]
     },
     "metadata": {},
     "output_type": "display_data"
    },
    {
     "name": "stdout",
     "output_type": "stream",
     "text": [
      "val_acc =  0.9826384922901199\n"
     ]
    },
    {
     "data": {
      "application/vnd.jupyter.widget-view+json": {
       "model_id": "fd80ed746884479bbc1a789d24f94757",
       "version_major": 2,
       "version_minor": 0
      },
      "text/plain": [
       "  0%|          | 0/88 [00:00<?, ?it/s]"
      ]
     },
     "metadata": {},
     "output_type": "display_data"
    },
    {
     "name": "stdout",
     "output_type": "stream",
     "text": [
      "Train Acc: 0.9817369851748635\n"
     ]
    },
    {
     "data": {
      "application/vnd.jupyter.widget-view+json": {
       "model_id": "144a67f9e6a1449bb267b4e9e2b4ee59",
       "version_major": 2,
       "version_minor": 0
      },
      "text/plain": [
       "  0%|          | 0/176 [00:00<?, ?it/s]"
      ]
     },
     "metadata": {},
     "output_type": "display_data"
    },
    {
     "name": "stdout",
     "output_type": "stream",
     "text": [
      "val_acc =  0.9841233580810965\n"
     ]
    },
    {
     "data": {
      "application/vnd.jupyter.widget-view+json": {
       "model_id": "f09702246a1f40c28a2d5a12e9d304f1",
       "version_major": 2,
       "version_minor": 0
      },
      "text/plain": [
       "  0%|          | 0/88 [00:00<?, ?it/s]"
      ]
     },
     "metadata": {},
     "output_type": "display_data"
    },
    {
     "name": "stdout",
     "output_type": "stream",
     "text": [
      "Train Acc: 0.9822052676062772\n"
     ]
    },
    {
     "data": {
      "application/vnd.jupyter.widget-view+json": {
       "model_id": "b27f157abb204d0d8eb04456cc1546ce",
       "version_major": 2,
       "version_minor": 0
      },
      "text/plain": [
       "  0%|          | 0/176 [00:00<?, ?it/s]"
      ]
     },
     "metadata": {},
     "output_type": "display_data"
    },
    {
     "name": "stdout",
     "output_type": "stream",
     "text": [
      "val_acc =  0.9840662478583666\n"
     ]
    },
    {
     "data": {
      "application/vnd.jupyter.widget-view+json": {
       "model_id": "5c55f38c9bb144cf9dd9af38097ad28f",
       "version_major": 2,
       "version_minor": 0
      },
      "text/plain": [
       "  0%|          | 0/88 [00:00<?, ?it/s]"
      ]
     },
     "metadata": {},
     "output_type": "display_data"
    },
    {
     "name": "stdout",
     "output_type": "stream",
     "text": [
      "Train Acc: 0.9832103616054092\n"
     ]
    },
    {
     "data": {
      "application/vnd.jupyter.widget-view+json": {
       "model_id": "2ee9ea8579bf4773a2364dbc00682477",
       "version_major": 2,
       "version_minor": 0
      },
      "text/plain": [
       "  0%|          | 0/176 [00:00<?, ?it/s]"
      ]
     },
     "metadata": {},
     "output_type": "display_data"
    },
    {
     "name": "stdout",
     "output_type": "stream",
     "text": [
      "val_acc =  0.9840091376356368\n"
     ]
    },
    {
     "data": {
      "application/vnd.jupyter.widget-view+json": {
       "model_id": "23d8c6e083e74fcda56f6cc407b6a726",
       "version_major": 2,
       "version_minor": 0
      },
      "text/plain": [
       "  0%|          | 0/88 [00:00<?, ?it/s]"
      ]
     },
     "metadata": {},
     "output_type": "display_data"
    },
    {
     "name": "stdout",
     "output_type": "stream",
     "text": [
      "Train Acc: 0.9834387920597574\n"
     ]
    },
    {
     "data": {
      "application/vnd.jupyter.widget-view+json": {
       "model_id": "e001d52b050f41faa7ae2dfb9c5110a6",
       "version_major": 2,
       "version_minor": 0
      },
      "text/plain": [
       "  0%|          | 0/176 [00:00<?, ?it/s]"
      ]
     },
     "metadata": {},
     "output_type": "display_data"
    },
    {
     "name": "stdout",
     "output_type": "stream",
     "text": [
      "val_acc =  0.9840091376356368\n"
     ]
    },
    {
     "data": {
      "application/vnd.jupyter.widget-view+json": {
       "model_id": "3c406c0df9c547eeb0b4dede737ee320",
       "version_major": 2,
       "version_minor": 0
      },
      "text/plain": [
       "  0%|          | 0/88 [00:00<?, ?it/s]"
      ]
     },
     "metadata": {},
     "output_type": "display_data"
    },
    {
     "name": "stdout",
     "output_type": "stream",
     "text": [
      "Train Acc: 0.9838956529684537\n"
     ]
    },
    {
     "data": {
      "application/vnd.jupyter.widget-view+json": {
       "model_id": "a552c4e43a304b51abb4ba03714eaa2b",
       "version_major": 2,
       "version_minor": 0
      },
      "text/plain": [
       "  0%|          | 0/176 [00:00<?, ?it/s]"
      ]
     },
     "metadata": {},
     "output_type": "display_data"
    },
    {
     "name": "stdout",
     "output_type": "stream",
     "text": [
      "val_acc =  0.9859508852084523\n"
     ]
    },
    {
     "data": {
      "application/vnd.jupyter.widget-view+json": {
       "model_id": "4dde1b426618418684b858f2d5c915fa",
       "version_major": 2,
       "version_minor": 0
      },
      "text/plain": [
       "  0%|          | 0/88 [00:00<?, ?it/s]"
      ]
     },
     "metadata": {},
     "output_type": "display_data"
    },
    {
     "name": "stdout",
     "output_type": "stream",
     "text": [
      "Train Acc: 0.9848093747858464\n"
     ]
    },
    {
     "data": {
      "application/vnd.jupyter.widget-view+json": {
       "model_id": "a8aa4c2fe7834976850ecc4587dba070",
       "version_major": 2,
       "version_minor": 0
      },
      "text/plain": [
       "  0%|          | 0/176 [00:00<?, ?it/s]"
      ]
     },
     "metadata": {},
     "output_type": "display_data"
    },
    {
     "name": "stdout",
     "output_type": "stream",
     "text": [
      "val_acc =  0.9865790976584808\n"
     ]
    },
    {
     "data": {
      "application/vnd.jupyter.widget-view+json": {
       "model_id": "f43361fc5aed4772bd3deda0acf3e8ed",
       "version_major": 2,
       "version_minor": 0
      },
      "text/plain": [
       "  0%|          | 0/88 [00:00<?, ?it/s]"
      ]
     },
     "metadata": {},
     "output_type": "display_data"
    },
    {
     "name": "stdout",
     "output_type": "stream",
     "text": [
      "Train Acc: 0.9850378052401946\n"
     ]
    },
    {
     "data": {
      "application/vnd.jupyter.widget-view+json": {
       "model_id": "8380599fea46454d9490ea96caacf98b",
       "version_major": 2,
       "version_minor": 0
      },
      "text/plain": [
       "  0%|          | 0/176 [00:00<?, ?it/s]"
      ]
     },
     "metadata": {},
     "output_type": "display_data"
    },
    {
     "name": "stdout",
     "output_type": "stream",
     "text": [
      "val_acc =  0.9864648772130211\n"
     ]
    },
    {
     "data": {
      "application/vnd.jupyter.widget-view+json": {
       "model_id": "d0545aac4cde4ddebfe45391be3462be",
       "version_major": 2,
       "version_minor": 0
      },
      "text/plain": [
       "  0%|          | 0/88 [00:00<?, ?it/s]"
      ]
     },
     "metadata": {},
     "output_type": "display_data"
    },
    {
     "name": "stdout",
     "output_type": "stream",
     "text": [
      "Train Acc: 0.985243392649108\n"
     ]
    },
    {
     "data": {
      "application/vnd.jupyter.widget-view+json": {
       "model_id": "d4e90755c42a4c7e9dd00a308bb84501",
       "version_major": 2,
       "version_minor": 0
      },
      "text/plain": [
       "  0%|          | 0/176 [00:00<?, ?it/s]"
      ]
     },
     "metadata": {},
     "output_type": "display_data"
    },
    {
     "name": "stdout",
     "output_type": "stream",
     "text": [
      "val_acc =  0.9845802398629354\n"
     ]
    },
    {
     "data": {
      "application/vnd.jupyter.widget-view+json": {
       "model_id": "6cc08dd0660f49cb907c1a38d501f7a5",
       "version_major": 2,
       "version_minor": 0
      },
      "text/plain": [
       "  0%|          | 0/88 [00:00<?, ?it/s]"
      ]
     },
     "metadata": {},
     "output_type": "display_data"
    },
    {
     "name": "stdout",
     "output_type": "stream",
     "text": [
      "Train Acc: 0.9860200561938918\n"
     ]
    },
    {
     "data": {
      "application/vnd.jupyter.widget-view+json": {
       "model_id": "2497abe3b0014487946b7d87800d9dc9",
       "version_major": 2,
       "version_minor": 0
      },
      "text/plain": [
       "  0%|          | 0/176 [00:00<?, ?it/s]"
      ]
     },
     "metadata": {},
     "output_type": "display_data"
    },
    {
     "name": "stdout",
     "output_type": "stream",
     "text": [
      "val_acc =  0.9876641918903484\n"
     ]
    },
    {
     "data": {
      "application/vnd.jupyter.widget-view+json": {
       "model_id": "f6e5887f84ae4ec58e5fde795a249588",
       "version_major": 2,
       "version_minor": 0
      },
      "text/plain": [
       "  0%|          | 0/88 [00:00<?, ?it/s]"
      ]
     },
     "metadata": {},
     "output_type": "display_data"
    },
    {
     "name": "stdout",
     "output_type": "stream",
     "text": [
      "Train Acc: 0.985803047262261\n"
     ]
    },
    {
     "data": {
      "application/vnd.jupyter.widget-view+json": {
       "model_id": "74bfd22a0e9c4818817e86c9bcefe395",
       "version_major": 2,
       "version_minor": 0
      },
      "text/plain": [
       "  0%|          | 0/176 [00:00<?, ?it/s]"
      ]
     },
     "metadata": {},
     "output_type": "display_data"
    },
    {
     "name": "stdout",
     "output_type": "stream",
     "text": [
      "val_acc =  0.986122215876642\n"
     ]
    },
    {
     "data": {
      "application/vnd.jupyter.widget-view+json": {
       "model_id": "9747fbf221964fa6ab88a60ca21ba1cb",
       "version_major": 2,
       "version_minor": 0
      },
      "text/plain": [
       "  0%|          | 0/88 [00:00<?, ?it/s]"
      ]
     },
     "metadata": {},
     "output_type": "display_data"
    },
    {
     "name": "stdout",
     "output_type": "stream",
     "text": [
      "Train Acc: 0.9862256436028052\n"
     ]
    },
    {
     "data": {
      "application/vnd.jupyter.widget-view+json": {
       "model_id": "81043c5a13cf4643adc04baeaa851038",
       "version_major": 2,
       "version_minor": 0
      },
      "text/plain": [
       "  0%|          | 0/176 [00:00<?, ?it/s]"
      ]
     },
     "metadata": {},
     "output_type": "display_data"
    },
    {
     "name": "stdout",
     "output_type": "stream",
     "text": [
      "val_acc =  0.9871501998857796\n"
     ]
    },
    {
     "data": {
      "application/vnd.jupyter.widget-view+json": {
       "model_id": "0a50a7dc7f1644c78456d6609d4e4201",
       "version_major": 2,
       "version_minor": 0
      },
      "text/plain": [
       "  0%|          | 0/88 [00:00<?, ?it/s]"
      ]
     },
     "metadata": {},
     "output_type": "display_data"
    },
    {
     "name": "stdout",
     "output_type": "stream",
     "text": [
      "Train Acc: 0.9861000068529137\n"
     ]
    },
    {
     "data": {
      "application/vnd.jupyter.widget-view+json": {
       "model_id": "1b535ec78b964b59a560920a66935d3c",
       "version_major": 2,
       "version_minor": 0
      },
      "text/plain": [
       "  0%|          | 0/176 [00:00<?, ?it/s]"
      ]
     },
     "metadata": {},
     "output_type": "display_data"
    },
    {
     "name": "stdout",
     "output_type": "stream",
     "text": [
      "val_acc =  0.9877213021130783\n"
     ]
    },
    {
     "data": {
      "application/vnd.jupyter.widget-view+json": {
       "model_id": "100b8cc3b82e409eb59a0353c0cd4382",
       "version_major": 2,
       "version_minor": 0
      },
      "text/plain": [
       "  0%|          | 0/88 [00:00<?, ?it/s]"
      ]
     },
     "metadata": {},
     "output_type": "display_data"
    },
    {
     "name": "stdout",
     "output_type": "stream",
     "text": [
      "Train Acc: 0.9868880919204148\n"
     ]
    },
    {
     "data": {
      "application/vnd.jupyter.widget-view+json": {
       "model_id": "dfa928b391644f7e9ecb4fff32e6bc67",
       "version_major": 2,
       "version_minor": 0
      },
      "text/plain": [
       "  0%|          | 0/176 [00:00<?, ?it/s]"
      ]
     },
     "metadata": {},
     "output_type": "display_data"
    },
    {
     "name": "stdout",
     "output_type": "stream",
     "text": [
      "val_acc =  0.988692175899486\n"
     ]
    },
    {
     "data": {
      "application/vnd.jupyter.widget-view+json": {
       "model_id": "bc01b085f35b4d87947e22b14a2f4eb0",
       "version_major": 2,
       "version_minor": 0
      },
      "text/plain": [
       "  0%|          | 0/88 [00:00<?, ?it/s]"
      ]
     },
     "metadata": {},
     "output_type": "display_data"
    },
    {
     "name": "stdout",
     "output_type": "stream",
     "text": [
      "Train Acc: 0.9875391187153071\n"
     ]
    },
    {
     "data": {
      "application/vnd.jupyter.widget-view+json": {
       "model_id": "635bab9f56b2410e88d275f058228d15",
       "version_major": 2,
       "version_minor": 0
      },
      "text/plain": [
       "  0%|          | 0/176 [00:00<?, ?it/s]"
      ]
     },
     "metadata": {},
     "output_type": "display_data"
    },
    {
     "name": "stdout",
     "output_type": "stream",
     "text": [
      "val_acc =  0.9889777270131354\n"
     ]
    },
    {
     "data": {
      "application/vnd.jupyter.widget-view+json": {
       "model_id": "2181fb87b13549d4bb8e979f10c7bd93",
       "version_major": 2,
       "version_minor": 0
      },
      "text/plain": [
       "  0%|          | 0/88 [00:00<?, ?it/s]"
      ]
     },
     "metadata": {},
     "output_type": "display_data"
    },
    {
     "name": "stdout",
     "output_type": "stream",
     "text": [
      "Train Acc: 0.9879959796240034\n"
     ]
    },
    {
     "data": {
      "application/vnd.jupyter.widget-view+json": {
       "model_id": "837eacb1a4e14cdb9e38db4d66717690",
       "version_major": 2,
       "version_minor": 0
      },
      "text/plain": [
       "  0%|          | 0/176 [00:00<?, ?it/s]"
      ]
     },
     "metadata": {},
     "output_type": "display_data"
    },
    {
     "name": "stdout",
     "output_type": "stream",
     "text": [
      "val_acc =  0.9902341519131924\n"
     ]
    },
    {
     "data": {
      "application/vnd.jupyter.widget-view+json": {
       "model_id": "44c37463b5f24202a9ce4a96ed26f68a",
       "version_major": 2,
       "version_minor": 0
      },
      "text/plain": [
       "  0%|          | 0/88 [00:00<?, ?it/s]"
      ]
     },
     "metadata": {},
     "output_type": "display_data"
    },
    {
     "name": "stdout",
     "output_type": "stream",
     "text": [
      "Train Acc: 0.9877104415560682\n"
     ]
    },
    {
     "data": {
      "application/vnd.jupyter.widget-view+json": {
       "model_id": "de2eae8f38524cb49b9a8e873c99a235",
       "version_major": 2,
       "version_minor": 0
      },
      "text/plain": [
       "  0%|          | 0/176 [00:00<?, ?it/s]"
      ]
     },
     "metadata": {},
     "output_type": "display_data"
    },
    {
     "name": "stdout",
     "output_type": "stream",
     "text": [
      "val_acc =  0.9883495145631068\n"
     ]
    },
    {
     "data": {
      "application/vnd.jupyter.widget-view+json": {
       "model_id": "579e148659ed491f86727e784c68e635",
       "version_major": 2,
       "version_minor": 0
      },
      "text/plain": [
       "  0%|          | 0/88 [00:00<?, ?it/s]"
      ]
     },
     "metadata": {},
     "output_type": "display_data"
    },
    {
     "name": "stdout",
     "output_type": "stream",
     "text": [
      "Train Acc: 0.9877332846015031\n"
     ]
    },
    {
     "data": {
      "application/vnd.jupyter.widget-view+json": {
       "model_id": "a16dbfb03d5144d585ff56e37c0601ab",
       "version_major": 2,
       "version_minor": 0
      },
      "text/plain": [
       "  0%|          | 0/176 [00:00<?, ?it/s]"
      ]
     },
     "metadata": {},
     "output_type": "display_data"
    },
    {
     "name": "stdout",
     "output_type": "stream",
     "text": [
      "val_acc =  0.9879497430039977\n"
     ]
    },
    {
     "data": {
      "application/vnd.jupyter.widget-view+json": {
       "model_id": "c0371479758c49f2a3b163bc9e5928b3",
       "version_major": 2,
       "version_minor": 0
      },
      "text/plain": [
       "  0%|          | 0/88 [00:00<?, ?it/s]"
      ]
     },
     "metadata": {},
     "output_type": "display_data"
    },
    {
     "name": "stdout",
     "output_type": "stream",
     "text": [
      "Train Acc: 0.9879959796240034\n"
     ]
    },
    {
     "data": {
      "application/vnd.jupyter.widget-view+json": {
       "model_id": "a821357310a04c68968e38076df6b33d",
       "version_major": 2,
       "version_minor": 0
      },
      "text/plain": [
       "  0%|          | 0/176 [00:00<?, ?it/s]"
      ]
     },
     "metadata": {},
     "output_type": "display_data"
    },
    {
     "name": "stdout",
     "output_type": "stream",
     "text": [
      "val_acc =  0.9887492861222159\n"
     ]
    },
    {
     "data": {
      "application/vnd.jupyter.widget-view+json": {
       "model_id": "18d14aec525f44e59198e8220b760c73",
       "version_major": 2,
       "version_minor": 0
      },
      "text/plain": [
       "  0%|          | 0/88 [00:00<?, ?it/s]"
      ]
     },
     "metadata": {},
     "output_type": "display_data"
    },
    {
     "name": "stdout",
     "output_type": "stream",
     "text": [
      "Train Acc: 0.9887041140324828\n"
     ]
    },
    {
     "data": {
      "application/vnd.jupyter.widget-view+json": {
       "model_id": "bf66d016ce414208acb1e4c27c14c00b",
       "version_major": 2,
       "version_minor": 0
      },
      "text/plain": [
       "  0%|          | 0/176 [00:00<?, ?it/s]"
      ]
     },
     "metadata": {},
     "output_type": "display_data"
    },
    {
     "name": "stdout",
     "output_type": "stream",
     "text": [
      "val_acc =  0.9903483723586523\n"
     ]
    },
    {
     "data": {
      "application/vnd.jupyter.widget-view+json": {
       "model_id": "ce356c8931d347d9bf495c47819d6c39",
       "version_major": 2,
       "version_minor": 0
      },
      "text/plain": [
       "  0%|          | 0/88 [00:00<?, ?it/s]"
      ]
     },
     "metadata": {},
     "output_type": "display_data"
    },
    {
     "name": "stdout",
     "output_type": "stream",
     "text": [
      "Train Acc: 0.9882700961692212\n"
     ]
    },
    {
     "data": {
      "application/vnd.jupyter.widget-view+json": {
       "model_id": "244034809c6b4efca17bfee31c5a6258",
       "version_major": 2,
       "version_minor": 0
      },
      "text/plain": [
       "  0%|          | 0/176 [00:00<?, ?it/s]"
      ]
     },
     "metadata": {},
     "output_type": "display_data"
    },
    {
     "name": "stdout",
     "output_type": "stream",
     "text": [
      "val_acc =  0.9885779554540263\n"
     ]
    },
    {
     "data": {
      "application/vnd.jupyter.widget-view+json": {
       "model_id": "0dd62d03c6aa4934bf8910d9d6548022",
       "version_major": 2,
       "version_minor": 0
      },
      "text/plain": [
       "  0%|          | 0/88 [00:00<?, ?it/s]"
      ]
     },
     "metadata": {},
     "output_type": "display_data"
    },
    {
     "name": "stdout",
     "output_type": "stream",
     "text": [
      "Train Acc: 0.9892066610320488\n"
     ]
    },
    {
     "data": {
      "application/vnd.jupyter.widget-view+json": {
       "model_id": "b382cac3a385485fb0814f31ba32fb85",
       "version_major": 2,
       "version_minor": 0
      },
      "text/plain": [
       "  0%|          | 0/176 [00:00<?, ?it/s]"
      ]
     },
     "metadata": {},
     "output_type": "display_data"
    },
    {
     "name": "stdout",
     "output_type": "stream",
     "text": [
      "val_acc =  0.9910336950314106\n"
     ]
    },
    {
     "data": {
      "application/vnd.jupyter.widget-view+json": {
       "model_id": "8d57c15280b74873929a060d4c7da4d0",
       "version_major": 2,
       "version_minor": 0
      },
      "text/plain": [
       "  0%|          | 0/88 [00:00<?, ?it/s]"
      ]
     },
     "metadata": {},
     "output_type": "display_data"
    },
    {
     "name": "stdout",
     "output_type": "stream",
     "text": [
      "Train Acc: 0.989046759714005\n"
     ]
    },
    {
     "data": {
      "application/vnd.jupyter.widget-view+json": {
       "model_id": "678fc8809be843208ea269c9633230c1",
       "version_major": 2,
       "version_minor": 0
      },
      "text/plain": [
       "  0%|          | 0/176 [00:00<?, ?it/s]"
      ]
     },
     "metadata": {},
     "output_type": "display_data"
    },
    {
     "name": "stdout",
     "output_type": "stream",
     "text": [
      "val_acc =  0.9907481439177612\n"
     ]
    },
    {
     "data": {
      "application/vnd.jupyter.widget-view+json": {
       "model_id": "23f64e09c1f443dcbadce1bd1adf08da",
       "version_major": 2,
       "version_minor": 0
      },
      "text/plain": [
       "  0%|          | 0/88 [00:00<?, ?it/s]"
      ]
     },
     "metadata": {},
     "output_type": "display_data"
    },
    {
     "name": "stdout",
     "output_type": "stream",
     "text": [
      "Train Acc: 0.9901432258948764\n"
     ]
    },
    {
     "data": {
      "application/vnd.jupyter.widget-view+json": {
       "model_id": "363c3fbdce5e43038ce3f5dfaaaa019b",
       "version_major": 2,
       "version_minor": 0
      },
      "text/plain": [
       "  0%|          | 0/176 [00:00<?, ?it/s]"
      ]
     },
     "metadata": {},
     "output_type": "display_data"
    },
    {
     "name": "stdout",
     "output_type": "stream",
     "text": [
      "val_acc =  0.9910908052541405\n"
     ]
    },
    {
     "data": {
      "application/vnd.jupyter.widget-view+json": {
       "model_id": "3db8cbc62bca4461bc2c92518884cbf8",
       "version_major": 2,
       "version_minor": 0
      },
      "text/plain": [
       "  0%|          | 0/88 [00:00<?, ?it/s]"
      ]
     },
     "metadata": {},
     "output_type": "display_data"
    },
    {
     "name": "stdout",
     "output_type": "stream",
     "text": [
      "Train Acc: 0.9894579345318317\n"
     ]
    },
    {
     "data": {
      "application/vnd.jupyter.widget-view+json": {
       "model_id": "be96f15e8a264a3a96c68f50661d6a6d",
       "version_major": 2,
       "version_minor": 0
      },
      "text/plain": [
       "  0%|          | 0/176 [00:00<?, ?it/s]"
      ]
     },
     "metadata": {},
     "output_type": "display_data"
    },
    {
     "name": "stdout",
     "output_type": "stream",
     "text": [
      "val_acc =  0.9916619074814392\n"
     ]
    },
    {
     "data": {
      "application/vnd.jupyter.widget-view+json": {
       "model_id": "7a3a56c6ea6c477993d526d9066ba4d6",
       "version_major": 2,
       "version_minor": 0
      },
      "text/plain": [
       "  0%|          | 0/88 [00:00<?, ?it/s]"
      ]
     },
     "metadata": {},
     "output_type": "display_data"
    },
    {
     "name": "stdout",
     "output_type": "stream",
     "text": [
      "Train Acc: 0.9900861182812892\n"
     ]
    },
    {
     "data": {
      "application/vnd.jupyter.widget-view+json": {
       "model_id": "d4d37dd8c92b4d6b95b50e6a206c172d",
       "version_major": 2,
       "version_minor": 0
      },
      "text/plain": [
       "  0%|          | 0/176 [00:00<?, ?it/s]"
      ]
     },
     "metadata": {},
     "output_type": "display_data"
    },
    {
     "name": "stdout",
     "output_type": "stream",
     "text": [
      "val_acc =  0.9915476870359794\n"
     ]
    },
    {
     "data": {
      "application/vnd.jupyter.widget-view+json": {
       "model_id": "f8f6c0490b2d49a59fb3304c68dd73c8",
       "version_major": 2,
       "version_minor": 0
      },
      "text/plain": [
       "  0%|          | 0/88 [00:00<?, ?it/s]"
      ]
     },
     "metadata": {},
     "output_type": "display_data"
    },
    {
     "name": "stdout",
     "output_type": "stream",
     "text": [
      "Train Acc: 0.9906343513717248\n"
     ]
    },
    {
     "data": {
      "application/vnd.jupyter.widget-view+json": {
       "model_id": "65c3c065f3e2489da293475fcb1f9895",
       "version_major": 2,
       "version_minor": 0
      },
      "text/plain": [
       "  0%|          | 0/176 [00:00<?, ?it/s]"
      ]
     },
     "metadata": {},
     "output_type": "display_data"
    },
    {
     "name": "stdout",
     "output_type": "stream",
     "text": [
      "val_acc =  0.9912621359223301\n"
     ]
    },
    {
     "data": {
      "application/vnd.jupyter.widget-view+json": {
       "model_id": "3f5b21b238fc4379a7f42414e826aeb5",
       "version_major": 2,
       "version_minor": 0
      },
      "text/plain": [
       "  0%|          | 0/88 [00:00<?, ?it/s]"
      ]
     },
     "metadata": {},
     "output_type": "display_data"
    },
    {
     "name": "stdout",
     "output_type": "stream",
     "text": [
      "Train Acc: 0.990188911985746\n"
     ]
    },
    {
     "data": {
      "application/vnd.jupyter.widget-view+json": {
       "model_id": "fa57e568522d45df8dcbca6f9793983a",
       "version_major": 2,
       "version_minor": 0
      },
      "text/plain": [
       "  0%|          | 0/176 [00:00<?, ?it/s]"
      ]
     },
     "metadata": {},
     "output_type": "display_data"
    },
    {
     "name": "stdout",
     "output_type": "stream",
     "text": [
      "val_acc =  0.9901770416904626\n"
     ]
    },
    {
     "data": {
      "application/vnd.jupyter.widget-view+json": {
       "model_id": "af015757326b4f6497d8c7efb12583ed",
       "version_major": 2,
       "version_minor": 0
      },
      "text/plain": [
       "  0%|          | 0/88 [00:00<?, ?it/s]"
      ]
     },
     "metadata": {},
     "output_type": "display_data"
    },
    {
     "name": "stdout",
     "output_type": "stream",
     "text": [
      "Train Acc: 0.9904972930991159\n"
     ]
    },
    {
     "data": {
      "application/vnd.jupyter.widget-view+json": {
       "model_id": "122cbfeb9e984fcaaa3c6be246839ddc",
       "version_major": 2,
       "version_minor": 0
      },
      "text/plain": [
       "  0%|          | 0/176 [00:00<?, ?it/s]"
      ]
     },
     "metadata": {},
     "output_type": "display_data"
    },
    {
     "name": "stdout",
     "output_type": "stream",
     "text": [
      "val_acc =  0.9915476870359794\n"
     ]
    },
    {
     "data": {
      "application/vnd.jupyter.widget-view+json": {
       "model_id": "171dc18bb319462b845b2550db7454c2",
       "version_major": 2,
       "version_minor": 0
      },
      "text/plain": [
       "  0%|          | 0/88 [00:00<?, ?it/s]"
      ]
     },
     "metadata": {},
     "output_type": "display_data"
    },
    {
     "name": "stdout",
     "output_type": "stream",
     "text": [
      "Train Acc: 0.9902117550311808\n"
     ]
    },
    {
     "data": {
      "application/vnd.jupyter.widget-view+json": {
       "model_id": "43303132ba2d49eebe11367f7b1e132b",
       "version_major": 2,
       "version_minor": 0
      },
      "text/plain": [
       "  0%|          | 0/176 [00:00<?, ?it/s]"
      ]
     },
     "metadata": {},
     "output_type": "display_data"
    },
    {
     "name": "stdout",
     "output_type": "stream",
     "text": [
      "val_acc =  0.9900628212450029\n"
     ]
    },
    {
     "data": {
      "application/vnd.jupyter.widget-view+json": {
       "model_id": "23ec926dbf134169b1430325a3efe493",
       "version_major": 2,
       "version_minor": 0
      },
      "text/plain": [
       "  0%|          | 0/88 [00:00<?, ?it/s]"
      ]
     },
     "metadata": {},
     "output_type": "display_data"
    },
    {
     "name": "stdout",
     "output_type": "stream",
     "text": [
      "Train Acc: 0.9900861182812892\n"
     ]
    },
    {
     "data": {
      "application/vnd.jupyter.widget-view+json": {
       "model_id": "88e500b9992e49b68d253620fd146619",
       "version_major": 2,
       "version_minor": 0
      },
      "text/plain": [
       "  0%|          | 0/176 [00:00<?, ?it/s]"
      ]
     },
     "metadata": {},
     "output_type": "display_data"
    },
    {
     "name": "stdout",
     "output_type": "stream",
     "text": [
      "val_acc =  0.9913763563677899\n"
     ]
    },
    {
     "data": {
      "application/vnd.jupyter.widget-view+json": {
       "model_id": "7290e57d50f94e18a43891558c944974",
       "version_major": 2,
       "version_minor": 0
      },
      "text/plain": [
       "  0%|          | 0/88 [00:00<?, ?it/s]"
      ]
     },
     "metadata": {},
     "output_type": "display_data"
    },
    {
     "name": "stdout",
     "output_type": "stream",
     "text": [
      "Train Acc: 0.9906115083262901\n"
     ]
    },
    {
     "data": {
      "application/vnd.jupyter.widget-view+json": {
       "model_id": "bbc68192947149699e0e99b9a16ad6ef",
       "version_major": 2,
       "version_minor": 0
      },
      "text/plain": [
       "  0%|          | 0/176 [00:00<?, ?it/s]"
      ]
     },
     "metadata": {},
     "output_type": "display_data"
    },
    {
     "name": "stdout",
     "output_type": "stream",
     "text": [
      "val_acc =  0.9924614505996573\n"
     ]
    },
    {
     "data": {
      "application/vnd.jupyter.widget-view+json": {
       "model_id": "c9528a9c2708457c9dd149d7c9b1dbed",
       "version_major": 2,
       "version_minor": 0
      },
      "text/plain": [
       "  0%|          | 0/88 [00:00<?, ?it/s]"
      ]
     },
     "metadata": {},
     "output_type": "display_data"
    },
    {
     "name": "stdout",
     "output_type": "stream",
     "text": [
      "Train Acc: 0.9918336112570528\n"
     ]
    },
    {
     "data": {
      "application/vnd.jupyter.widget-view+json": {
       "model_id": "2a744cc1c170420591d7f3cdcc0bbc38",
       "version_major": 2,
       "version_minor": 0
      },
      "text/plain": [
       "  0%|          | 0/176 [00:00<?, ?it/s]"
      ]
     },
     "metadata": {},
     "output_type": "display_data"
    },
    {
     "name": "stdout",
     "output_type": "stream",
     "text": [
      "val_acc =  0.9924614505996573\n"
     ]
    },
    {
     "data": {
      "application/vnd.jupyter.widget-view+json": {
       "model_id": "bb74bb4747b044e4b0af04a1a2e8a885",
       "version_major": 2,
       "version_minor": 0
      },
      "text/plain": [
       "  0%|          | 0/88 [00:00<?, ?it/s]"
      ]
     },
     "metadata": {},
     "output_type": "display_data"
    },
    {
     "name": "stdout",
     "output_type": "stream",
     "text": [
      "Train Acc: 0.9915252301436828\n"
     ]
    },
    {
     "data": {
      "application/vnd.jupyter.widget-view+json": {
       "model_id": "b430e7070c0942e2a29c23b199a67417",
       "version_major": 2,
       "version_minor": 0
      },
      "text/plain": [
       "  0%|          | 0/176 [00:00<?, ?it/s]"
      ]
     },
     "metadata": {},
     "output_type": "display_data"
    },
    {
     "name": "stdout",
     "output_type": "stream",
     "text": [
      "val_acc =  0.9928612221587664\n"
     ]
    },
    {
     "data": {
      "application/vnd.jupyter.widget-view+json": {
       "model_id": "55b643941a924aa19b0f9277ed396b41",
       "version_major": 2,
       "version_minor": 0
      },
      "text/plain": [
       "  0%|          | 0/88 [00:00<?, ?it/s]"
      ]
     },
     "metadata": {},
     "output_type": "display_data"
    },
    {
     "name": "stdout",
     "output_type": "stream",
     "text": [
      "Train Acc: 0.9920848847568358\n"
     ]
    },
    {
     "data": {
      "application/vnd.jupyter.widget-view+json": {
       "model_id": "9522225d3c894f7881711960c33a20dc",
       "version_major": 2,
       "version_minor": 0
      },
      "text/plain": [
       "  0%|          | 0/176 [00:00<?, ?it/s]"
      ]
     },
     "metadata": {},
     "output_type": "display_data"
    },
    {
     "name": "stdout",
     "output_type": "stream",
     "text": [
      "val_acc =  0.9932609937178755\n"
     ]
    },
    {
     "data": {
      "application/vnd.jupyter.widget-view+json": {
       "model_id": "e3db473c6f7a42a88f52a28be93b70dc",
       "version_major": 2,
       "version_minor": 0
      },
      "text/plain": [
       "  0%|          | 0/88 [00:00<?, ?it/s]"
      ]
     },
     "metadata": {},
     "output_type": "display_data"
    },
    {
     "name": "stdout",
     "output_type": "stream",
     "text": [
      "Train Acc: 0.9915138086209654\n"
     ]
    },
    {
     "data": {
      "application/vnd.jupyter.widget-view+json": {
       "model_id": "555561565b7a4a1aa30af6cffcf1d288",
       "version_major": 2,
       "version_minor": 0
      },
      "text/plain": [
       "  0%|          | 0/176 [00:00<?, ?it/s]"
      ]
     },
     "metadata": {},
     "output_type": "display_data"
    },
    {
     "name": "stdout",
     "output_type": "stream",
     "text": [
      "val_acc =  0.9928041119360366\n"
     ]
    },
    {
     "data": {
      "application/vnd.jupyter.widget-view+json": {
       "model_id": "cd476f185ed04532b33f4e3738ea0bb6",
       "version_major": 2,
       "version_minor": 0
      },
      "text/plain": [
       "  0%|          | 0/88 [00:00<?, ?it/s]"
      ]
     },
     "metadata": {},
     "output_type": "display_data"
    },
    {
     "name": "stdout",
     "output_type": "stream",
     "text": [
      "Train Acc: 0.9912168490303127\n"
     ]
    },
    {
     "data": {
      "application/vnd.jupyter.widget-view+json": {
       "model_id": "e22f9aa58bd540d895cfc477ba58a0cb",
       "version_major": 2,
       "version_minor": 0
      },
      "text/plain": [
       "  0%|          | 0/176 [00:00<?, ?it/s]"
      ]
     },
     "metadata": {},
     "output_type": "display_data"
    },
    {
     "name": "stdout",
     "output_type": "stream",
     "text": [
      "val_acc =  0.9932609937178755\n"
     ]
    },
    {
     "data": {
      "application/vnd.jupyter.widget-view+json": {
       "model_id": "9116ca49a8594e50bd46bb850afca717",
       "version_major": 2,
       "version_minor": 0
      },
      "text/plain": [
       "  0%|          | 0/88 [00:00<?, ?it/s]"
      ]
     },
     "metadata": {},
     "output_type": "display_data"
    },
    {
     "name": "stdout",
     "output_type": "stream",
     "text": [
      "Train Acc: 0.9916851314617264\n"
     ]
    },
    {
     "data": {
      "application/vnd.jupyter.widget-view+json": {
       "model_id": "19564859c0e14b7689655cbd63dac654",
       "version_major": 2,
       "version_minor": 0
      },
      "text/plain": [
       "  0%|          | 0/176 [00:00<?, ?it/s]"
      ]
     },
     "metadata": {},
     "output_type": "display_data"
    },
    {
     "name": "stdout",
     "output_type": "stream",
     "text": [
      "val_acc =  0.99131924614506\n"
     ]
    },
    {
     "data": {
      "application/vnd.jupyter.widget-view+json": {
       "model_id": "94bd7f082347400c95ad732f52441b86",
       "version_major": 2,
       "version_minor": 0
      },
      "text/plain": [
       "  0%|          | 0/88 [00:00<?, ?it/s]"
      ]
     },
     "metadata": {},
     "output_type": "display_data"
    },
    {
     "name": "stdout",
     "output_type": "stream",
     "text": [
      "Train Acc: 0.991194005984878\n"
     ]
    },
    {
     "data": {
      "application/vnd.jupyter.widget-view+json": {
       "model_id": "6f7232725fd04d03ac9b261d4b67f81d",
       "version_major": 2,
       "version_minor": 0
      },
      "text/plain": [
       "  0%|          | 0/176 [00:00<?, ?it/s]"
      ]
     },
     "metadata": {},
     "output_type": "display_data"
    },
    {
     "name": "stdout",
     "output_type": "stream",
     "text": [
      "val_acc =  0.9916047972587093\n"
     ]
    },
    {
     "data": {
      "application/vnd.jupyter.widget-view+json": {
       "model_id": "022fda7d6bb449cbb3eb4fd02aca9af1",
       "version_major": 2,
       "version_minor": 0
      },
      "text/plain": [
       "  0%|          | 0/88 [00:00<?, ?it/s]"
      ]
     },
     "metadata": {},
     "output_type": "display_data"
    },
    {
     "name": "stdout",
     "output_type": "stream",
     "text": [
      "Train Acc: 0.9913310642574868\n"
     ]
    },
    {
     "data": {
      "application/vnd.jupyter.widget-view+json": {
       "model_id": "1e216ca886a049c8a0a3ff4e8ca730b2",
       "version_major": 2,
       "version_minor": 0
      },
      "text/plain": [
       "  0%|          | 0/176 [00:00<?, ?it/s]"
      ]
     },
     "metadata": {},
     "output_type": "display_data"
    },
    {
     "name": "stdout",
     "output_type": "stream",
     "text": [
      "val_acc =  0.9928612221587664\n"
     ]
    },
    {
     "data": {
      "application/vnd.jupyter.widget-view+json": {
       "model_id": "850e362305c643f792d9256a7f3cb41e",
       "version_major": 2,
       "version_minor": 0
      },
      "text/plain": [
       "  0%|          | 0/88 [00:00<?, ?it/s]"
      ]
     },
     "metadata": {},
     "output_type": "display_data"
    },
    {
     "name": "stdout",
     "output_type": "stream",
     "text": [
      "Train Acc: 0.9921648354158576\n"
     ]
    },
    {
     "data": {
      "application/vnd.jupyter.widget-view+json": {
       "model_id": "a5d5bf69fade4a649438f85550a103d6",
       "version_major": 2,
       "version_minor": 0
      },
      "text/plain": [
       "  0%|          | 0/176 [00:00<?, ?it/s]"
      ]
     },
     "metadata": {},
     "output_type": "display_data"
    },
    {
     "name": "stdout",
     "output_type": "stream",
     "text": [
      "val_acc =  0.9926327812678469\n"
     ]
    },
    {
     "data": {
      "application/vnd.jupyter.widget-view+json": {
       "model_id": "40a596188fc04a23b89285f2c3fccf9a",
       "version_major": 2,
       "version_minor": 0
      },
      "text/plain": [
       "  0%|          | 0/88 [00:00<?, ?it/s]"
      ]
     },
     "metadata": {},
     "output_type": "display_data"
    },
    {
     "name": "stdout",
     "output_type": "stream",
     "text": [
      "Train Acc: 0.9922562075975969\n"
     ]
    },
    {
     "data": {
      "application/vnd.jupyter.widget-view+json": {
       "model_id": "7c232e7d4ba1449ca609c70c2ea61b4c",
       "version_major": 2,
       "version_minor": 0
      },
      "text/plain": [
       "  0%|          | 0/176 [00:00<?, ?it/s]"
      ]
     },
     "metadata": {},
     "output_type": "display_data"
    },
    {
     "name": "stdout",
     "output_type": "stream",
     "text": [
      "val_acc =  0.9941176470588236\n"
     ]
    },
    {
     "data": {
      "application/vnd.jupyter.widget-view+json": {
       "model_id": "256c35734e0c4552a561f2793e89defe",
       "version_major": 2,
       "version_minor": 0
      },
      "text/plain": [
       "  0%|          | 0/88 [00:00<?, ?it/s]"
      ]
     },
     "metadata": {},
     "output_type": "display_data"
    },
    {
     "name": "stdout",
     "output_type": "stream",
     "text": [
      "Train Acc: 0.9919820910523791\n"
     ]
    },
    {
     "data": {
      "application/vnd.jupyter.widget-view+json": {
       "model_id": "d7c84a94df0947158c60800b94e40dd6",
       "version_major": 2,
       "version_minor": 0
      },
      "text/plain": [
       "  0%|          | 0/176 [00:00<?, ?it/s]"
      ]
     },
     "metadata": {},
     "output_type": "display_data"
    },
    {
     "name": "stdout",
     "output_type": "stream",
     "text": [
      "val_acc =  0.9933752141633352\n"
     ]
    },
    {
     "data": {
      "application/vnd.jupyter.widget-view+json": {
       "model_id": "1ff3ba044744403f86ba197e56b0a135",
       "version_major": 2,
       "version_minor": 0
      },
      "text/plain": [
       "  0%|          | 0/88 [00:00<?, ?it/s]"
      ]
     },
     "metadata": {},
     "output_type": "display_data"
    },
    {
     "name": "stdout",
     "output_type": "stream",
     "text": [
      "Train Acc: 0.9929072343924892\n"
     ]
    },
    {
     "data": {
      "application/vnd.jupyter.widget-view+json": {
       "model_id": "13f48feea0aa4cf797f5baa0b1923370",
       "version_major": 2,
       "version_minor": 0
      },
      "text/plain": [
       "  0%|          | 0/176 [00:00<?, ?it/s]"
      ]
     },
     "metadata": {},
     "output_type": "display_data"
    },
    {
     "name": "stdout",
     "output_type": "stream",
     "text": [
      "val_acc =  0.9952027412906911\n"
     ]
    },
    {
     "data": {
      "application/vnd.jupyter.widget-view+json": {
       "model_id": "420f180b495b4fd1a745c0ee39b0abcd",
       "version_major": 2,
       "version_minor": 0
      },
      "text/plain": [
       "  0%|          | 0/88 [00:00<?, ?it/s]"
      ]
     },
     "metadata": {},
     "output_type": "display_data"
    },
    {
     "name": "stdout",
     "output_type": "stream",
     "text": [
      "Train Acc: 0.9929757635287937\n"
     ]
    },
    {
     "data": {
      "application/vnd.jupyter.widget-view+json": {
       "model_id": "aee9226f5f6b4322bfc3547bed630f44",
       "version_major": 2,
       "version_minor": 0
      },
      "text/plain": [
       "  0%|          | 0/176 [00:00<?, ?it/s]"
      ]
     },
     "metadata": {},
     "output_type": "display_data"
    },
    {
     "name": "stdout",
     "output_type": "stream",
     "text": [
      "val_acc =  0.9940034266133638\n"
     ]
    },
    {
     "data": {
      "application/vnd.jupyter.widget-view+json": {
       "model_id": "86ccdc8a60bd4fb0a51748d3cd797f24",
       "version_major": 2,
       "version_minor": 0
      },
      "text/plain": [
       "  0%|          | 0/88 [00:00<?, ?it/s]"
      ]
     },
     "metadata": {},
     "output_type": "display_data"
    },
    {
     "name": "stdout",
     "output_type": "stream",
     "text": [
      "Train Acc: 0.9931585078922722\n"
     ]
    },
    {
     "data": {
      "application/vnd.jupyter.widget-view+json": {
       "model_id": "2812e87b502d4f2cbb0ba3dee96d507f",
       "version_major": 2,
       "version_minor": 0
      },
      "text/plain": [
       "  0%|          | 0/176 [00:00<?, ?it/s]"
      ]
     },
     "metadata": {},
     "output_type": "display_data"
    },
    {
     "name": "stdout",
     "output_type": "stream",
     "text": [
      "val_acc =  0.9941176470588236\n"
     ]
    },
    {
     "data": {
      "application/vnd.jupyter.widget-view+json": {
       "model_id": "d852b610f3a64ace855f9272cce941f8",
       "version_major": 2,
       "version_minor": 0
      },
      "text/plain": [
       "  0%|          | 0/88 [00:00<?, ?it/s]"
      ]
     },
     "metadata": {},
     "output_type": "display_data"
    },
    {
     "name": "stdout",
     "output_type": "stream",
     "text": [
      "Train Acc: 0.9930442926650981\n"
     ]
    },
    {
     "data": {
      "application/vnd.jupyter.widget-view+json": {
       "model_id": "77777e546ee74d77967bba79c1ceaba2",
       "version_major": 2,
       "version_minor": 0
      },
      "text/plain": [
       "  0%|          | 0/176 [00:00<?, ?it/s]"
      ]
     },
     "metadata": {},
     "output_type": "display_data"
    },
    {
     "name": "stdout",
     "output_type": "stream",
     "text": [
      "val_acc =  0.9936607652769845\n"
     ]
    },
    {
     "data": {
      "application/vnd.jupyter.widget-view+json": {
       "model_id": "f42533180f9e4a3db2b7129f9c4d73fc",
       "version_major": 2,
       "version_minor": 0
      },
      "text/plain": [
       "  0%|          | 0/88 [00:00<?, ?it/s]"
      ]
     },
     "metadata": {},
     "output_type": "display_data"
    },
    {
     "name": "stdout",
     "output_type": "stream",
     "text": [
      "Train Acc: 0.9931356648468374\n"
     ]
    },
    {
     "data": {
      "application/vnd.jupyter.widget-view+json": {
       "model_id": "fec83e02b5f04cc0aca6a79d01f532a5",
       "version_major": 2,
       "version_minor": 0
      },
      "text/plain": [
       "  0%|          | 0/176 [00:00<?, ?it/s]"
      ]
     },
     "metadata": {},
     "output_type": "display_data"
    },
    {
     "name": "stdout",
     "output_type": "stream",
     "text": [
      "val_acc =  0.9946887492861222\n"
     ]
    },
    {
     "data": {
      "application/vnd.jupyter.widget-view+json": {
       "model_id": "86f7471ac917415da398015ddac8c243",
       "version_major": 2,
       "version_minor": 0
      },
      "text/plain": [
       "  0%|          | 0/88 [00:00<?, ?it/s]"
      ]
     },
     "metadata": {},
     "output_type": "display_data"
    },
    {
     "name": "stdout",
     "output_type": "stream",
     "text": [
      "Train Acc: 0.9932156155058592\n"
     ]
    },
    {
     "data": {
      "application/vnd.jupyter.widget-view+json": {
       "model_id": "0816fe36a22d406cadf542134699cab1",
       "version_major": 2,
       "version_minor": 0
      },
      "text/plain": [
       "  0%|          | 0/176 [00:00<?, ?it/s]"
      ]
     },
     "metadata": {},
     "output_type": "display_data"
    },
    {
     "name": "stdout",
     "output_type": "stream",
     "text": [
      "val_acc =  0.9941176470588236\n"
     ]
    },
    {
     "data": {
      "application/vnd.jupyter.widget-view+json": {
       "model_id": "f295f3bd4af54fddafbcc2b1b25426bb",
       "version_major": 2,
       "version_minor": 0
      },
      "text/plain": [
       "  0%|          | 0/88 [00:00<?, ?it/s]"
      ]
     },
     "metadata": {},
     "output_type": "display_data"
    },
    {
     "name": "stdout",
     "output_type": "stream",
     "text": [
      "Train Acc: 0.992930077437924\n"
     ]
    },
    {
     "data": {
      "application/vnd.jupyter.widget-view+json": {
       "model_id": "67ab73f71fdd42e292caf6efcee72ab8",
       "version_major": 2,
       "version_minor": 0
      },
      "text/plain": [
       "  0%|          | 0/176 [00:00<?, ?it/s]"
      ]
     },
     "metadata": {},
     "output_type": "display_data"
    },
    {
     "name": "stdout",
     "output_type": "stream",
     "text": [
      "val_acc =  0.9944031981724729\n"
     ]
    },
    {
     "data": {
      "application/vnd.jupyter.widget-view+json": {
       "model_id": "360b7a45bfe0417c95bcef1004cff8ae",
       "version_major": 2,
       "version_minor": 0
      },
      "text/plain": [
       "  0%|          | 0/88 [00:00<?, ?it/s]"
      ]
     },
     "metadata": {},
     "output_type": "display_data"
    },
    {
     "name": "stdout",
     "output_type": "stream",
     "text": [
      "Train Acc: 0.9934440459602074\n"
     ]
    },
    {
     "data": {
      "application/vnd.jupyter.widget-view+json": {
       "model_id": "78b5fa0c1c414602b0a07aef805a69f9",
       "version_major": 2,
       "version_minor": 0
      },
      "text/plain": [
       "  0%|          | 0/176 [00:00<?, ?it/s]"
      ]
     },
     "metadata": {},
     "output_type": "display_data"
    },
    {
     "name": "stdout",
     "output_type": "stream",
     "text": [
      "val_acc =  0.9933752141633352\n"
     ]
    },
    {
     "data": {
      "application/vnd.jupyter.widget-view+json": {
       "model_id": "f563b990f7db4bd4b727a9f6ac0602f2",
       "version_major": 2,
       "version_minor": 0
      },
      "text/plain": [
       "  0%|          | 0/88 [00:00<?, ?it/s]"
      ]
     },
     "metadata": {},
     "output_type": "display_data"
    },
    {
     "name": "stdout",
     "output_type": "stream",
     "text": [
      "Train Acc: 0.9931699294149896\n"
     ]
    },
    {
     "data": {
      "application/vnd.jupyter.widget-view+json": {
       "model_id": "c15f9faed6db49948d5115dc45dd117f",
       "version_major": 2,
       "version_minor": 0
      },
      "text/plain": [
       "  0%|          | 0/176 [00:00<?, ?it/s]"
      ]
     },
     "metadata": {},
     "output_type": "display_data"
    },
    {
     "name": "stdout",
     "output_type": "stream",
     "text": [
      "val_acc =  0.9949171901770417\n",
      "best acc: 0.9952027412906911 best epoch: 61\n",
      "loaded from ckpt!\n"
     ]
    }
   ],
   "source": [
    "best_acc, best_epoch = 0, 0\n",
    "global_step = 0\n",
    "train_acc=[]\n",
    "train_loss=[]\n",
    "val_acc=[]\n",
    "val_loss=[]\n",
    "for epoch in range(epochs):\n",
    "    correct=0\n",
    "    train_bar = tqdm(train_loader, file=sys.stdout)\n",
    "    for step, (x, y) in enumerate(train_bar):\n",
    "        # x: [b, 187], y: [b]\n",
    "        x, y = x.to(device), y.to(device)\n",
    "        model.train()\n",
    "        logits = model(x)\n",
    "        loss = criterion(logits, y)\n",
    "        preds=logits.argmax(dim=1)\n",
    "        correct+=torch.eq(preds, y).sum().float().item()\n",
    "        optimizer.zero_grad()\n",
    "        loss.backward()\n",
    "        \n",
    "        # for param in model.parameters():\n",
    "        #     print(param.grad)\n",
    "        optimizer.step()\n",
    "        \n",
    "        train_bar.desc = \"train epoch[{}/{}] loss:{:.3f}\".format(epoch + 1,\n",
    "                                                                 epochs,\n",
    "                                                                 loss)\n",
    "        global_step += 1\n",
    "    train_loss.append(loss)\n",
    "    train_acc.append(correct/len(train_loader.dataset))\n",
    "    print('Train Acc: {}'.format(correct/len(train_loader.dataset)))\n",
    "    if epoch % 1 == 0:  # You can change the validation frequency as you wish\n",
    "        val_acc_epo, val_loss_epo = evalute(model, val_loader, criterion)\n",
    "        val_acc.append(val_acc_epo)\n",
    "        val_loss.append(val_loss_epo)\n",
    "        print('val_acc = ',val_acc_epo)\n",
    "        if val_acc_epo > best_acc:\n",
    "            best_epoch = epoch\n",
    "            best_acc = val_acc_epo\n",
    "            #torch.save(model, 'proposed.pt')\n",
    "            torch.save(model.state_dict(), 'proposed.mdl')\n",
    "            #torch.save(model.state_dict(), 'proposed_weights.pt')\n",
    "print('best acc:', best_acc, 'best epoch:', best_epoch)\n",
    "model.load_state_dict(torch.load('proposed.mdl'))\n",
    "print('loaded from ckpt!')"
   ]
  },
  {
   "cell_type": "markdown",
   "id": "4e481147-53c5-4558-a813-a1f99b7815f4",
   "metadata": {},
   "source": [
    "# Model Inference"
   ]
  },
  {
   "cell_type": "code",
   "execution_count": 13,
   "id": "16c2aad6-96e2-4ab7-8237-8892cab6cc29",
   "metadata": {},
   "outputs": [
    {
     "data": {
      "text/html": [
       "<div>\n",
       "<style scoped>\n",
       "    .dataframe tbody tr th:only-of-type {\n",
       "        vertical-align: middle;\n",
       "    }\n",
       "\n",
       "    .dataframe tbody tr th {\n",
       "        vertical-align: top;\n",
       "    }\n",
       "\n",
       "    .dataframe thead th {\n",
       "        text-align: right;\n",
       "    }\n",
       "</style>\n",
       "<table border=\"1\" class=\"dataframe\">\n",
       "  <thead>\n",
       "    <tr style=\"text-align: right;\">\n",
       "      <th></th>\n",
       "      <th>0</th>\n",
       "      <th>1</th>\n",
       "      <th>2</th>\n",
       "      <th>3</th>\n",
       "      <th>4</th>\n",
       "      <th>5</th>\n",
       "      <th>6</th>\n",
       "      <th>7</th>\n",
       "      <th>8</th>\n",
       "      <th>9</th>\n",
       "      <th>...</th>\n",
       "      <th>178</th>\n",
       "      <th>179</th>\n",
       "      <th>180</th>\n",
       "      <th>181</th>\n",
       "      <th>182</th>\n",
       "      <th>183</th>\n",
       "      <th>184</th>\n",
       "      <th>185</th>\n",
       "      <th>186</th>\n",
       "      <th>187</th>\n",
       "    </tr>\n",
       "  </thead>\n",
       "  <tbody>\n",
       "    <tr>\n",
       "      <th>0</th>\n",
       "      <td>1.000000</td>\n",
       "      <td>0.758264</td>\n",
       "      <td>0.111570</td>\n",
       "      <td>0.000000</td>\n",
       "      <td>0.080579</td>\n",
       "      <td>0.078512</td>\n",
       "      <td>0.066116</td>\n",
       "      <td>0.049587</td>\n",
       "      <td>0.047521</td>\n",
       "      <td>0.035124</td>\n",
       "      <td>...</td>\n",
       "      <td>0.0</td>\n",
       "      <td>0.0</td>\n",
       "      <td>0.0</td>\n",
       "      <td>0.0</td>\n",
       "      <td>0.0</td>\n",
       "      <td>0.0</td>\n",
       "      <td>0.0</td>\n",
       "      <td>0.0</td>\n",
       "      <td>0.0</td>\n",
       "      <td>0.0</td>\n",
       "    </tr>\n",
       "    <tr>\n",
       "      <th>1</th>\n",
       "      <td>0.908425</td>\n",
       "      <td>0.783883</td>\n",
       "      <td>0.531136</td>\n",
       "      <td>0.362637</td>\n",
       "      <td>0.366300</td>\n",
       "      <td>0.344322</td>\n",
       "      <td>0.333333</td>\n",
       "      <td>0.307692</td>\n",
       "      <td>0.296703</td>\n",
       "      <td>0.300366</td>\n",
       "      <td>...</td>\n",
       "      <td>0.0</td>\n",
       "      <td>0.0</td>\n",
       "      <td>0.0</td>\n",
       "      <td>0.0</td>\n",
       "      <td>0.0</td>\n",
       "      <td>0.0</td>\n",
       "      <td>0.0</td>\n",
       "      <td>0.0</td>\n",
       "      <td>0.0</td>\n",
       "      <td>0.0</td>\n",
       "    </tr>\n",
       "    <tr>\n",
       "      <th>2</th>\n",
       "      <td>0.730088</td>\n",
       "      <td>0.212389</td>\n",
       "      <td>0.000000</td>\n",
       "      <td>0.119469</td>\n",
       "      <td>0.101770</td>\n",
       "      <td>0.101770</td>\n",
       "      <td>0.110619</td>\n",
       "      <td>0.123894</td>\n",
       "      <td>0.115044</td>\n",
       "      <td>0.132743</td>\n",
       "      <td>...</td>\n",
       "      <td>0.0</td>\n",
       "      <td>0.0</td>\n",
       "      <td>0.0</td>\n",
       "      <td>0.0</td>\n",
       "      <td>0.0</td>\n",
       "      <td>0.0</td>\n",
       "      <td>0.0</td>\n",
       "      <td>0.0</td>\n",
       "      <td>0.0</td>\n",
       "      <td>0.0</td>\n",
       "    </tr>\n",
       "    <tr>\n",
       "      <th>3</th>\n",
       "      <td>1.000000</td>\n",
       "      <td>0.910417</td>\n",
       "      <td>0.681250</td>\n",
       "      <td>0.472917</td>\n",
       "      <td>0.229167</td>\n",
       "      <td>0.068750</td>\n",
       "      <td>0.000000</td>\n",
       "      <td>0.004167</td>\n",
       "      <td>0.014583</td>\n",
       "      <td>0.054167</td>\n",
       "      <td>...</td>\n",
       "      <td>0.0</td>\n",
       "      <td>0.0</td>\n",
       "      <td>0.0</td>\n",
       "      <td>0.0</td>\n",
       "      <td>0.0</td>\n",
       "      <td>0.0</td>\n",
       "      <td>0.0</td>\n",
       "      <td>0.0</td>\n",
       "      <td>0.0</td>\n",
       "      <td>0.0</td>\n",
       "    </tr>\n",
       "    <tr>\n",
       "      <th>4</th>\n",
       "      <td>0.570470</td>\n",
       "      <td>0.399329</td>\n",
       "      <td>0.238255</td>\n",
       "      <td>0.147651</td>\n",
       "      <td>0.000000</td>\n",
       "      <td>0.003356</td>\n",
       "      <td>0.040268</td>\n",
       "      <td>0.080537</td>\n",
       "      <td>0.070470</td>\n",
       "      <td>0.090604</td>\n",
       "      <td>...</td>\n",
       "      <td>0.0</td>\n",
       "      <td>0.0</td>\n",
       "      <td>0.0</td>\n",
       "      <td>0.0</td>\n",
       "      <td>0.0</td>\n",
       "      <td>0.0</td>\n",
       "      <td>0.0</td>\n",
       "      <td>0.0</td>\n",
       "      <td>0.0</td>\n",
       "      <td>0.0</td>\n",
       "    </tr>\n",
       "  </tbody>\n",
       "</table>\n",
       "<p>5 rows × 188 columns</p>\n",
       "</div>"
      ],
      "text/plain": [
       "        0         1         2         3         4         5         6    \\\n",
       "0  1.000000  0.758264  0.111570  0.000000  0.080579  0.078512  0.066116   \n",
       "1  0.908425  0.783883  0.531136  0.362637  0.366300  0.344322  0.333333   \n",
       "2  0.730088  0.212389  0.000000  0.119469  0.101770  0.101770  0.110619   \n",
       "3  1.000000  0.910417  0.681250  0.472917  0.229167  0.068750  0.000000   \n",
       "4  0.570470  0.399329  0.238255  0.147651  0.000000  0.003356  0.040268   \n",
       "\n",
       "        7         8         9    ...  178  179  180  181  182  183  184  185  \\\n",
       "0  0.049587  0.047521  0.035124  ...  0.0  0.0  0.0  0.0  0.0  0.0  0.0  0.0   \n",
       "1  0.307692  0.296703  0.300366  ...  0.0  0.0  0.0  0.0  0.0  0.0  0.0  0.0   \n",
       "2  0.123894  0.115044  0.132743  ...  0.0  0.0  0.0  0.0  0.0  0.0  0.0  0.0   \n",
       "3  0.004167  0.014583  0.054167  ...  0.0  0.0  0.0  0.0  0.0  0.0  0.0  0.0   \n",
       "4  0.080537  0.070470  0.090604  ...  0.0  0.0  0.0  0.0  0.0  0.0  0.0  0.0   \n",
       "\n",
       "   186  187  \n",
       "0  0.0  0.0  \n",
       "1  0.0  0.0  \n",
       "2  0.0  0.0  \n",
       "3  0.0  0.0  \n",
       "4  0.0  0.0  \n",
       "\n",
       "[5 rows x 188 columns]"
      ]
     },
     "execution_count": 13,
     "metadata": {},
     "output_type": "execute_result"
    }
   ],
   "source": [
    "test_pd = pd.read_csv(\"/home/hanaesori/workspace/jupyter_notebook/Neural_Network/csv/mitbih_test.csv\", header=None)\n",
    "test_pd.head()"
   ]
  },
  {
   "cell_type": "code",
   "execution_count": 14,
   "id": "fea9d7ce-f9ea-4864-8414-5a2cbc5bc486",
   "metadata": {},
   "outputs": [
    {
     "name": "stdout",
     "output_type": "stream",
     "text": [
      "Data Set(Sample, Features) : 21892 187\n",
      "Number of Categories : 5\n",
      "Classes[Normal = 0, Supra-ventricular = 1, Ventricular escape = 2, Fusion of ventricular = 3, Unclassifiable = 4] :\n",
      "Label 0 count: 18118\n",
      "Label 1 count: 556\n",
      "Label 2 count: 1448\n",
      "Label 3 count: 162\n",
      "Label 4 count: 1608\n"
     ]
    }
   ],
   "source": [
    "test_np = test_pd.to_numpy()\n",
    "test_data = torch.utils.data.TensorDataset(torch.from_numpy(test_np[:, :-1]).float(), torch.from_numpy(test_np[:, -1]).long(),)\n",
    "test_loader = DataLoader(test_data, batch_size=1000, shuffle=True)\n",
    "\n",
    "X_test = test_data.tensors[0]\n",
    "Y_test = test_data.tensors[1]\n",
    "\n",
    "print('Data Set(Sample, Features) :', len(test_data), X_test.shape[1]) #=> X shape : (87553, 187)\n",
    "print('Number of Categories :', len(Y_test.unique()))\n",
    "print('Classes[Normal = 0, Supra-ventricular = 1, Ventricular escape = 2, Fusion of ventricular = 3, Unclassifiable = 4] :')\n",
    "for i in range(len(Y_test.unique())):\n",
    "    print(f'Label {Y_test.unique()[i].item()} count: {torch.sum(Y_test == Y_test.unique()[i])}')"
   ]
  },
  {
   "cell_type": "code",
   "execution_count": 15,
   "id": "ac2ad325-f85c-4fb9-b368-4d8713a33f10",
   "metadata": {},
   "outputs": [
    {
     "data": {
      "image/png": "[encoded data removed]",
      "text/plain": [
       "<Figure size 900x600 with 6 Axes>"
      ]
     },
     "metadata": {},
     "output_type": "display_data"
    }
   ],
   "source": [
    "normal_X_test = X_test[Y_test == 0]\n",
    "\n",
    "fig, ax = plt.subplots(ncols=3, nrows=2, figsize=(9,6))\n",
    "fig.suptitle(\"Normal ECG\")\n",
    "ax = ax.ravel()\n",
    "for idx, ax in enumerate(ax):\n",
    "    ax.grid()\n",
    "    ax.plot(np.arange(len(normal_X_test[idx])), normal_X_test[idx])\n",
    "plt.show()"
   ]
  },
  {
   "cell_type": "code",
   "execution_count": 16,
   "id": "cb53d3e0-7109-4113-ad73-a7117a675f73",
   "metadata": {},
   "outputs": [
    {
     "data": {
      "image/png": "[encoded data removed]",
      "text/plain": [
       "<Figure size 900x600 with 6 Axes>"
      ]
     },
     "metadata": {},
     "output_type": "display_data"
    }
   ],
   "source": [
    "anomalous_X_test = X_test[Y_test!=0]\n",
    "\n",
    "fig, ax = plt.subplots(ncols=3, nrows=2, figsize=(9,6))\n",
    "fig.suptitle(\"Anomalous ECG\")\n",
    "ax = ax.ravel()\n",
    "for idx, ax in enumerate(ax):\n",
    "    ax.grid()\n",
    "    ax.plot(np.arange(len(anomalous_X_test[idx])), anomalous_X_test[idx])\n",
    "plt.show()"
   ]
  },
  {
   "cell_type": "markdown",
   "id": "8929d4c5-167b-4dd1-857f-bf2aa36b0a22",
   "metadata": {},
   "source": [
    "test_acc = evalute(model, test_loader, criterion)\n",
    "print('test acc:', test_acc)"
   ]
  },
  {
   "cell_type": "code",
   "execution_count": 17,
   "id": "24213d9b-3112-4749-b3bd-5e5666daedd8",
   "metadata": {},
   "outputs": [],
   "source": [
    "batch_size = 1000\n",
    "iteration = 10\n",
    "criterion = nn.CrossEntropyLoss()"
   ]
  },
  {
   "cell_type": "code",
   "execution_count": 18,
   "id": "829f9036-f295-465c-8491-4336353c7173",
   "metadata": {},
   "outputs": [],
   "source": [
    "starter = torch.cuda.Event(enable_timing=True)\n",
    "ender = torch.cuda.Event(enable_timing=True)\n",
    "timings=np.zeros((iteration,1))"
   ]
  },
  {
   "cell_type": "code",
   "execution_count": 19,
   "id": "10172f66-6afc-450e-9071-23af29c5c484",
   "metadata": {},
   "outputs": [
    {
     "data": {
      "application/vnd.jupyter.widget-view+json": {
       "model_id": "d9966c59af5f41988e9f089661328922",
       "version_major": 2,
       "version_minor": 0
      },
      "text/plain": [
       "  0%|          | 0/22 [00:00<?, ?it/s]"
      ]
     },
     "metadata": {},
     "output_type": "display_data"
    },
    {
     "data": {
      "application/vnd.jupyter.widget-view+json": {
       "model_id": "1fa4705950ca418ea60fb5a1f53bfc4b",
       "version_major": 2,
       "version_minor": 0
      },
      "text/plain": [
       "  0%|          | 0/22 [00:00<?, ?it/s]"
      ]
     },
     "metadata": {},
     "output_type": "display_data"
    },
    {
     "data": {
      "application/vnd.jupyter.widget-view+json": {
       "model_id": "b8c3993811684a57890a86e71029dbce",
       "version_major": 2,
       "version_minor": 0
      },
      "text/plain": [
       "  0%|          | 0/22 [00:00<?, ?it/s]"
      ]
     },
     "metadata": {},
     "output_type": "display_data"
    },
    {
     "data": {
      "application/vnd.jupyter.widget-view+json": {
       "model_id": "719d5453bb3b415c939784e060af3c5d",
       "version_major": 2,
       "version_minor": 0
      },
      "text/plain": [
       "  0%|          | 0/22 [00:00<?, ?it/s]"
      ]
     },
     "metadata": {},
     "output_type": "display_data"
    },
    {
     "data": {
      "application/vnd.jupyter.widget-view+json": {
       "model_id": "fe23150c472641f08c2d34182616c628",
       "version_major": 2,
       "version_minor": 0
      },
      "text/plain": [
       "  0%|          | 0/22 [00:00<?, ?it/s]"
      ]
     },
     "metadata": {},
     "output_type": "display_data"
    },
    {
     "data": {
      "application/vnd.jupyter.widget-view+json": {
       "model_id": "3ccbb721d3f04987a198e8d7711d00cd",
       "version_major": 2,
       "version_minor": 0
      },
      "text/plain": [
       "  0%|          | 0/22 [00:00<?, ?it/s]"
      ]
     },
     "metadata": {},
     "output_type": "display_data"
    },
    {
     "data": {
      "application/vnd.jupyter.widget-view+json": {
       "model_id": "9e8d6cd76ae94f8f8643e6fd50675588",
       "version_major": 2,
       "version_minor": 0
      },
      "text/plain": [
       "  0%|          | 0/22 [00:00<?, ?it/s]"
      ]
     },
     "metadata": {},
     "output_type": "display_data"
    },
    {
     "data": {
      "application/vnd.jupyter.widget-view+json": {
       "model_id": "d3b83d5692464e8aa1c9c3d64de694d4",
       "version_major": 2,
       "version_minor": 0
      },
      "text/plain": [
       "  0%|          | 0/22 [00:00<?, ?it/s]"
      ]
     },
     "metadata": {},
     "output_type": "display_data"
    },
    {
     "data": {
      "application/vnd.jupyter.widget-view+json": {
       "model_id": "954b3cbdb3a74fdc9f3169d45b53e473",
       "version_major": 2,
       "version_minor": 0
      },
      "text/plain": [
       "  0%|          | 0/22 [00:00<?, ?it/s]"
      ]
     },
     "metadata": {},
     "output_type": "display_data"
    },
    {
     "data": {
      "application/vnd.jupyter.widget-view+json": {
       "model_id": "97843b7f4d6f486da3c646fb9ef4b603",
       "version_major": 2,
       "version_minor": 0
      },
      "text/plain": [
       "  0%|          | 0/22 [00:00<?, ?it/s]"
      ]
     },
     "metadata": {},
     "output_type": "display_data"
    },
    {
     "name": "stdout",
     "output_type": "stream",
     "text": [
      "Average Test Accuracy: 97.94%\n",
      "Elapsed time: 0.1153479995727539 s\n"
     ]
    }
   ],
   "source": [
    "best_acc, best_epoch = 0, 0\n",
    "test_acc=[]\n",
    "test_loss=[]\n",
    "with torch.no_grad(): # Gradient 연산 비활성화\n",
    "    for _ in range(iteration):\n",
    "        starter.record()\n",
    "        \n",
    "        correct = 0\n",
    "        total = 0\n",
    "    \n",
    "        test_bar = tqdm(test_loader, file=sys.stdout)\n",
    "        for step, (x, y) in enumerate(test_bar):\n",
    "            x, y = x.to(device), y.to(device)\n",
    "            logits_test = model(x)\n",
    "            loss = criterion(logits_test, y)\n",
    "            preds = logits_test.argmax(dim=1)\n",
    "            correct += torch.eq(preds, y).sum().item()\n",
    "            total += y.size(0)\n",
    "            \n",
    "            test_bar.desc = \"test iteration[{}/{}] loss:{:.3f}\".format(_ + 1,\n",
    "                                                                     iteration,\n",
    "                                                                     loss)\n",
    "        \n",
    "        accuracy = correct / total\n",
    "        test_acc.append(accuracy)  # append를 사용하여 정확도를 리스트에 추가\n",
    "        \n",
    "        ender.record()\n",
    "        torch.cuda.synchronize() # Gpu 연산이 완료될 때까지 대기\n",
    "\n",
    "average_acc = sum(test_acc) / iteration  # sum 함수와 iteration으로 나누어 평균 계산\n",
    "print(f\"Average Test Accuracy: {average_acc * 100:.2f}%\")\n",
    "\n",
    "infer_time = starter.elapsed_time(ender)\n",
    "print(\"Elapsed time: {} s\".format(infer_time * 1e-3)) # milliseconds to second"
   ]
  },
  {
   "cell_type": "markdown",
   "id": "f13850ee-bbb1-4a87-b701-fc3f74ad9a9e",
   "metadata": {},
   "source": [
    "# Record"
   ]
  },
  {
   "cell_type": "code",
   "execution_count": 20,
   "id": "c9951963-887d-400b-9cd8-9e5a74d7fa2f",
   "metadata": {},
   "outputs": [],
   "source": [
    "results = [train_acc, train_loss, val_acc, val_loss]\n",
    "for i in range(len(results[1])):  # Assuming results[1] refers to train_loss\n",
    "    results[1][i] = results[1][i].item()\n",
    "for i in range(len(results[3])):\n",
    "    results[3][i]=results[3][i].item()"
   ]
  },
  {
   "cell_type": "code",
   "execution_count": 21,
   "id": "aa5e7b1a-b6b9-4b08-b1bb-f6c7ca41d6ec",
   "metadata": {},
   "outputs": [
    {
     "data": {
      "image/png": "[encoded data removed]",
      "text/plain": [
       "<Figure size 640x480 with 1 Axes>"
      ]
     },
     "metadata": {},
     "output_type": "display_data"
    },
    {
     "data": {
      "image/png": "[encoded data removed]",
      "text/plain": [
       "<Figure size 640x480 with 1 Axes>"
      ]
     },
     "metadata": {},
     "output_type": "display_data"
    }
   ],
   "source": [
    "plt.plot(results[0])\n",
    "plt.plot(results[2])\n",
    "plt.legend(['Train Acc', 'Val Acc', 'Test Acc'])\n",
    "plt.title('Train vs Val vs Test Acc')\n",
    "plt.xlabel('Epoch')\n",
    "plt.ylabel('Accuracy')\n",
    "plt.grid()\n",
    "plt.show()\n",
    "plt.plot(results[1])\n",
    "plt.plot(results[3])\n",
    "plt.legend(['Train Loss', 'Val Loss'])\n",
    "plt.title('Train vs Val Loss')\n",
    "plt.xlabel('Epoch')\n",
    "plt.ylabel('Accuracy')\n",
    "plt.grid()\n",
    "plt.show()"
   ]
  },
  {
   "cell_type": "code",
   "execution_count": 22,
   "id": "b0777384-a574-43e0-84c5-8516021fecf5",
   "metadata": {},
   "outputs": [
    {
     "name": "stdout",
     "output_type": "stream",
     "text": [
      "ConvNet1D(\n",
      "  (layer1): Sequential(\n",
      "    (0): Conv1d(1, 4, kernel_size=(3,), stride=(1,), padding=(1,))\n",
      "    (1): MaxPool1d(kernel_size=2, stride=2, padding=0, dilation=1, ceil_mode=False)\n",
      "  )\n",
      "  (layer2): Sequential(\n",
      "    (0): Conv1d(4, 8, kernel_size=(3,), stride=(1,), padding=(1,))\n",
      "    (1): MaxPool1d(kernel_size=2, stride=2, padding=0, dilation=1, ceil_mode=False)\n",
      "  )\n",
      "  (layer3): Sequential(\n",
      "    (0): Conv1d(8, 16, kernel_size=(3,), stride=(1,), padding=(1,))\n",
      "    (1): MaxPool1d(kernel_size=2, stride=2, padding=0, dilation=1, ceil_mode=False)\n",
      "  )\n",
      "  (fc): Sequential(\n",
      "    (0): Linear(in_features=368, out_features=60, bias=True)\n",
      "    (1): LeakyReLU(negative_slope=0.01, inplace=True)\n",
      "    (2): Linear(in_features=60, out_features=5, bias=True)\n",
      "  )\n",
      ")\n"
     ]
    }
   ],
   "source": [
    "print(model)"
   ]
  },
  {
   "cell_type": "code",
   "execution_count": 23,
   "id": "3e443861-6597-4622-bbb0-08fbec466131",
   "metadata": {},
   "outputs": [
    {
     "name": "stdout",
     "output_type": "stream",
     "text": [
      "----------------------------------------------------------------\n",
      "        Layer (type)               Output Shape         Param #\n",
      "================================================================\n",
      "            Conv1d-1               [-1, 4, 187]              16\n",
      "         MaxPool1d-2                [-1, 4, 93]               0\n",
      "            Conv1d-3                [-1, 8, 93]             104\n",
      "         MaxPool1d-4                [-1, 8, 46]               0\n",
      "            Conv1d-5               [-1, 16, 46]             400\n",
      "         MaxPool1d-6               [-1, 16, 23]               0\n",
      "            Linear-7                   [-1, 60]          22,140\n",
      "         LeakyReLU-8                   [-1, 60]               0\n",
      "            Linear-9                    [-1, 5]             305\n",
      "================================================================\n",
      "Total params: 22,965\n",
      "Trainable params: 22,965\n",
      "Non-trainable params: 0\n",
      "----------------------------------------------------------------\n",
      "Input size (MB): 0.00\n",
      "Forward/backward pass size (MB): 0.03\n",
      "Params size (MB): 0.09\n",
      "Estimated Total Size (MB): 0.11\n",
      "----------------------------------------------------------------\n"
     ]
    }
   ],
   "source": [
    "summary(model, input_size=(1, 187))"
   ]
  },
  {
   "cell_type": "code",
   "execution_count": 24,
   "id": "93a64f47-ee59-4abb-8c03-42106c1cd492",
   "metadata": {},
   "outputs": [
    {
     "name": "stdout",
     "output_type": "stream",
     "text": [
      "0\n"
     ]
    },
    {
     "name": "stderr",
     "output_type": "stream",
     "text": [
      "dot - graphviz version 2.50.0 (0)\n"
     ]
    }
   ],
   "source": [
    "print(os.system('dot -V'))"
   ]
  },
  {
   "cell_type": "code",
   "execution_count": 25,
   "id": "b0ba4fb4-d36d-4ef0-9460-aa6ee41aceea",
   "metadata": {},
   "outputs": [
    {
     "data": {
      "image/png": "[encoded data removed]",
      "text/plain": [
       "<IPython.core.display.Image object>"
      ]
     },
     "execution_count": 25,
     "metadata": {},
     "output_type": "execute_result"
    }
   ],
   "source": [
    "make_dot(logits, params=dict(list(model.named_parameters()))).render(\"proposed\", format=\"png\")\n",
    "Image(filename='proposed.png')"
   ]
  },
  {
   "cell_type": "code",
   "execution_count": 26,
   "id": "64933c33-0ea5-4a60-b231-dcf801c10137",
   "metadata": {},
   "outputs": [
    {
     "name": "stdout",
     "output_type": "stream",
     "text": [
      "layer1 Parameter containing:\n",
      "tensor([[[-0.7993, -1.1469, -1.0327]],\n",
      "\n",
      "        [[-1.7543, -1.3030,  0.2828]],\n",
      "\n",
      "        [[ 0.2841,  0.9000,  0.8352]],\n",
      "\n",
      "        [[-0.9640, -1.0500, -0.2000]]], device='cuda:0', requires_grad=True)\n",
      "layer1 Parameter containing:\n",
      "tensor([-0.0266,  0.0625, -0.1830,  0.3152], device='cuda:0',\n",
      "       requires_grad=True)\n",
      "layer2 Parameter containing:\n",
      "tensor([[[-5.9937e-01, -3.1515e-01,  3.3502e-01],\n",
      "         [-6.0029e-02, -7.2328e-02,  1.0097e-02],\n",
      "         [ 6.4916e-01, -1.2589e-01, -1.0656e-01],\n",
      "         [-7.3334e-01, -4.0901e-01, -4.8351e-01]],\n",
      "\n",
      "        [[-7.5035e-01, -8.5021e-02,  3.9201e-01],\n",
      "         [-7.5661e-01, -1.1452e-01,  7.4776e-01],\n",
      "         [ 9.0881e-01, -6.1149e-01, -8.6553e-02],\n",
      "         [-5.3320e-01,  2.8717e-01,  6.5514e-01]],\n",
      "\n",
      "        [[-4.3082e-02, -5.1818e-04, -2.4276e-01],\n",
      "         [ 9.5029e-02, -7.9023e-02,  5.4739e-02],\n",
      "         [ 4.3824e-02,  1.7280e-01,  1.2224e-01],\n",
      "         [-6.2983e-02, -4.7705e-01, -4.8108e-01]],\n",
      "\n",
      "        [[-6.9684e-03, -3.1923e-01, -1.6643e-01],\n",
      "         [ 1.1139e-01, -1.0963e-01, -9.7157e-02],\n",
      "         [-1.4678e-01,  4.5575e-02,  2.0128e-01],\n",
      "         [ 2.0957e-01, -7.5323e-02, -4.8674e-01]],\n",
      "\n",
      "        [[ 2.4552e-01,  4.6557e-01,  5.4727e-01],\n",
      "         [-1.7286e-01, -1.0229e-01,  6.0853e-01],\n",
      "         [-1.9982e-02, -9.2992e-02,  1.5446e-01],\n",
      "         [-1.7681e-02,  2.4513e-01,  9.2446e-01]],\n",
      "\n",
      "        [[ 5.6300e-01,  1.4460e-01, -2.3202e-01],\n",
      "         [ 2.5017e-01,  7.3800e-01, -6.4563e-01],\n",
      "         [-3.4219e-01,  2.8305e-01,  2.6395e-01],\n",
      "         [ 9.3869e-01,  6.2681e-01, -7.2306e-01]],\n",
      "\n",
      "        [[-3.3723e-01,  2.3794e-01, -1.8496e-01],\n",
      "         [-3.0420e-01,  4.0708e-01,  3.5990e-01],\n",
      "         [ 2.6464e-01, -1.5230e-01,  3.5460e-01],\n",
      "         [-5.8270e-01,  7.8644e-01, -1.0389e-01]],\n",
      "\n",
      "        [[-3.3844e-01,  4.4522e-01,  3.1728e-01],\n",
      "         [ 1.4963e-01,  1.7813e-01,  5.2097e-01],\n",
      "         [-1.0843e-01, -9.6254e-02,  3.2180e-01],\n",
      "         [-1.8538e-01,  6.2628e-01,  7.6795e-01]]], device='cuda:0',\n",
      "       requires_grad=True)\n",
      "layer2 Parameter containing:\n",
      "tensor([-0.1862, -0.1947, -0.0402, -0.2945,  0.1087, -0.0163,  0.1526,  0.1299],\n",
      "       device='cuda:0', requires_grad=True)\n",
      "layer3 Parameter containing:\n",
      "tensor([[[-0.4602,  0.1734, -0.1879],\n",
      "         [-0.4750,  0.2859, -0.4265],\n",
      "         [-0.1901,  0.1373, -0.1525],\n",
      "         [-0.0411,  0.0091,  0.2984],\n",
      "         [ 0.2567, -0.0013, -0.6351],\n",
      "         [ 0.5879, -0.0566, -0.2198],\n",
      "         [-0.3414,  0.5498, -0.2374],\n",
      "         [ 0.0429,  0.0809, -0.4152]],\n",
      "\n",
      "        [[ 0.3381, -0.4361,  0.1156],\n",
      "         [ 0.4391, -0.5208, -0.2920],\n",
      "         [-0.1047,  0.0944,  0.3876],\n",
      "         [-0.2555, -0.0364,  0.6929],\n",
      "         [ 0.0513,  0.2207, -0.4201],\n",
      "         [ 0.2040,  0.0031, -0.1619],\n",
      "         [-0.1462,  0.1017, -0.2289],\n",
      "         [ 0.3356,  0.3871, -0.2093]],\n",
      "\n",
      "        [[-0.0825, -0.2196,  0.2788],\n",
      "         [-0.1567, -0.0761,  0.0634],\n",
      "         [ 0.2304,  0.1606, -0.1657],\n",
      "         [-0.0497, -0.0916, -0.1613],\n",
      "         [ 0.3980,  0.2727, -0.4615],\n",
      "         [-0.0341,  0.4839,  0.0671],\n",
      "         [-0.0997, -0.1676,  0.1749],\n",
      "         [ 0.2858,  0.2947, -0.5161]],\n",
      "\n",
      "        [[-0.2037, -0.5377, -0.2180],\n",
      "         [-0.2294, -0.6806, -0.0276],\n",
      "         [-0.1119, -0.1196, -0.0780],\n",
      "         [-0.1261, -0.2050, -0.1555],\n",
      "         [-0.5816, -0.4515,  0.4267],\n",
      "         [ 0.2060, -0.7945, -0.3610],\n",
      "         [ 0.0186, -0.4944, -0.1051],\n",
      "         [-0.5184, -0.5318,  0.6806]],\n",
      "\n",
      "        [[-0.1438, -0.5388,  0.2746],\n",
      "         [-0.4262, -0.3419,  0.5961],\n",
      "         [-0.2216,  0.0366,  0.1568],\n",
      "         [-0.3364,  0.3160,  0.1340],\n",
      "         [ 0.1287,  0.2165,  0.3222],\n",
      "         [-0.4635,  0.2610,  0.4231],\n",
      "         [-0.5298, -0.1477,  0.2186],\n",
      "         [-0.3415,  0.0861,  0.1308]],\n",
      "\n",
      "        [[-0.4014, -0.0851,  0.4362],\n",
      "         [-0.3537, -0.2084,  0.0588],\n",
      "         [-0.2699, -0.0325,  0.3361],\n",
      "         [-0.0727,  0.3151,  0.2902],\n",
      "         [ 0.4554, -0.4577, -0.0796],\n",
      "         [ 0.7573,  0.1308, -0.2040],\n",
      "         [-0.1582, -0.1652, -0.2310],\n",
      "         [ 0.4567, -0.4974, -0.2564]],\n",
      "\n",
      "        [[-0.4429, -0.0779,  0.2750],\n",
      "         [-0.4398,  0.0157,  0.2285],\n",
      "         [ 0.1415,  0.2548,  0.2261],\n",
      "         [-0.0076,  0.3519,  0.2810],\n",
      "         [ 0.2727,  0.2047,  0.0777],\n",
      "         [-0.1967, -0.2019, -0.1847],\n",
      "         [-0.0395, -0.0640,  0.2440],\n",
      "         [-0.0829,  0.1568,  0.1971]],\n",
      "\n",
      "        [[-0.4632,  0.3162, -0.1552],\n",
      "         [-0.6527,  0.7272, -0.1816],\n",
      "         [-0.1124, -0.1764, -0.1423],\n",
      "         [ 0.1058,  0.0379, -0.2917],\n",
      "         [-0.2542,  0.2048, -0.2707],\n",
      "         [ 0.3925, -0.2234,  0.6295],\n",
      "         [-0.2719,  0.3011, -0.4814],\n",
      "         [-0.2812,  0.1594, -0.4377]],\n",
      "\n",
      "        [[ 0.0217,  0.2314,  0.0682],\n",
      "         [-0.1389,  0.5063, -0.8359],\n",
      "         [ 0.0783, -0.0506,  0.0947],\n",
      "         [ 0.2271, -0.2460, -0.0848],\n",
      "         [-0.0445,  0.5572, -0.0942],\n",
      "         [-0.2137, -0.1992,  0.2408],\n",
      "         [-0.0473,  0.1812, -0.2285],\n",
      "         [ 0.1014,  0.2943, -0.0769]],\n",
      "\n",
      "        [[ 0.5572, -0.2652,  0.1204],\n",
      "         [ 0.4284, -0.1295, -0.3743],\n",
      "         [-0.0190, -0.2698,  0.2052],\n",
      "         [ 0.0616, -0.0088, -0.0135],\n",
      "         [ 0.0980,  0.5783, -0.0854],\n",
      "         [-0.2743,  0.2319,  0.0279],\n",
      "         [ 0.1576,  0.0637, -0.0839],\n",
      "         [ 0.1768,  0.5145, -0.1979]],\n",
      "\n",
      "        [[ 0.5472,  0.4619, -0.1483],\n",
      "         [ 0.1787,  0.3403,  0.4269],\n",
      "         [ 0.3048,  0.1665, -0.2389],\n",
      "         [ 0.3021,  0.0970, -0.4814],\n",
      "         [-0.2743,  0.3744,  0.8164],\n",
      "         [-0.6068, -0.4684,  0.2887],\n",
      "         [-0.0973, -0.0035, -0.2403],\n",
      "         [-0.2898,  0.0984,  0.5377]],\n",
      "\n",
      "        [[ 0.0740, -0.2944,  0.1493],\n",
      "         [-0.0901, -0.5052, -0.3738],\n",
      "         [-0.1231, -0.2059,  0.2886],\n",
      "         [-0.2129, -0.2285,  0.1088],\n",
      "         [ 0.0727,  0.0458, -0.0078],\n",
      "         [-0.0821,  0.1647, -0.0055],\n",
      "         [ 0.1209, -0.5249, -0.2773],\n",
      "         [ 0.0269, -0.1623, -0.1556]],\n",
      "\n",
      "        [[-0.0659,  0.1020,  0.0032],\n",
      "         [-0.6559, -0.2539,  0.0692],\n",
      "         [ 0.1295,  0.1901, -0.1015],\n",
      "         [ 0.2369,  0.1973, -0.4603],\n",
      "         [-0.1824,  0.0196,  0.0289],\n",
      "         [ 0.4391, -0.2181, -0.4185],\n",
      "         [-0.3623, -0.2703, -0.1325],\n",
      "         [-0.1968, -0.1944,  0.1302]],\n",
      "\n",
      "        [[ 0.0916,  0.4346,  0.1881],\n",
      "         [-0.1654, -0.0462,  0.0962],\n",
      "         [ 0.1640,  0.1199,  0.0388],\n",
      "         [ 0.2487,  0.0798, -0.0337],\n",
      "         [-0.1688, -0.0578,  0.5301],\n",
      "         [ 0.2714,  0.1931, -0.1574],\n",
      "         [ 0.2631,  0.2330,  0.0365],\n",
      "         [-0.0646,  0.1070,  0.3162]],\n",
      "\n",
      "        [[-0.3054,  0.3449,  0.0849],\n",
      "         [-0.1017,  0.0667,  0.4774],\n",
      "         [-0.0057,  0.0321, -0.2148],\n",
      "         [ 0.0464,  0.2839, -0.0277],\n",
      "         [ 0.1218, -0.1840,  0.1342],\n",
      "         [-0.1301,  0.3962,  0.6309],\n",
      "         [-0.1320,  0.0733,  0.2503],\n",
      "         [ 0.0082, -0.2170,  0.0606]],\n",
      "\n",
      "        [[ 0.2092, -0.1750,  0.3248],\n",
      "         [-0.1225,  0.1219,  0.1030],\n",
      "         [-0.2421,  0.3184, -0.2227],\n",
      "         [-0.1767,  0.2242, -0.1653],\n",
      "         [-0.0363,  0.8663, -0.5045],\n",
      "         [-0.2315,  0.2177,  0.0960],\n",
      "         [-0.1625, -0.0905,  0.1879],\n",
      "         [-0.1448,  0.7660, -0.1841]]], device='cuda:0', requires_grad=True)\n",
      "layer3 Parameter containing:\n",
      "tensor([-0.2199, -0.1549,  0.0500, -0.2993,  0.0713, -0.1497,  0.0824,  0.0549,\n",
      "        -0.0007, -0.2025, -0.0877,  0.2309, -0.3060, -0.1576,  0.0568, -0.0766],\n",
      "       device='cuda:0', requires_grad=True)\n",
      "fc Parameter containing:\n",
      "tensor([[ 1.1875e+00,  4.6092e-01, -2.4204e-01,  ..., -1.2151e-01,\n",
      "          6.8629e-03, -4.2223e-02],\n",
      "        [ 2.2592e-01,  8.7420e-02, -3.2591e-01,  ..., -2.9638e-02,\n",
      "          2.9262e-02, -3.3038e-01],\n",
      "        [-2.6482e-01, -1.6710e-01,  2.0368e-02,  ..., -9.7540e-02,\n",
      "         -3.0719e-02,  6.4160e-02],\n",
      "        ...,\n",
      "        [-4.0820e-01, -4.9252e-02, -4.6896e-01,  ...,  2.0840e-01,\n",
      "         -2.6485e-01, -1.3003e-01],\n",
      "        [-7.2525e-01, -1.2135e-02,  4.4845e-01,  ...,  7.5971e-02,\n",
      "         -2.4623e-01, -1.3270e-01],\n",
      "        [-1.0349e-02,  5.4175e-02, -1.0494e-03,  ...,  8.1525e-02,\n",
      "         -2.3380e-02,  7.6416e-02]], device='cuda:0', requires_grad=True)\n",
      "fc Parameter containing:\n",
      "tensor([-0.0838, -0.4309,  0.1677, -0.3456,  0.0781,  0.2397, -0.0718, -0.0559,\n",
      "         0.1997,  0.1036, -0.0206, -0.0861,  0.0515, -0.1192,  0.0107,  0.0349,\n",
      "        -0.1541,  0.0292,  0.0903, -0.0460, -0.0015, -0.0173,  0.0453, -0.1008,\n",
      "        -0.1370, -0.1018,  0.0088,  0.1236,  0.0080, -0.0646, -0.0887, -0.0045,\n",
      "        -0.1635,  0.0391,  0.1752, -0.0807,  0.2279, -0.2613, -0.2243, -0.0765,\n",
      "         0.2036,  0.0106, -0.0647,  0.0217,  0.0800,  0.0490, -0.0529, -0.0631,\n",
      "        -0.1043,  0.0624, -0.0295, -0.1560, -0.1047, -0.0290, -0.0865, -0.0373,\n",
      "        -0.2795, -0.2780,  0.0355, -0.0481], device='cuda:0',\n",
      "       requires_grad=True)\n",
      "fc Parameter containing:\n",
      "tensor([[ 1.1615e-02, -3.6894e-01,  1.1895e-01, -2.3694e-01, -4.3612e-02,\n",
      "          1.8488e-01,  1.8587e-01,  1.0321e-01, -4.0096e-01, -1.0277e-01,\n",
      "          7.1073e-02,  2.7039e-01,  2.6156e-02, -1.9234e-01,  3.1419e-01,\n",
      "          3.3651e-01, -1.8869e-01,  5.7268e-01, -3.1111e-01, -3.7853e-01,\n",
      "          2.0309e-01,  2.9602e-01,  2.1143e-01, -4.0168e-01,  1.4505e-01,\n",
      "          2.7840e-01,  2.7416e-01, -3.2498e-01, -1.3241e-01, -3.9889e-01,\n",
      "          1.6801e-01,  7.6932e-02,  3.1411e-01,  2.3556e-01, -2.1670e-01,\n",
      "          3.3384e-01, -1.5104e-01,  1.6077e-01, -4.3030e-01,  6.5337e-02,\n",
      "          1.8459e-01, -6.1896e-02,  1.2682e-01,  1.4314e-01,  1.1085e-01,\n",
      "          1.0796e-01,  1.3646e-01, -4.7482e-01,  1.8244e-01,  4.2479e-02,\n",
      "          2.0481e-02, -1.1415e-01,  9.4303e-02,  1.0352e-01, -5.5462e-01,\n",
      "         -5.3817e-01, -1.3009e-01, -5.1346e-01, -5.1557e-03, -1.6177e-01],\n",
      "        [ 5.0394e-01, -2.7998e-01,  1.1741e-01,  1.3195e-01, -2.5721e-01,\n",
      "          2.8741e-02, -2.6725e-01, -4.0145e-01,  4.6189e-01,  1.9981e-01,\n",
      "          2.0831e-01,  1.7273e-01, -5.2626e-01, -5.2699e-01, -1.0008e-01,\n",
      "         -3.6916e-01,  1.4225e-01, -1.0742e-01,  3.2887e-01,  2.2016e-01,\n",
      "          2.6873e-01, -1.2527e-01, -3.1637e-02,  1.8959e-01,  8.3235e-02,\n",
      "         -8.8522e-01, -5.2411e-01,  1.2501e-01,  1.1871e-01,  1.5326e-01,\n",
      "          3.1709e-02, -3.1303e-01,  1.4773e-01,  8.4783e-03, -1.4196e-01,\n",
      "          3.7596e-01,  8.0090e-02,  5.2829e-01,  1.7439e-01, -4.3894e-01,\n",
      "          5.9731e-01,  3.1534e-02, -2.1935e-01,  4.5030e-02, -7.4862e-01,\n",
      "          8.3141e-02,  4.8496e-01,  7.8917e-01, -2.0175e-01,  3.0499e-01,\n",
      "         -8.4153e-01, -1.2850e+00, -3.1106e-01, -1.7466e-01,  1.6168e-01,\n",
      "          3.8070e-01,  7.1321e-02,  4.8618e-01,  5.4140e-02,  2.2339e-01],\n",
      "        [-1.1358e-01,  5.7026e-01,  7.3456e-03,  2.7391e-01,  2.4584e-01,\n",
      "         -6.5878e-01, -9.4926e-03,  2.2936e-01,  3.2723e-01,  9.4910e-02,\n",
      "          1.8448e-01, -1.3097e-01,  2.7465e-01,  4.3380e-01, -4.4843e-01,\n",
      "         -1.3196e-01,  4.3088e-01, -2.5901e-01,  3.0645e-01,  3.8010e-01,\n",
      "         -3.0330e-01, -3.6389e-02,  6.9288e-02, -3.6656e-01, -2.7983e-01,\n",
      "         -1.9320e-01,  1.5171e-01, -3.2848e-03,  2.9537e-01,  6.6292e-01,\n",
      "         -2.0642e-01, -3.9938e-02, -2.1167e-01, -2.9017e-01,  4.0288e-01,\n",
      "         -4.0381e-01,  2.8606e-01, -3.8348e-01,  3.1585e-01,  2.8947e-01,\n",
      "         -1.0004e+00, -1.2609e-01, -1.2125e-01,  1.1255e-01, -2.2862e-01,\n",
      "         -3.6520e-01, -4.4732e-01,  5.6489e-02,  1.3836e-02, -2.2460e-01,\n",
      "          5.1477e-01,  3.9996e-01, -1.4379e-01, -5.1068e-01,  1.3866e-01,\n",
      "          5.8217e-01,  2.1816e-01,  2.3368e-03,  3.5710e-01,  1.0028e-01],\n",
      "        [-9.2513e-01,  4.5622e-01, -8.0453e-01, -5.6768e-01, -5.2603e-01,\n",
      "         -1.7813e-01,  3.4771e-01,  1.5545e-01,  1.7074e-01, -9.1119e-02,\n",
      "          3.1785e-02, -3.9974e-01,  5.4119e-02,  2.9510e-01, -6.5399e-01,\n",
      "          7.5826e-02,  2.4627e-01, -1.4639e+00, -4.6582e-03,  1.4479e-01,\n",
      "          2.6340e-01, -2.3054e-01,  2.0236e-01,  1.0424e-01,  6.1150e-02,\n",
      "          4.6569e-02, -4.6721e-01,  1.6938e-01,  2.2350e-01, -1.0347e+00,\n",
      "          7.8327e-02,  2.3566e-01, -4.1462e-01,  6.5929e-02,  9.5029e-02,\n",
      "         -8.6193e-02,  9.1316e-02, -5.5187e-01,  2.7565e-01,  9.0024e-02,\n",
      "         -3.1681e-01, -1.4279e-01,  1.5785e-01,  1.2375e-01, -2.7828e-01,\n",
      "          1.6649e-01, -2.4343e-01, -6.9050e-02,  1.7858e-01, -2.6404e-01,\n",
      "          4.2229e-01,  1.2970e-01, -2.8216e-01,  1.4282e-01, -1.5281e-01,\n",
      "         -1.8592e-01, -3.0194e-01, -3.1760e-02, -8.2104e-03,  3.6213e-02],\n",
      "        [ 4.0678e-02, -3.2807e-01, -1.3313e-01, -4.6411e-01,  1.8724e-01,\n",
      "          1.2943e-01, -6.3511e-01, -1.4929e-01, -1.4944e-01, -3.9091e-01,\n",
      "         -5.5395e-01, -4.3132e-01,  4.7769e-02,  1.2853e-01,  2.5479e-01,\n",
      "         -1.0982e+00, -8.8252e-01, -1.0771e+00,  1.0525e-01,  2.7943e-01,\n",
      "         -3.8920e-01, -4.2764e-01, -6.4464e-01,  6.8407e-01,  4.0953e-01,\n",
      "          3.9125e-01, -1.6078e-01,  3.4770e-01, -4.3518e-01, -2.6662e-01,\n",
      "         -1.8828e-01,  1.9973e-01, -1.2695e-01,  2.2175e-02,  1.9077e-01,\n",
      "         -5.1445e-01,  5.5940e-01, -2.1590e-01, -7.8233e-01, -1.3713e-01,\n",
      "         -6.3364e-01,  1.2839e-04,  1.2734e-02, -3.9293e-01,  5.2519e-01,\n",
      "         -1.4944e-01, -4.0785e-01, -2.9366e-01, -1.7004e-01,  2.5516e-01,\n",
      "         -7.4460e-01,  1.5616e-01,  9.7295e-02,  2.7763e-01,  3.7313e-01,\n",
      "         -3.6793e-01, -1.0547e-01,  3.0384e-01, -5.8227e-01, -8.6332e-02]],\n",
      "       device='cuda:0', requires_grad=True)\n",
      "fc Parameter containing:\n",
      "tensor([ 0.0343, -0.0071, -0.0681,  0.0531,  0.1600], device='cuda:0',\n",
      "       requires_grad=True)\n"
     ]
    }
   ],
   "source": [
    "for name, child in model.named_children():\n",
    "    for param in child.parameters():\n",
    "        print(name, param)"
   ]
  },
  {
   "cell_type": "code",
   "execution_count": null,
   "id": "88dc265d-279f-4249-8d88-ad78829e8d10",
   "metadata": {},
   "outputs": [],
   "source": []
  }
 ],
 "metadata": {
  "kernelspec": {
   "display_name": "Python 3 (ipykernel)",
   "language": "python",
   "name": "python3"
  },
  "language_info": {
   "codemirror_mode": {
    "name": "ipython",
    "version": 3
   },
   "file_extension": ".py",
   "mimetype": "text/x-python",
   "name": "python",
   "nbconvert_exporter": "python",
   "pygments_lexer": "ipython3",
   "version": "3.11.9"
  }
 },
 "nbformat": 4,
 "nbformat_minor": 5
}
